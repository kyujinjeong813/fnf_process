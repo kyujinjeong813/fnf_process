{
 "cells": [
  {
   "cell_type": "code",
   "execution_count": 8,
   "metadata": {
    "collapsed": true
   },
   "outputs": [
    {
     "name": "stderr",
     "output_type": "stream",
     "text": [
      "c:\\users\\kyujin\\venv\\lib\\site-packages\\ipykernel_launcher.py:7: SettingWithCopyWarning: \n",
      "A value is trying to be set on a copy of a slice from a DataFrame.\n",
      "Try using .loc[row_indexer,col_indexer] = value instead\n",
      "\n",
      "See the caveats in the documentation: https://pandas.pydata.org/pandas-docs/stable/user_guide/indexing.html#returning-a-view-versus-a-copy\n",
      "  import sys\n"
     ]
    }
   ],
   "source": [
    "import pandas as pd\n",
    "from datetime import datetime\n",
    "\n",
    "today = datetime.now()\n",
    "\n",
    "df = pd.read_csv('C:/Users/kyujin/PycharmProjects/design/fashion_cafe/gocd.csv')\n",
    "df[df['issue_date'].str.contains(':', na=False)]['issue_date'] = today.strftime(\"%Y_%m_%d\")\n",
    "\n"
   ]
  },
  {
   "cell_type": "code",
   "execution_count": 9,
   "outputs": [
    {
     "name": "stdout",
     "output_type": "stream",
     "text": [
      "    Unnamed: 0   issue_date  article_num        author  \\\n",
      "0            0  2020.08.17.       286184          GOCD   \n",
      "1            1  2020.08.05.       286183          GOCD   \n",
      "2            2  2020.07.24.       286182          GOCD   \n",
      "3            3  2014.08.26.       286181          GOCD   \n",
      "4            4  2020.04.19.       286180          GOCD   \n",
      "5            5        14:13       286179        제주가좋더라   \n",
      "6            6        14:07       286178         시티보이즌   \n",
      "7            7        14:02       286177         눈부셔베베   \n",
      "8            8        14:01       286174       이시하라사토미   \n",
      "9            9        13:57       286173           반지방   \n",
      "10          10        13:42       286170      타조야홍차좀타조   \n",
      "11          11        13:30       286167        중경301기   \n",
      "12          12        13:26       286166        천안호두연두   \n",
      "13          13        13:14       286165  christianlgy   \n",
      "14          14        13:09       286161         폴로매니아   \n",
      "15          15        12:40       286160         항상배고픔   \n",
      "16          16        12:12       286157     pleasey14   \n",
      "17          17        12:10       286156      zeroroad   \n",
      "18          18        12:08       286154       OKNOTOK   \n",
      "19          19        12:00       286152        삼룡동루카쿠   \n",
      "20          20        11:58       286149       숲으로도망가자   \n",
      "21          21        11:44       286146        xxhdlr   \n",
      "22          22        11:44       286143          쌍문가이   \n",
      "23          23        11:38       286138         IJIJI   \n",
      "24          24        11:22       286137          모르고스   \n",
      "25          25        11:11       286135           옷덕이   \n",
      "26          26        11:09       286134      fernando   \n",
      "27          27        11:07       286131            얼뜨   \n",
      "28          28        10:45       286130            해쏼   \n",
      "29          29        10:42       286129           뽀빠E   \n",
      "30          30        10:39       286127          v1dd   \n",
      "31          31        10:36       286125     awesome33   \n",
      "32          32        10:18       286124         시티보이즌   \n",
      "33          33        10:17       286123         Junes   \n",
      "34          34        10:13       286120       inc1605   \n",
      "35          35        10:07       286119            콩떡   \n",
      "36          36        10:06       286118           뽀꿀롬   \n",
      "37          37        10:04       286114         Polo충   \n",
      "38          38        09:52       286113        xxhdlr   \n",
      "39          39        09:39       286112             뮁   \n",
      "40          40        09:27       286110          유인농장   \n",
      "41          41        09:24       286109         ZJONO   \n",
      "42          42        07:57       286108          고가즈아   \n",
      "43          43        07:46       286106            98   \n",
      "44          44        07:13       286104         asdaw   \n",
      "45          45        03:47       286103           임현주   \n",
      "46          46        03:09       286101           톰앤탐   \n",
      "47          47        02:58       286100      0303jun2   \n",
      "48          48        02:19       286099           슈섹코   \n",
      "49          49        01:47       286094           카키호   \n",
      "\n",
      "                                                title  \\\n",
      "0   Rab WITH GOCD REVIEW - 세계 3대 다운 브랜드 중 하나인 랩 그리...   \n",
      "1   PATAGONIA WITH GOCD REVIEW - 실용성을 위해 만들어진 가방 P...   \n",
      "2   FJALLRAVEN WITH GOCD REVIEW - 일상에서 만나는 피엘라벤 DA...   \n",
      "3                                    2020 GOCD MANUAL   \n",
      "4                            바이럴 마케팅 브랜드 리스트 + 매뉴얼 강화   \n",
      "5                                   알든 6243 질문 올려봅니다!   \n",
      "6                            긴바지 안에 여름용 쿨타이즈 입어도 될까요?   \n",
      "7                                노란 신발 코디 사진 좀 공유해주세용   \n",
      "8                  리오파 국내에 45사이즈 들어오는 곳 아이엠샵 뿐인가요...?   \n",
      "9                           오라리 뉴발 앤드에서 이미 드로우 끝난건가요?   \n",
      "10                          오어슬로우 퍼티그, 프리마로프트 사이즈 질문!   \n",
      "11                                    옥스포드셔츠  흰색vs파란색   \n",
      "12                          993 정사이즈로 주문했는데 많이 불편할까요?   \n",
      "13                             알든 탱커 색상 투표 좀 부탁 드립니다.   \n",
      "14                                      맥스97 착화감 어떤가요   \n",
      "15                       작년 홀리선 패딩 사신 분들 어떠셨는지 궁금합니다.   \n",
      "16                              스튜디오 니콜슨 무드의 도메스틱 브랜드   \n",
      "17                               lesca lunetier 구매 고민   \n",
      "18                     Cos 와이드 데님 언제 입고되는지 아시는 분 계실까요   \n",
      "19                                     엔가 bdu자켓 질문이요!   \n",
      "20                                 991그레이  VS  993그레이   \n",
      "21                                 텔릭쪼리 사이즈 추천부탁드립니다ㅜ   \n",
      "22                                         비정상인가요....   \n",
      "23                                          마르지엘라 목걸이   \n",
      "24                                          레드윙 구매했는데   \n",
      "25                             오랜만에 질문드려요! 엔가 하이랜드 파카   \n",
      "26                                 남자 무난템 로퍼 추천 부탁드려요   \n",
      "27                           이거 챔피온 티셔츠 사이즈가 어떻게 될까요?   \n",
      "28                                   뉴발 530 재입고 사라마라?   \n",
      "29                                  오라리 슬랙스 추천 부탁드립니다   \n",
      "30                                   요새 일본 EMS 지연있나요?   \n",
      "31                                       뉴발 327 색상 고민   \n",
      "32                     이스트로그 배틀필드 데님팬츠 사이즈, 범용성 질문입니다   \n",
      "33                              유스 스트럭쳐 작년과 차이점이 있나요?   \n",
      "34                                      포터 가방 정품인가요??   \n",
      "35                                         이거 불량아닌가요?   \n",
      "36                                  저는 괜찮아 보이는데 어떠신가요   \n",
      "37  새로운 스타일에 대한 질문! 새로운 스타일 도전 {미니멀>>랄뽕룩>>스트릿패션(개성...   \n",
      "38                                       직구사이트 이용법 ㅜㅜ   \n",
      "39                            오어슬로우 105 잘 아시는 분 계실까요?   \n",
      "40                                                살로몬   \n",
      "41                                         993 정품인가요?   \n",
      "42                                    아페쎄 하프문백 구매처 문의   \n",
      "43                             경기도에 오어슬로우 취급 매장 있나요 ?   \n",
      "44                                      허벅지 엄청큰 퍼티그팬츠   \n",
      "45                            아크테릭스 넵튠 색상 데일리루 무난할까요?   \n",
      "46                              필그림 바람막이 사이즈 질문드립니다람쥐   \n",
      "47                                   미니멀 바지 추천좀 해주세요!   \n",
      "48                                        짭 질문 하나만더ㅜㅜ   \n",
      "49                             세컨팩토리 제품은 무조건 펀칭 있나요??   \n",
      "\n",
      "                                                  url    get_date view_count  \n",
      "0   /ArticleRead.nhn?clubid=19943558&menuid=64&boa...  2020-08-19      1,357  \n",
      "1   /ArticleRead.nhn?clubid=19943558&menuid=64&boa...  2020-08-19       1.6만  \n",
      "2   /ArticleRead.nhn?clubid=19943558&menuid=64&boa...  2020-08-19         1만  \n",
      "3   /ArticleRead.nhn?clubid=19943558&menuid=64&boa...  2020-08-19        14만  \n",
      "4   /ArticleRead.nhn?clubid=19943558&menuid=64&boa...  2020-08-19       1.1만  \n",
      "5   /ArticleRead.nhn?clubid=19943558&page=1&userDi...  2020-08-19         30  \n",
      "6   /ArticleRead.nhn?clubid=19943558&page=1&userDi...  2020-08-19         59  \n",
      "7   /ArticleRead.nhn?clubid=19943558&page=1&userDi...  2020-08-19         72  \n",
      "8   /ArticleRead.nhn?clubid=19943558&page=1&userDi...  2020-08-19        104  \n",
      "9   /ArticleRead.nhn?clubid=19943558&page=1&userDi...  2020-08-19        172  \n",
      "10  /ArticleRead.nhn?clubid=19943558&page=1&userDi...  2020-08-19        156  \n",
      "11  /ArticleRead.nhn?clubid=19943558&page=1&userDi...  2020-08-19        338  \n",
      "12  /ArticleRead.nhn?clubid=19943558&page=1&userDi...  2020-08-19        265  \n",
      "13  /ArticleRead.nhn?clubid=19943558&page=1&userDi...  2020-08-19        156  \n",
      "14  /ArticleRead.nhn?clubid=19943558&page=1&userDi...  2020-08-19        174  \n",
      "15  /ArticleRead.nhn?clubid=19943558&page=1&userDi...  2020-08-19        569  \n",
      "16  /ArticleRead.nhn?clubid=19943558&page=1&userDi...  2020-08-19        897  \n",
      "17  /ArticleRead.nhn?clubid=19943558&page=1&userDi...  2020-08-19        306  \n",
      "18  /ArticleRead.nhn?clubid=19943558&page=1&userDi...  2020-08-19        406  \n",
      "19  /ArticleRead.nhn?clubid=19943558&page=1&userDi...  2020-08-19        440  \n",
      "20  /ArticleRead.nhn?clubid=19943558&page=1&userDi...  2020-08-19        702  \n",
      "21  /ArticleRead.nhn?clubid=19943558&page=1&userDi...  2020-08-19        181  \n",
      "22  /ArticleRead.nhn?clubid=19943558&page=1&userDi...  2020-08-19      1,186  \n",
      "23  /ArticleRead.nhn?clubid=19943558&page=1&userDi...  2020-08-19        255  \n",
      "24  /ArticleRead.nhn?clubid=19943558&page=1&userDi...  2020-08-19        469  \n",
      "25  /ArticleRead.nhn?clubid=19943558&page=1&userDi...  2020-08-19        323  \n",
      "26  /ArticleRead.nhn?clubid=19943558&page=1&userDi...  2020-08-19        146  \n",
      "27  /ArticleRead.nhn?clubid=19943558&page=1&userDi...  2020-08-19        157  \n",
      "28  /ArticleRead.nhn?clubid=19943558&page=1&userDi...  2020-08-19        565  \n",
      "29  /ArticleRead.nhn?clubid=19943558&page=1&userDi...  2020-08-19        363  \n",
      "30  /ArticleRead.nhn?clubid=19943558&page=1&userDi...  2020-08-19        224  \n",
      "31  /ArticleRead.nhn?clubid=19943558&page=1&userDi...  2020-08-19        201  \n",
      "32  /ArticleRead.nhn?clubid=19943558&page=1&userDi...  2020-08-19        209  \n",
      "33  /ArticleRead.nhn?clubid=19943558&page=1&userDi...  2020-08-19        416  \n",
      "34  /ArticleRead.nhn?clubid=19943558&page=1&userDi...  2020-08-19        394  \n",
      "35  /ArticleRead.nhn?clubid=19943558&page=1&userDi...  2020-08-19        657  \n",
      "36  /ArticleRead.nhn?clubid=19943558&page=1&userDi...  2020-08-19        401  \n",
      "37  /ArticleRead.nhn?clubid=19943558&page=1&userDi...  2020-08-19        833  \n",
      "38  /ArticleRead.nhn?clubid=19943558&page=1&userDi...  2020-08-19        183  \n",
      "39  /ArticleRead.nhn?clubid=19943558&page=1&userDi...  2020-08-19        361  \n",
      "40  /ArticleRead.nhn?clubid=19943558&page=1&userDi...  2020-08-19        551  \n",
      "41  /ArticleRead.nhn?clubid=19943558&page=1&userDi...  2020-08-19        624  \n",
      "42  /ArticleRead.nhn?clubid=19943558&page=1&userDi...  2020-08-19        596  \n",
      "43  /ArticleRead.nhn?clubid=19943558&page=1&userDi...  2020-08-19      1,445  \n",
      "44  /ArticleRead.nhn?clubid=19943558&page=1&userDi...  2020-08-19        879  \n",
      "45  /ArticleRead.nhn?clubid=19943558&page=1&userDi...  2020-08-19      1,154  \n",
      "46  /ArticleRead.nhn?clubid=19943558&page=1&userDi...  2020-08-19        844  \n",
      "47  /ArticleRead.nhn?clubid=19943558&page=1&userDi...  2020-08-19        517  \n",
      "48  /ArticleRead.nhn?clubid=19943558&page=1&userDi...  2020-08-19      1,324  \n",
      "49  /ArticleRead.nhn?clubid=19943558&page=1&userDi...  2020-08-19        409  \n"
     ]
    }
   ],
   "source": [
    "print(df)\n"
   ],
   "metadata": {
    "collapsed": false,
    "pycharm": {
     "name": "#%%\n"
    }
   }
  },
  {
   "cell_type": "code",
   "execution_count": 14,
   "outputs": [],
   "source": [
    "import urllib.request\n",
    "import io\n",
    "\n",
    "from urllib.parse import urlparse\n",
    "url = 'https://www.louisvuitton.com/images/루이-비통--20200324_KR_MAIN_DIE.jpg'\n",
    "u = urlparse(url)\n",
    "print(u)\n",
    "urllib.request.urlretrieve(u, './img')"
   ],
   "metadata": {
    "collapsed": false,
    "pycharm": {
     "name": "#%%\n"
    }
   }
  },
  {
   "cell_type": "code",
   "execution_count": 4,
   "outputs": [
    {
     "ename": "TypeError",
     "evalue": "'module' object is not callable",
     "output_type": "error",
     "traceback": [
      "\u001B[1;31m---------------------------------------------------------------------------\u001B[0m",
      "\u001B[1;31mTypeError\u001B[0m                                 Traceback (most recent call last)",
      "\u001B[1;32m<ipython-input-4-09008bdd935f>\u001B[0m in \u001B[0;36m<module>\u001B[1;34m\u001B[0m\n\u001B[0;32m      1\u001B[0m \u001B[1;32mimport\u001B[0m \u001B[0murllib\u001B[0m\u001B[1;33m\u001B[0m\u001B[1;33m\u001B[0m\u001B[0m\n\u001B[0;32m      2\u001B[0m \u001B[0mg\u001B[0m \u001B[1;33m=\u001B[0m \u001B[1;34m\"http://www.google.com/\"\u001B[0m\u001B[1;33m\u001B[0m\u001B[1;33m\u001B[0m\u001B[0m\n\u001B[1;32m----> 3\u001B[1;33m \u001B[0mread\u001B[0m \u001B[1;33m=\u001B[0m \u001B[0murllib\u001B[0m\u001B[1;33m.\u001B[0m\u001B[0mrequest\u001B[0m\u001B[1;33m(\u001B[0m\u001B[0mg\u001B[0m\u001B[1;33m)\u001B[0m\u001B[1;33m\u001B[0m\u001B[1;33m\u001B[0m\u001B[0m\n\u001B[0m\u001B[0;32m      4\u001B[0m \u001B[1;33m\u001B[0m\u001B[0m\n",
      "\u001B[1;31mTypeError\u001B[0m: 'module' object is not callable"
     ]
    }
   ],
   "source": [
    "import urllib\n",
    "g = \"http://www.google.com/\"\n",
    "read = urllib.request(g)\n",
    "\n",
    "\n",
    "            # img = img_urls.split(',')[0].split('https://www.louisvuitton.com/images/')[1].split('?')[0]\n",
    "            # img = urllib.parse.quote_plus(img)\n",
    "            # print(img)\n",
    "\n",
    "            # try:\n",
    "            #     print('.................')\n",
    "            #     # urllib.request.urlretrieve(\"\"\"https://www.louisvuitton.com/images/\"\"\"+img, directory+'/'+str(n)+'.jpg')\n",
    "            # except TimeoutError as e:\n",
    "            #     print(str(e))\n",
    "            # r = requests.get(\"\"\"https://www.louisvuitton.com/images/\"\"\"+img, headers=headers)\n",
    "            # file_open_path = directory + str(n) + '.jpg'\n",
    "            # file = open(file_open_path, \"wt\", encoding='utf-8')\n",
    "            # file.write(r.content)\n",
    "            # file.close()\n",
    "            # n += 1\n",
    "            # time.sleep(rd.randint(1, 3))"
   ],
   "metadata": {
    "collapsed": false,
    "pycharm": {
     "name": "#%%\n"
    }
   }
  },
  {
   "cell_type": "code",
   "execution_count": 6,
   "outputs": [
    {
     "name": "stdout",
     "output_type": "stream",
     "text": [
      "x: ['Tick', 'Tock', 'Song', ['Ping', 'Pong']]\n"
     ]
    }
   ],
   "source": [
    "x = ['Tick', 'Tock', 'Song']\n",
    "y = ['Ping', 'Pong']\n",
    "x.append(y)\n",
    "print('x:', x)"
   ],
   "metadata": {
    "collapsed": false,
    "pycharm": {
     "name": "#%%\n"
    }
   }
  },
  {
   "cell_type": "code",
   "execution_count": 8,
   "outputs": [
    {
     "name": "stdout",
     "output_type": "stream",
     "text": [
      "4\n",
      "0\n",
      "1\n",
      "2\n",
      "3\n"
     ]
    }
   ],
   "source": [
    "len = 15 // 4 + 1\n",
    "print(len)\n",
    "\n",
    "for n in range(len):\n",
    "    print(n)"
   ],
   "metadata": {
    "collapsed": false,
    "pycharm": {
     "name": "#%%\n"
    }
   }
  },
  {
   "cell_type": "code",
   "execution_count": 10,
   "outputs": [
    {
     "name": "stdout",
     "output_type": "stream",
     "text": [
      "Empty DataFrame\n",
      "Columns: [group, category, url]\n",
      "Index: []\n"
     ]
    }
   ],
   "source": [
    "import pandas as pd\n",
    "df = pd.DataFrame(columns=['group', 'category','url'])\n",
    "df['group'] = 'A'\n",
    "df['category'] = 'V'\n",
    "df['url'] = 'urlrlrl'\n",
    "print(df)\n"
   ],
   "metadata": {
    "collapsed": false,
    "pycharm": {
     "name": "#%%\n"
    }
   }
  },
  {
   "cell_type": "code",
   "execution_count": 14,
   "outputs": [
    {
     "ename": "TypeError",
     "evalue": "'int' object is not callable",
     "output_type": "error",
     "traceback": [
      "\u001B[1;31m---------------------------------------------------------------------------\u001B[0m",
      "\u001B[1;31mTypeError\u001B[0m                                 Traceback (most recent call last)",
      "\u001B[1;32m<ipython-input-14-8258d531083c>\u001B[0m in \u001B[0;36m<module>\u001B[1;34m\u001B[0m\n\u001B[0;32m      1\u001B[0m url_list = ['https://www.dior.com/ko_kr/products/couture-KCQ244CHR_S83B-dway-%EB%AE%AC-%ED%9E%90-%EB%B8%94%EB%A3%A8-dior-around-the-world-%EC%9E%90%EC%88%98-%EC%BD%94%ED%8A%BC',\n\u001B[0;32m      2\u001B[0m             'https://www.dior.com/ko_kr/products/couture-KCQ209CHR_S83B-dway-%EB%AE%AC-%EB%B8%94%EB%A3%A8-dior-around-the-world-%EC%9E%90%EC%88%98-%EC%BD%94%ED%8A%BC', 'https://www.dior.com/ko_kr/products/couture-KCQ209TDE_S30B-dway-%EB%AE%AC-%EB%B8%94%EB%A3%A8-%EB%8D%B0%EB%8B%98-tie-and-dior-%EC%9E%90%EC%88%98-%EC%BD%94%ED%8A%BC', 'https://www.dior.com/ko_kr/products/couture-KCQ209TDE_S42H-dway-%EB%AE%AC-%EA%B7%B8%EB%A6%B0-tie-and-dior-%EC%9E%90%EC%88%98-%EC%BD%94%ED%8A%BC', 'https://www.dior.com/ko_kr/products/couture-KCQ209RME_S89Z-dway-%EB%AE%AC-%ED%95%91%ED%81%AC-and-%EB%B8%94%EB%9E%99-rosa-mutabilis-%EC%9E%90%EC%88%98-%EC%BD%94%ED%8A%BC', 'https://www.dior.com/ko_kr/products/couture-KCQ244RME_S89Z-dway-%EB%AE%AC-%ED%9E%90-%ED%95%91%ED%81%AC-and-%EB%B8%94%EB%9E%99-rosa-mutabilis-%EC%9E%90%EC%88%98-%EC%BD%94%ED%8A%BC', 'https://www.dior.com/ko_kr/products/couture-KCQ266VEA_S900-30-montaigne-%EB%AE%AC-%EB%B8%94%EB%9E%99-%EC%86%A1%EC%95%84%EC%A7%80-%EA%B0%80%EC%A3%BD', 'https://www.dior.com/ko_kr/products/couture-KCQ304CRC_S24H-30-montaigne-%EB%AE%AC-%ED%8E%98%EC%9D%BC-%EA%B7%B8%EB%A6%B0-%EC%95%85%EC%96%B4-%EA%B0%80%EC%A3%BD', 'https://www.dior.com/ko_kr/products/couture-KCQ304CRC_S19O-30-montaigne-%EB%AE%AC-rose-des-vents-%EC%95%85%EC%96%B4-%EA%B0%80%EC%A3%BD', 'https://www.dior.com/ko_kr/products/couture-KCQ390VEA_S900-d-club-%EB%AE%AC-%EB%B8%94%EB%9E%99-%EC%86%A1%EC%95%84%EC%A7%80-%EA%B0%80%EC%A3%BD', 'https://www.dior.com/ko_kr/products/couture-KCB442TFC_S20X-d-dior-%EB%AE%AC-%EB%B8%94%EB%9E%99-%ED%85%8C%ED%81%AC%EB%8B%88%EC%BB%AC-%ED%8C%A8%EB%B8%8C%EB%A6%AD-and-%EC%86%A1%EC%95%84%EC%A7%80-%EA%B0%80%EC%A3%BD', 'https://www.dior.com/ko_kr/products/couture-KCB442TFC_S12U-d-dior-%EB%AE%AC-%EB%88%84%EB%93%9C-%ED%85%8C%ED%81%AC%EB%8B%88%EC%BB%AC-%ED%8C%A8%EB%B8%8C%EB%A6%AD-and-%EC%86%A1%EC%95%84%EC%A7%80-%EA%B0%80%EC%A3%BD', 'https://www.dior.com/ko_kr/products/couture-KDQ358ERC_S900-dway-%EB%AE%AC-%ED%9E%90-%EB%B8%94%EB%9E%99-%EC%9E%90%EC%88%98-%EC%BD%94%ED%8A%BC', 'https://www.dior.com/ko_kr/products/couture-KDQ358ERC_S33G-dway-%EB%AE%AC-%ED%9E%90-%EA%B7%B8%EB%A0%88%EC%9D%B4-%EC%9E%90%EC%88%98-%EC%BD%94%ED%8A%BC', 'https://www.dior.com/ko_kr/products/couture-KDQ358ERC_S56B-dway-%EB%AE%AC-%ED%9E%90-%EB%8B%A4%ED%81%AC-%EB%B8%94%EB%A3%A8-%EC%9E%90%EC%88%98-%EC%BD%94%ED%8A%BC', 'https://www.dior.com/ko_kr/products/couture-KCQ244ERC_S56B-dway-%EB%AE%AC-%EB%B8%94%EB%A3%A8-%EC%9E%90%EC%88%98-%EC%BD%94%ED%8A%BC', 'https://www.dior.com/ko_kr/products/couture-KCQ166ERC_S56B-dway-%EB%AE%AC-%EB%B8%94%EB%A3%A8-%EC%9E%90%EC%88%98-%EC%BD%94%ED%8A%BC', 'https://www.dior.com/ko_kr/products/couture-KCQ166ERC_S16V-dway-%EB%AE%AC-%EC%95%84%EB%A7%88%EB%9E%80%EC%8A%A4-%EC%9E%90%EC%88%98-%EC%BD%94%ED%8A%BC', 'https://www.dior.com/ko_kr/products/couture-KCQ244TJE_S46P-dway-toile-de-jouy-%EB%AE%AC-%ED%9E%90-%ED%8E%98%EC%9D%BC-%ED%95%91%ED%81%AC-and-%EC%97%90%ED%81%AC%EB%A3%A8-%EC%9E%90%EC%88%98-%EC%BD%94%ED%8A%BC', 'https://www.dior.com/ko_kr/products/couture-KCQ209TJE_S46P-dway-%EB%AE%AC-%ED%8E%98%EC%9D%BC-%ED%95%91%ED%81%AC-and-%EC%97%90%ED%81%AC%EB%A3%A8-toile-de-jouy-%EC%9E%90%EC%88%98-%EC%BD%94%ED%8A%BC', 'https://www.dior.com/ko_kr/products/couture-KCQ392ERC_S13T-dior-granville-%EB%AE%AC-%ED%81%AC%EB%A6%BC-%EC%9E%90%EC%88%98-%EC%BD%94%ED%8A%BC', 'https://www.dior.com/ko_kr/products/couture-KCB608CHR_S83B-dior-off-%EB%AE%AC-dior-around-the-world-%EC%9E%90%EC%88%98-%EB%B8%94%EB%A3%A8-%EC%BD%94%ED%8A%BC', 'https://www.dior.com/ko_kr/products/couture-KDQ356ERC_S74B-dior-granville-%EB%A0%88%EC%9D%B4%EC%8A%A4-%EC%9B%A8%EC%A7%80%ED%9E%90-%EC%83%8C%EB%93%A4-%EC%9D%B8%EB%94%94%EA%B3%A0-%EB%B8%94%EB%A3%A8-%EC%9E%90%EC%88%98-%EC%BD%94%ED%8A%BC', 'https://www.dior.com/ko_kr/products/couture-KDP788CAE_S13T-dior-granville-%EC%9B%A8%EC%A7%80%ED%9E%90-%EB%A0%88%EC%9D%B4%EC%8A%A4-%EC%97%90%EC%8A%A4%ED%8C%8C%EB%93%80-%ED%81%AC%EB%A6%BC-%EC%9E%90%EC%88%98-%EC%BA%94%EB%B2%84%EC%8A%A4', 'https://www.dior.com/ko_kr/products/couture-KCQ349ROC_S900-diorexpress-%EC%83%8C%EB%93%A4-%EB%B8%94%EB%9E%99-%EB%B8%8C%EB%A0%88%EC%9D%B4%EB%93%9C-%EC%9E%90%EC%88%98-%EC%BD%94%ED%8A%BC', 'https://www.dior.com/ko_kr/products/couture-KCQ350ROC_S13T-diorexpress-%ED%86%B5-%EC%83%8C%EB%93%A4-%ED%81%AC%EB%A6%BC-%EB%B8%8C%EB%A0%88%EC%9D%B4%EB%93%9C-%EC%9E%90%EC%88%98-%EC%BD%94%ED%8A%BC', 'https://www.dior.com/ko_kr/products/couture-KDP761TJE_S46P-j-adior-%EC%8A%AC%EB%A7%81%EB%B0%B1-%ED%8E%8C%ED%94%84%EC%8A%A4-toile-de-jouy-%EB%AA%A8%ED%8B%B0%EB%B8%8C-%ED%95%91%ED%81%AC-and-%EC%97%90%ED%81%AC%EB%A3%A8-%EC%9E%90%EC%88%98-%EC%BD%94%ED%8A%BC', 'https://www.dior.com/ko_kr/products/couture-KDC200TFL_S21U-j-adior-%ED%8E%8C%ED%94%84%EC%8A%A4-%EB%88%84%EB%93%9C-%ED%85%8C%ED%81%AC%EB%8B%88%EC%BB%AC-%ED%8C%A8%EB%B8%8C%EB%A6%AD', 'https://www.dior.com/ko_kr/products/couture-KDQ458PSS_S42P-j-adior-%ED%9E%90-%EC%83%8C%EB%93%A4-%EB%88%84%EB%93%9C-%EB%8F%84%ED%8B%B0%EB%93%9C-%EC%9E%90%EC%88%98', 'https://www.dior.com/ko_kr/products/couture-KDQ373TFL_S21U-j-adior-%ED%9E%90-%EC%83%8C%EB%93%A4-%EB%88%84%EB%93%9C-%ED%85%8C%ED%81%AC%EB%8B%88%EC%BB%AC-%ED%8C%A8%EB%B8%8C%EB%A6%AD', 'https://www.dior.com/ko_kr/products/couture-KDC200VNR_S12U-j-adior-%ED%8E%8C%ED%94%84%EC%8A%A4-%EB%88%84%EB%93%9C-%ED%8E%98%EC%9D%B4%ED%84%B4%ED%8A%B8-%EC%86%A1%EC%95%84%EC%A7%80-%EA%B0%80%EC%A3%BD', 'https://www.dior.com/ko_kr/products/couture-KCB384VNR_S12U-j-adior-%EB%B0%9C%EB%A0%88%EB%A6%AC%EB%82%98-%ED%94%8C%EB%9E%AB-%EB%88%84%EB%93%9C-%ED%8E%98%EC%9D%B4%ED%84%B4%ED%8A%B8-%EC%86%A1%EC%95%84%EC%A7%80-%EA%B0%80%EC%A3%BD', 'https://www.dior.com/ko_kr/products/couture-KDP828RME_S89Z-j-adior-%EC%8A%AC%EB%A7%81%EB%B0%B1-%ED%8E%8C%ED%94%84%EC%8A%A4-rosa-mutabilis-%EC%9E%90%EC%88%98-%EB%A9%80%ED%8B%B0-%EC%BB%AC%EB%9F%AC-%EC%BD%94%ED%8A%BC', 'https://www.dior.com/ko_kr/products/couture-KDB585RME_S89Z-dior-granville-%EC%97%90%EC%8A%A4%ED%8C%8C%EB%93%80-rosa-mutabilis-%EC%9E%90%EC%88%98-%EB%A9%80%ED%8B%B0-%EC%BB%AC%EB%9F%AC-%EC%BD%94%ED%8A%BC', 'https://www.dior.com/ko_kr/products/couture-KCK211RME_S89Z-walk-n-dior-%EC%8A%A4%EB%8B%88%EC%BB%A4%EC%A6%88-rosa-mutabilis-%EC%9E%90%EC%88%98-%EB%A9%80%ED%8B%B0-%EC%BB%AC%EB%9F%AC-%EC%BD%94%ED%8A%BC', 'https://www.dior.com/ko_kr/products/couture-KCK211PTJ_S72B-walk-n-dior-%EC%8A%A4%EB%8B%88%EC%BB%A4%EC%A6%88-%EB%B8%94%EB%A3%A8-and-%EC%98%A4%ED%94%84-%ED%99%94%EC%9D%B4%ED%8A%B8-toile-de-jouy-%EC%9E%90%EC%88%98-%EC%BD%94%ED%8A%BC', 'https://www.dior.com/ko_kr/products/couture-KCK211OBE_S56B-walk-n-dior-%EC%8A%A4%EB%8B%88%EC%BB%A4%EC%A6%88-%EB%B8%94%EB%A3%A8-dior-oblique-%EC%9E%90%EC%88%98-%EC%BA%94%EB%B2%84%EC%8A%A4', 'https://www.dior.com/ko_kr/products/couture-KCK233TOK_S56B-walk-n-dior-%EC%8A%A4%EB%8B%88%EC%BB%A4%EC%A6%88-%EB%B8%94%EB%A3%A8-dior-oblique-%ED%85%8C%ED%81%AC%EB%8B%88%EC%BB%AC-%EB%A9%94%EC%8B%9C', 'https://www.dior.com/ko_kr/products/couture-KCK231TLC_S900-walk-n-dior-%EC%8A%A4%EB%8B%88%EC%BB%A4%EC%A6%88-%EB%B8%94%EB%9E%99-%ED%85%8C%ED%81%AC%EB%8B%88%EC%BB%AC-%EB%A9%94%EC%8B%9C', 'https://www.dior.com/ko_kr/products/couture-KCK177CVA_S12X-walk-n-dior-%EB%A1%9C%EC%9A%B0%ED%83%91-%EC%8A%A4%EB%8B%88%EC%BB%A4%EC%A6%88-%EB%B8%94%EB%9E%99-%EC%86%A1%EC%95%84%EC%A7%80-%EA%B0%80%EC%A3%BD-and-%EC%BA%94%EB%B2%84%EC%8A%A4', 'https://www.dior.com/ko_kr/products/couture-KCK231TLC_S10W-walk-n-dior-%EC%8A%A4%EB%8B%88%EC%BB%A4%EC%A6%88-%ED%99%94%EC%9D%B4%ED%8A%B8-%ED%85%8C%ED%81%AC%EB%8B%88%EC%BB%AC-%EB%A9%94%EC%8B%9C', 'https://www.dior.com/ko_kr/products/couture-KCK177CVA_S06W-walk-n-dior-%EB%A1%9C%EC%9A%B0%ED%83%91-%EC%8A%A4%EB%8B%88%EC%BB%A4%EC%A6%88-%ED%99%94%EC%9D%B4%ED%8A%B8-%EC%86%A1%EC%95%84%EC%A7%80-%EA%B0%80%EC%A3%BD-and-%EC%BA%94%EB%B2%84%EC%8A%A4', 'https://www.dior.com/ko_kr/products/couture-KCK231TLC_S12U-walk-n-dior-%EC%8A%A4%EB%8B%88%EC%BB%A4%EC%A6%88-%EB%88%84%EB%93%9C-%ED%85%8C%ED%81%AC%EB%8B%88%EC%BB%AC-%EB%A9%94%EC%8B%9C', 'https://www.dior.com/ko_kr/products/couture-KCK233TOK_S33G-walk-n-dior-%EC%8A%A4%EB%8B%88%EC%BB%A4%EC%A6%88-%EA%B7%B8%EB%A0%88%EC%9D%B4-dior-oblique-%ED%85%8C%ED%81%AC%EB%8B%88%EC%BB%AC-%EB%A9%94%EC%8B%9C', 'https://www.dior.com/ko_kr/products/couture-KCK273CDN_S83B-d-connect-%EC%8A%A4%EB%8B%88%EC%BB%A4%EC%A6%88-dior-around-the-world-%ED%94%84%EB%A6%B0%ED%8A%B8-and-%EB%B8%94%EB%A3%A8-%ED%85%8C%ED%81%AC%EB%8B%88%EC%BB%AC-%ED%8C%A8%EB%B8%8C%EB%A6%AD', 'https://www.dior.com/ko_kr/products/couture-KCK272TDN_S30B-d-connect-%EC%8A%A4%EB%8B%88%EC%BB%A4%EC%A6%88-tie-and-dior-%ED%94%84%EB%A6%B0%ED%8A%B8-and-%EB%B8%94%EB%A3%A8-%EB%8D%B0%EB%8B%98-%ED%85%8C%ED%81%AC%EB%8B%88%EC%BB%AC-%ED%8C%A8%EB%B8%8C%EB%A6%AD', 'https://www.dior.com/ko_kr/products/couture-KCK222NGG_S74B-d-connect-%EC%8A%A4%EB%8B%88%EC%BB%A4%EC%A6%88-%EC%9D%B8%EB%94%94%EA%B3%A0-%EB%B8%94%EB%A3%A8-%ED%85%8C%ED%81%AC%EB%8B%88%EC%BB%AC-%ED%8C%A8%EB%B8%8C%EB%A6%AD', 'https://www.dior.com/ko_kr/products/couture-KCK222NGG_S900-d-connect-%EC%8A%A4%EB%8B%88%EC%BB%A4%EC%A6%88-%EB%B8%94%EB%9E%99-%ED%85%8C%ED%81%AC%EB%8B%88%EC%BB%AC-%ED%8C%A8%EB%B8%8C%EB%A6%AD', 'https://www.dior.com/ko_kr/products/couture-KCK222NGG_S11H-d-connect-%EC%8A%A4%EB%8B%88%EC%BB%A4%EC%A6%88-%EC%B9%B4%ED%82%A4-%ED%85%8C%ED%81%AC%EB%8B%88%EC%BB%AC-%ED%8C%A8%EB%B8%8C%EB%A6%AD', 'https://www.dior.com/ko_kr/products/couture-KCK269DPN_S35G-d-connect-dioraura-%EC%8A%A4%EB%8B%88%EC%BB%A4%EC%A6%88-%EB%A9%80%ED%8B%B0-%EC%BB%AC%EB%9F%AC-%EA%B7%B8%EB%9D%BC%EB%8D%B0%EC%9D%B4%EC%85%98-%ED%85%8C%ED%81%AC%EB%8B%88%EC%BB%AC-%ED%8C%A8%EB%B8%8C%EB%A6%AD', 'https://www.dior.com/ko_kr/products/couture-KCK269DPN_S06O-d-connect-dioraura-%EC%8A%A4%EB%8B%88%EC%BB%A4%EC%A6%88-%EB%A9%80%ED%8B%B0-%EC%BB%AC%EB%9F%AC-%EA%B7%B8%EB%9D%BC%EB%8D%B0%EC%9D%B4%EC%85%98-%ED%85%8C%ED%81%AC%EB%8B%88%EC%BB%AC-%ED%8C%A8%EB%B8%8C%EB%A6%AD', 'https://www.dior.com/ko_kr/products/couture-KCK222NGG_S12U-d-connect-%EC%8A%A4%EB%8B%88%EC%BB%A4%EC%A6%88-%EB%88%84%EB%93%9C-%ED%85%8C%ED%81%AC%EB%8B%88%EC%BB%AC-%ED%8C%A8%EB%B8%8C%EB%A6%AD', 'https://www.dior.com/ko_kr/products/couture-KCK222NGG_S10W-d-connect-%EC%8A%A4%EB%8B%88%EC%BB%A4%EC%A6%88-%ED%99%94%EC%9D%B4%ED%8A%B8-%ED%85%8C%ED%81%AC%EB%8B%88%EC%BB%AC-%ED%8C%A8%EB%B8%8C%EB%A6%AD', 'https://www.dior.com/ko_kr/products/couture-KCB637CRU_S900-dior-walker-%EB%B3%B4%ED%8A%B8-%EC%8A%88%EC%A6%88-%EB%B8%94%EB%9E%99-%EB%9F%AC%EB%B2%84-and-%EC%86%A1%EC%95%84%EC%A7%80-%EA%B0%80%EC%A3%BD', 'https://www.dior.com/ko_kr/products/couture-KCB633ACA_S900-dior-code-%EB%A1%9C%ED%8D%BC-%EB%B8%94%EB%9E%99-%EA%B8%80%EB%A0%88%EC%9D%B4%EC%A6%88-%EC%86%A1%EC%95%84%EC%A7%80-%EA%B0%80%EC%A3%BD', 'https://www.dior.com/ko_kr/products/couture-KCB633SHC_S38R-dior-code-%EB%A1%9C%ED%8D%BC-%EB%B2%84%EA%B1%B4%EB%94%94-%EA%B7%B8%EB%9D%BC%EB%8D%B0%EC%9D%B4%EC%85%98-%EC%86%A1%EC%95%84%EC%A7%80-%EA%B0%80%EC%A3%BD', 'https://www.dior.com/ko_kr/products/couture-KDC201TFL_S900-j-adior-%ED%8E%8C%ED%94%84%EC%8A%A4-%EB%B8%94%EB%9E%99-%ED%85%8C%ED%81%AC%EB%8B%88%EC%BB%AC-%ED%8C%A8%EB%B8%8C%EB%A6%AD', 'https://www.dior.com/ko_kr/products/couture-KDC200TFL_S900-j-adior-%ED%8E%8C%ED%94%84%EC%8A%A4-%EB%B8%94%EB%9E%99-%ED%85%8C%ED%81%AC%EB%8B%88%EC%BB%AC-%ED%8C%A8%EB%B8%8C%EB%A6%AD', 'https://www.dior.com/ko_kr/products/couture-KCB384TFL_S900-j-adior-%EB%B0%9C%EB%A0%88%EB%A6%AC%EB%82%98-%ED%94%8C%EB%9E%AB-%EB%B8%94%EB%9E%99-%ED%85%8C%ED%81%AC%EB%8B%88%EC%BB%AC-%ED%8C%A8%EB%B8%8C%EB%A6%AD', 'https://www.dior.com/ko_kr/products/couture-KDC200TFL_S33G-j-adior-%EC%8A%AC%EB%A7%81%EB%B0%B1-%ED%8E%8C%ED%94%84%EC%8A%A4-%EA%B7%B8%EB%A0%88%EC%9D%B4-%ED%85%8C%ED%81%AC%EB%8B%88%EC%BB%AC-%ED%8C%A8%EB%B8%8C%EB%A6%AD', 'https://www.dior.com/ko_kr/products/couture-KDP839LMS_S46K-j-adior-%EC%8A%AC%EB%A7%81%EB%B0%B1-%ED%8E%8C%ED%94%84%EC%8A%A4-%EB%A9%94%ED%83%88%EB%A6%AD-%EC%8B%A4%EB%B2%84-%EC%96%91%EA%B0%80%EC%A3%BD', 'https://www.dior.com/ko_kr/products/couture-KDP839LMS_S71K-j-adior-%EC%8A%AC%EB%A7%81%EB%B0%B1-%ED%8E%8C%ED%94%84%EC%8A%A4-%EB%A9%94%ED%83%88%EB%A6%AD-%EA%B3%A8%EB%93%9C-%EC%96%91%EA%B0%80%EC%A3%BD', 'https://www.dior.com/ko_kr/products/couture-KDP761TJE_S72B-j-adior-%EC%8A%AC%EB%A7%81%EB%B0%B1-%ED%8E%8C%ED%94%84%EC%8A%A4-toile-de-jouy-%EB%AA%A8%ED%8B%B0%EB%B8%8C-%EB%B8%94%EB%A3%A8-and-%EC%97%90%ED%81%AC%EB%A3%A8-%EC%9E%90%EC%88%98-%EC%BD%94%ED%8A%BC', 'https://www.dior.com/ko_kr/products/couture-KDP761TJE_S34G-j-adior-%EC%8A%AC%EB%A7%81%EB%B0%B1-%ED%8E%8C%ED%94%84%EC%8A%A4-toile-de-jouy-%EB%AA%A8%ED%8B%B0%EB%B8%8C-%EA%B7%B8%EB%A0%88%EC%9D%B4-and-%EC%97%90%ED%81%AC%EB%A3%A8-%EC%9E%90%EC%88%98-%EC%BD%94%ED%8A%BC', 'https://www.dior.com/ko_kr/products/couture-KDC201VNR_S900-j-adior-%ED%8E%8C%ED%94%84%EC%8A%A4-%EB%B8%94%EB%9E%99-%ED%8E%98%EC%9D%B4%ED%84%B4%ED%8A%B8-%EC%86%A1%EC%95%84%EC%A7%80-%EA%B0%80%EC%A3%BD', 'https://www.dior.com/ko_kr/products/couture-KDP549ECF_S900-j-adior-%ED%8E%8C%ED%94%84%EC%8A%A4-%EB%B8%94%EB%9E%99-%EC%9E%90%EC%88%98-%ED%85%8C%ED%81%AC%EB%8B%88%EC%BB%AC-%ED%8C%A8%EB%B8%8C%EB%A6%AD', 'https://www.dior.com/ko_kr/products/couture-KCB486ECF_S900-j-adior-%EB%B0%9C%EB%A0%88%EB%A6%AC%EB%82%98-%ED%94%8C%EB%9E%AB-%EB%B8%94%EB%9E%99-%EC%9E%90%EC%88%98-%ED%85%8C%ED%81%AC%EB%8B%88%EC%BB%AC-%ED%8C%A8%EB%B8%8C%EB%A6%AD', 'https://www.dior.com/ko_kr/products/couture-KCB453TFL_S900-miss-j-adior-%EB%B0%9C%EB%A0%88%EB%A6%AC%EB%82%98-%ED%94%8C%EB%9E%AB-%EB%B8%94%EB%9E%99-%ED%85%8C%ED%81%AC%EB%8B%88%EC%BB%AC-%ED%8C%A8%EB%B8%8C%EB%A6%AD', 'https://www.dior.com/ko_kr/products/couture-KDI607VSO_S900-dior-empreinte-%EB%B6%80%EC%B8%A0-%EB%B8%94%EB%9E%99-%EB%B6%80%EB%93%9C%EB%9F%AC%EC%9A%B4-%EC%86%A1%EC%95%84%EC%A7%80-%EA%B0%80%EC%A3%BD', 'https://www.dior.com/ko_kr/products/couture-KDI611SCN_S20X-d-major-%EB%B6%80%EC%B8%A0-%EB%B8%94%EB%9E%99-%ED%85%8C%ED%81%AC%EB%8B%88%EC%BB%AC-%ED%8C%A8%EB%B8%8C%EB%A6%AD-and-%EC%86%A1%EC%95%84%EC%A7%80-%EA%B0%80%EC%A3%BD', 'https://www.dior.com/ko_kr/products/couture-KDI611SCN_S46X-d-major-%EB%B6%80%EC%B8%A0-%ED%86%A0%ED%94%84-and-%EB%B8%94%EB%9E%99-%ED%85%8C%ED%81%AC%EB%8B%88%EC%BB%AC-%ED%8C%A8%EB%B8%8C%EB%A6%AD-and-%EC%86%A1%EC%95%84%EC%A7%80-%EA%B0%80%EC%A3%BD', 'https://www.dior.com/ko_kr/products/couture-KDI609VSO_S900-dior-empreinte-%ED%9E%90-%EC%95%B5%ED%81%B4-%EB%B6%80%EC%B8%A0-%EB%B8%94%EB%9E%99-%EB%B6%80%EB%93%9C%EB%9F%AC%EC%9A%B4-%EC%86%A1%EC%95%84%EC%A7%80-%EA%B0%80%EC%A3%BD', 'https://www.dior.com/ko_kr/products/couture-KDI601CFM_S900-d-trap-%EC%95%B5%ED%81%B4-%EB%B6%80%EC%B8%A0-%EB%B8%94%EB%9E%99-%EB%AC%B4%EA%B4%91-%EC%86%A1%EC%95%84%EC%A7%80-%EA%B0%80%EC%A3%BD', 'https://www.dior.com/ko_kr/products/couture-KDI010SUL_S09X-naughtily-d-%EC%95%B5%ED%81%B4-%EB%B6%80%EC%B8%A0-%EB%A9%94%ED%83%88%EB%A6%AD-%EA%B3%A8%EB%93%9C-%ED%94%BC%EC%89%AC%EB%84%B7-and-%EB%B8%94%EB%9E%99-%EC%8A%A4%EC%9B%A8%EC%9D%B4%EB%93%9C-%EC%86%A1%EC%95%84%EC%A7%80-%EA%B0%80%EC%A3%BD', 'https://www.dior.com/ko_kr/products/couture-KDI492SUR_S900-naughtily-d-%EC%95%B5%ED%81%B4-%EB%B6%80%EC%B8%A0-%EB%B8%94%EB%9E%99-%EB%A9%94%EC%8B%9C-and-%EC%8A%A4%EC%9B%A8%EC%9D%B4%EB%93%9C-%EC%86%A1%EC%95%84%EC%A7%80-%EA%B0%80%EC%A3%BD', 'https://www.dior.com/ko_kr/products/couture-KDI492SUR_S12U-naughtily-d-%EC%95%B5%ED%81%B4-%EB%B6%80%EC%B8%A0-%EB%88%84%EB%93%9C-%EB%A9%94%EC%8B%9C-and-%EC%8A%A4%EC%9B%A8%EC%9D%B4%EB%93%9C-%EC%86%A1%EC%95%84%EC%A7%80-%EA%B0%80%EC%A3%BD']\n\u001B[1;32m----> 3\u001B[1;33m \u001B[0mlen\u001B[0m\u001B[1;33m(\u001B[0m\u001B[0murl_list\u001B[0m\u001B[1;33m)\u001B[0m\u001B[1;33m\u001B[0m\u001B[1;33m\u001B[0m\u001B[0m\n\u001B[0m",
      "\u001B[1;31mTypeError\u001B[0m: 'int' object is not callable"
     ]
    }
   ],
   "source": [
    "url_list = ['https://www.dior.com/ko_kr/products/couture-KCQ244CHR_S83B-dway-%EB%AE%AC-%ED%9E%90-%EB%B8%94%EB%A3%A8-dior-around-the-world-%EC%9E%90%EC%88%98-%EC%BD%94%ED%8A%BC',\n",
    "            'https://www.dior.com/ko_kr/products/couture-KCQ209CHR_S83B-dway-%EB%AE%AC-%EB%B8%94%EB%A3%A8-dior-around-the-world-%EC%9E%90%EC%88%98-%EC%BD%94%ED%8A%BC',\n",
    "            'https://www.dior.com/ko_kr/products/couture-KCQ209TDE_S30B-dway-%EB%AE%AC-%EB%B8%94%EB%A3%A8-%EB%8D%B0%EB%8B%98-tie-and-dior-%EC%9E%90%EC%88%98-%EC%BD%94%ED%8A%BC', 'https://www.dior.com/ko_kr/products/couture-KCQ209TDE_S42H-dway-%EB%AE%AC-%EA%B7%B8%EB%A6%B0-tie-and-dior-%EC%9E%90%EC%88%98-%EC%BD%94%ED%8A%BC', 'https://www.dior.com/ko_kr/products/couture-KCQ209RME_S89Z-dway-%EB%AE%AC-%ED%95%91%ED%81%AC-and-%EB%B8%94%EB%9E%99-rosa-mutabilis-%EC%9E%90%EC%88%98-%EC%BD%94%ED%8A%BC', 'https://www.dior.com/ko_kr/products/couture-KCQ244RME_S89Z-dway-%EB%AE%AC-%ED%9E%90-%ED%95%91%ED%81%AC-and-%EB%B8%94%EB%9E%99-rosa-mutabilis-%EC%9E%90%EC%88%98-%EC%BD%94%ED%8A%BC', 'https://www.dior.com/ko_kr/products/couture-KCQ266VEA_S900-30-montaigne-%EB%AE%AC-%EB%B8%94%EB%9E%99-%EC%86%A1%EC%95%84%EC%A7%80-%EA%B0%80%EC%A3%BD',\n",
    "            'https://www.dior.com/ko_kr/products/couture-KCQ304CRC_S24H-30-montaigne-%EB%AE%AC-%ED%8E%98%EC%9D%BC-%EA%B7%B8%EB%A6%B0-%EC%95%85%EC%96%B4-%EA%B0%80%EC%A3%BD', 'https://www.dior.com/ko_kr/products/couture-KCQ304CRC_S19O-30-montaigne-%EB%AE%AC-rose-des-vents-%EC%95%85%EC%96%B4-%EA%B0%80%EC%A3%BD', 'https://www.dior.com/ko_kr/products/couture-KCQ390VEA_S900-d-club-%EB%AE%AC-%EB%B8%94%EB%9E%99-%EC%86%A1%EC%95%84%EC%A7%80-%EA%B0%80%EC%A3%BD', 'https://www.dior.com/ko_kr/products/couture-KCB442TFC_S20X-d-dior-%EB%AE%AC-%EB%B8%94%EB%9E%99-%ED%85%8C%ED%81%AC%EB%8B%88%EC%BB%AC-%ED%8C%A8%EB%B8%8C%EB%A6%AD-and-%EC%86%A1%EC%95%84%EC%A7%80-%EA%B0%80%EC%A3%BD', 'https://www.dior.com/ko_kr/products/couture-KCB442TFC_S12U-d-dior-%EB%AE%AC-%EB%88%84%EB%93%9C-%ED%85%8C%ED%81%AC%EB%8B%88%EC%BB%AC-%ED%8C%A8%EB%B8%8C%EB%A6%AD-and-%EC%86%A1%EC%95%84%EC%A7%80-%EA%B0%80%EC%A3%BD', 'https://www.dior.com/ko_kr/products/couture-KDQ358ERC_S900-dway-%EB%AE%AC-%ED%9E%90-%EB%B8%94%EB%9E%99-%EC%9E%90%EC%88%98-%EC%BD%94%ED%8A%BC', 'https://www.dior.com/ko_kr/products/couture-KDQ358ERC_S33G-dway-%EB%AE%AC-%ED%9E%90-%EA%B7%B8%EB%A0%88%EC%9D%B4-%EC%9E%90%EC%88%98-%EC%BD%94%ED%8A%BC',\n",
    "            'https://www.dior.com/ko_kr/products/couture-KDQ358ERC_S56B-dway-%EB%AE%AC-%ED%9E%90-%EB%8B%A4%ED%81%AC-%EB%B8%94%EB%A3%A8-%EC%9E%90%EC%88%98-%EC%BD%94%ED%8A%BC', 'https://www.dior.com/ko_kr/products/couture-KCQ244ERC_S56B-dway-%EB%AE%AC-%EB%B8%94%EB%A3%A8-%EC%9E%90%EC%88%98-%EC%BD%94%ED%8A%BC', 'https://www.dior.com/ko_kr/products/couture-KCQ166ERC_S56B-dway-%EB%AE%AC-%EB%B8%94%EB%A3%A8-%EC%9E%90%EC%88%98-%EC%BD%94%ED%8A%BC', 'https://www.dior.com/ko_kr/products/couture-KCQ166ERC_S16V-dway-%EB%AE%AC-%EC%95%84%EB%A7%88%EB%9E%80%EC%8A%A4-%EC%9E%90%EC%88%98-%EC%BD%94%ED%8A%BC', 'https://www.dior.com/ko_kr/products/couture-KCQ244TJE_S46P-dway-toile-de-jouy-%EB%AE%AC-%ED%9E%90-%ED%8E%98%EC%9D%BC-%ED%95%91%ED%81%AC-and-%EC%97%90%ED%81%AC%EB%A3%A8-%EC%9E%90%EC%88%98-%EC%BD%94%ED%8A%BC', 'https://www.dior.com/ko_kr/products/couture-KCQ209TJE_S46P-dway-%EB%AE%AC-%ED%8E%98%EC%9D%BC-%ED%95%91%ED%81%AC-and-%EC%97%90%ED%81%AC%EB%A3%A8-toile-de-jouy-%EC%9E%90%EC%88%98-%EC%BD%94%ED%8A%BC', 'https://www.dior.com/ko_kr/products/couture-KCQ392ERC_S13T-dior-granville-%EB%AE%AC-%ED%81%AC%EB%A6%BC-%EC%9E%90%EC%88%98-%EC%BD%94%ED%8A%BC', 'https://www.dior.com/ko_kr/products/couture-KCB608CHR_S83B-dior-off-%EB%AE%AC-dior-around-the-world-%EC%9E%90%EC%88%98-%EB%B8%94%EB%A3%A8-%EC%BD%94%ED%8A%BC', 'https://www.dior.com/ko_kr/products/couture-KDQ356ERC_S74B-dior-granville-%EB%A0%88%EC%9D%B4%EC%8A%A4-%EC%9B%A8%EC%A7%80%ED%9E%90-%EC%83%8C%EB%93%A4-%EC%9D%B8%EB%94%94%EA%B3%A0-%EB%B8%94%EB%A3%A8-%EC%9E%90%EC%88%98-%EC%BD%94%ED%8A%BC', 'https://www.dior.com/ko_kr/products/couture-KDP788CAE_S13T-dior-granville-%EC%9B%A8%EC%A7%80%ED%9E%90-%EB%A0%88%EC%9D%B4%EC%8A%A4-%EC%97%90%EC%8A%A4%ED%8C%8C%EB%93%80-%ED%81%AC%EB%A6%BC-%EC%9E%90%EC%88%98-%EC%BA%94%EB%B2%84%EC%8A%A4', 'https://www.dior.com/ko_kr/products/couture-KCQ349ROC_S900-diorexpress-%EC%83%8C%EB%93%A4-%EB%B8%94%EB%9E%99-%EB%B8%8C%EB%A0%88%EC%9D%B4%EB%93%9C-%EC%9E%90%EC%88%98-%EC%BD%94%ED%8A%BC', 'https://www.dior.com/ko_kr/products/couture-KCQ350ROC_S13T-diorexpress-%ED%86%B5-%EC%83%8C%EB%93%A4-%ED%81%AC%EB%A6%BC-%EB%B8%8C%EB%A0%88%EC%9D%B4%EB%93%9C-%EC%9E%90%EC%88%98-%EC%BD%94%ED%8A%BC', 'https://www.dior.com/ko_kr/products/couture-KDP761TJE_S46P-j-adior-%EC%8A%AC%EB%A7%81%EB%B0%B1-%ED%8E%8C%ED%94%84%EC%8A%A4-toile-de-jouy-%EB%AA%A8%ED%8B%B0%EB%B8%8C-%ED%95%91%ED%81%AC-and-%EC%97%90%ED%81%AC%EB%A3%A8-%EC%9E%90%EC%88%98-%EC%BD%94%ED%8A%BC', 'https://www.dior.com/ko_kr/products/couture-KDC200TFL_S21U-j-adior-%ED%8E%8C%ED%94%84%EC%8A%A4-%EB%88%84%EB%93%9C-%ED%85%8C%ED%81%AC%EB%8B%88%EC%BB%AC-%ED%8C%A8%EB%B8%8C%EB%A6%AD', 'https://www.dior.com/ko_kr/products/couture-KDQ458PSS_S42P-j-adior-%ED%9E%90-%EC%83%8C%EB%93%A4-%EB%88%84%EB%93%9C-%EB%8F%84%ED%8B%B0%EB%93%9C-%EC%9E%90%EC%88%98', 'https://www.dior.com/ko_kr/products/couture-KDQ373TFL_S21U-j-adior-%ED%9E%90-%EC%83%8C%EB%93%A4-%EB%88%84%EB%93%9C-%ED%85%8C%ED%81%AC%EB%8B%88%EC%BB%AC-%ED%8C%A8%EB%B8%8C%EB%A6%AD', 'https://www.dior.com/ko_kr/products/couture-KDC200VNR_S12U-j-adior-%ED%8E%8C%ED%94%84%EC%8A%A4-%EB%88%84%EB%93%9C-%ED%8E%98%EC%9D%B4%ED%84%B4%ED%8A%B8-%EC%86%A1%EC%95%84%EC%A7%80-%EA%B0%80%EC%A3%BD', 'https://www.dior.com/ko_kr/products/couture-KCB384VNR_S12U-j-adior-%EB%B0%9C%EB%A0%88%EB%A6%AC%EB%82%98-%ED%94%8C%EB%9E%AB-%EB%88%84%EB%93%9C-%ED%8E%98%EC%9D%B4%ED%84%B4%ED%8A%B8-%EC%86%A1%EC%95%84%EC%A7%80-%EA%B0%80%EC%A3%BD', 'https://www.dior.com/ko_kr/products/couture-KDP828RME_S89Z-j-adior-%EC%8A%AC%EB%A7%81%EB%B0%B1-%ED%8E%8C%ED%94%84%EC%8A%A4-rosa-mutabilis-%EC%9E%90%EC%88%98-%EB%A9%80%ED%8B%B0-%EC%BB%AC%EB%9F%AC-%EC%BD%94%ED%8A%BC', 'https://www.dior.com/ko_kr/products/couture-KDB585RME_S89Z-dior-granville-%EC%97%90%EC%8A%A4%ED%8C%8C%EB%93%80-rosa-mutabilis-%EC%9E%90%EC%88%98-%EB%A9%80%ED%8B%B0-%EC%BB%AC%EB%9F%AC-%EC%BD%94%ED%8A%BC', 'https://www.dior.com/ko_kr/products/couture-KCK211RME_S89Z-walk-n-dior-%EC%8A%A4%EB%8B%88%EC%BB%A4%EC%A6%88-rosa-mutabilis-%EC%9E%90%EC%88%98-%EB%A9%80%ED%8B%B0-%EC%BB%AC%EB%9F%AC-%EC%BD%94%ED%8A%BC', 'https://www.dior.com/ko_kr/products/couture-KCK211PTJ_S72B-walk-n-dior-%EC%8A%A4%EB%8B%88%EC%BB%A4%EC%A6%88-%EB%B8%94%EB%A3%A8-and-%EC%98%A4%ED%94%84-%ED%99%94%EC%9D%B4%ED%8A%B8-toile-de-jouy-%EC%9E%90%EC%88%98-%EC%BD%94%ED%8A%BC', 'https://www.dior.com/ko_kr/products/couture-KCK211OBE_S56B-walk-n-dior-%EC%8A%A4%EB%8B%88%EC%BB%A4%EC%A6%88-%EB%B8%94%EB%A3%A8-dior-oblique-%EC%9E%90%EC%88%98-%EC%BA%94%EB%B2%84%EC%8A%A4', 'https://www.dior.com/ko_kr/products/couture-KCK233TOK_S56B-walk-n-dior-%EC%8A%A4%EB%8B%88%EC%BB%A4%EC%A6%88-%EB%B8%94%EB%A3%A8-dior-oblique-%ED%85%8C%ED%81%AC%EB%8B%88%EC%BB%AC-%EB%A9%94%EC%8B%9C', 'https://www.dior.com/ko_kr/products/couture-KCK231TLC_S900-walk-n-dior-%EC%8A%A4%EB%8B%88%EC%BB%A4%EC%A6%88-%EB%B8%94%EB%9E%99-%ED%85%8C%ED%81%AC%EB%8B%88%EC%BB%AC-%EB%A9%94%EC%8B%9C', 'https://www.dior.com/ko_kr/products/couture-KCK177CVA_S12X-walk-n-dior-%EB%A1%9C%EC%9A%B0%ED%83%91-%EC%8A%A4%EB%8B%88%EC%BB%A4%EC%A6%88-%EB%B8%94%EB%9E%99-%EC%86%A1%EC%95%84%EC%A7%80-%EA%B0%80%EC%A3%BD-and-%EC%BA%94%EB%B2%84%EC%8A%A4', 'https://www.dior.com/ko_kr/products/couture-KCK231TLC_S10W-walk-n-dior-%EC%8A%A4%EB%8B%88%EC%BB%A4%EC%A6%88-%ED%99%94%EC%9D%B4%ED%8A%B8-%ED%85%8C%ED%81%AC%EB%8B%88%EC%BB%AC-%EB%A9%94%EC%8B%9C', 'https://www.dior.com/ko_kr/products/couture-KCK177CVA_S06W-walk-n-dior-%EB%A1%9C%EC%9A%B0%ED%83%91-%EC%8A%A4%EB%8B%88%EC%BB%A4%EC%A6%88-%ED%99%94%EC%9D%B4%ED%8A%B8-%EC%86%A1%EC%95%84%EC%A7%80-%EA%B0%80%EC%A3%BD-and-%EC%BA%94%EB%B2%84%EC%8A%A4', 'https://www.dior.com/ko_kr/products/couture-KCK231TLC_S12U-walk-n-dior-%EC%8A%A4%EB%8B%88%EC%BB%A4%EC%A6%88-%EB%88%84%EB%93%9C-%ED%85%8C%ED%81%AC%EB%8B%88%EC%BB%AC-%EB%A9%94%EC%8B%9C', 'https://www.dior.com/ko_kr/products/couture-KCK233TOK_S33G-walk-n-dior-%EC%8A%A4%EB%8B%88%EC%BB%A4%EC%A6%88-%EA%B7%B8%EB%A0%88%EC%9D%B4-dior-oblique-%ED%85%8C%ED%81%AC%EB%8B%88%EC%BB%AC-%EB%A9%94%EC%8B%9C', 'https://www.dior.com/ko_kr/products/couture-KCK273CDN_S83B-d-connect-%EC%8A%A4%EB%8B%88%EC%BB%A4%EC%A6%88-dior-around-the-world-%ED%94%84%EB%A6%B0%ED%8A%B8-and-%EB%B8%94%EB%A3%A8-%ED%85%8C%ED%81%AC%EB%8B%88%EC%BB%AC-%ED%8C%A8%EB%B8%8C%EB%A6%AD', 'https://www.dior.com/ko_kr/products/couture-KCK272TDN_S30B-d-connect-%EC%8A%A4%EB%8B%88%EC%BB%A4%EC%A6%88-tie-and-dior-%ED%94%84%EB%A6%B0%ED%8A%B8-and-%EB%B8%94%EB%A3%A8-%EB%8D%B0%EB%8B%98-%ED%85%8C%ED%81%AC%EB%8B%88%EC%BB%AC-%ED%8C%A8%EB%B8%8C%EB%A6%AD', 'https://www.dior.com/ko_kr/products/couture-KCK222NGG_S74B-d-connect-%EC%8A%A4%EB%8B%88%EC%BB%A4%EC%A6%88-%EC%9D%B8%EB%94%94%EA%B3%A0-%EB%B8%94%EB%A3%A8-%ED%85%8C%ED%81%AC%EB%8B%88%EC%BB%AC-%ED%8C%A8%EB%B8%8C%EB%A6%AD', 'https://www.dior.com/ko_kr/products/couture-KCK222NGG_S900-d-connect-%EC%8A%A4%EB%8B%88%EC%BB%A4%EC%A6%88-%EB%B8%94%EB%9E%99-%ED%85%8C%ED%81%AC%EB%8B%88%EC%BB%AC-%ED%8C%A8%EB%B8%8C%EB%A6%AD', 'https://www.dior.com/ko_kr/products/couture-KCK222NGG_S11H-d-connect-%EC%8A%A4%EB%8B%88%EC%BB%A4%EC%A6%88-%EC%B9%B4%ED%82%A4-%ED%85%8C%ED%81%AC%EB%8B%88%EC%BB%AC-%ED%8C%A8%EB%B8%8C%EB%A6%AD', 'https://www.dior.com/ko_kr/products/couture-KCK269DPN_S35G-d-connect-dioraura-%EC%8A%A4%EB%8B%88%EC%BB%A4%EC%A6%88-%EB%A9%80%ED%8B%B0-%EC%BB%AC%EB%9F%AC-%EA%B7%B8%EB%9D%BC%EB%8D%B0%EC%9D%B4%EC%85%98-%ED%85%8C%ED%81%AC%EB%8B%88%EC%BB%AC-%ED%8C%A8%EB%B8%8C%EB%A6%AD', 'https://www.dior.com/ko_kr/products/couture-KCK269DPN_S06O-d-connect-dioraura-%EC%8A%A4%EB%8B%88%EC%BB%A4%EC%A6%88-%EB%A9%80%ED%8B%B0-%EC%BB%AC%EB%9F%AC-%EA%B7%B8%EB%9D%BC%EB%8D%B0%EC%9D%B4%EC%85%98-%ED%85%8C%ED%81%AC%EB%8B%88%EC%BB%AC-%ED%8C%A8%EB%B8%8C%EB%A6%AD', 'https://www.dior.com/ko_kr/products/couture-KCK222NGG_S12U-d-connect-%EC%8A%A4%EB%8B%88%EC%BB%A4%EC%A6%88-%EB%88%84%EB%93%9C-%ED%85%8C%ED%81%AC%EB%8B%88%EC%BB%AC-%ED%8C%A8%EB%B8%8C%EB%A6%AD', 'https://www.dior.com/ko_kr/products/couture-KCK222NGG_S10W-d-connect-%EC%8A%A4%EB%8B%88%EC%BB%A4%EC%A6%88-%ED%99%94%EC%9D%B4%ED%8A%B8-%ED%85%8C%ED%81%AC%EB%8B%88%EC%BB%AC-%ED%8C%A8%EB%B8%8C%EB%A6%AD', 'https://www.dior.com/ko_kr/products/couture-KCB637CRU_S900-dior-walker-%EB%B3%B4%ED%8A%B8-%EC%8A%88%EC%A6%88-%EB%B8%94%EB%9E%99-%EB%9F%AC%EB%B2%84-and-%EC%86%A1%EC%95%84%EC%A7%80-%EA%B0%80%EC%A3%BD', 'https://www.dior.com/ko_kr/products/couture-KCB633ACA_S900-dior-code-%EB%A1%9C%ED%8D%BC-%EB%B8%94%EB%9E%99-%EA%B8%80%EB%A0%88%EC%9D%B4%EC%A6%88-%EC%86%A1%EC%95%84%EC%A7%80-%EA%B0%80%EC%A3%BD', 'https://www.dior.com/ko_kr/products/couture-KCB633SHC_S38R-dior-code-%EB%A1%9C%ED%8D%BC-%EB%B2%84%EA%B1%B4%EB%94%94-%EA%B7%B8%EB%9D%BC%EB%8D%B0%EC%9D%B4%EC%85%98-%EC%86%A1%EC%95%84%EC%A7%80-%EA%B0%80%EC%A3%BD', 'https://www.dior.com/ko_kr/products/couture-KDC201TFL_S900-j-adior-%ED%8E%8C%ED%94%84%EC%8A%A4-%EB%B8%94%EB%9E%99-%ED%85%8C%ED%81%AC%EB%8B%88%EC%BB%AC-%ED%8C%A8%EB%B8%8C%EB%A6%AD', 'https://www.dior.com/ko_kr/products/couture-KDC200TFL_S900-j-adior-%ED%8E%8C%ED%94%84%EC%8A%A4-%EB%B8%94%EB%9E%99-%ED%85%8C%ED%81%AC%EB%8B%88%EC%BB%AC-%ED%8C%A8%EB%B8%8C%EB%A6%AD', 'https://www.dior.com/ko_kr/products/couture-KCB384TFL_S900-j-adior-%EB%B0%9C%EB%A0%88%EB%A6%AC%EB%82%98-%ED%94%8C%EB%9E%AB-%EB%B8%94%EB%9E%99-%ED%85%8C%ED%81%AC%EB%8B%88%EC%BB%AC-%ED%8C%A8%EB%B8%8C%EB%A6%AD', 'https://www.dior.com/ko_kr/products/couture-KDC200TFL_S33G-j-adior-%EC%8A%AC%EB%A7%81%EB%B0%B1-%ED%8E%8C%ED%94%84%EC%8A%A4-%EA%B7%B8%EB%A0%88%EC%9D%B4-%ED%85%8C%ED%81%AC%EB%8B%88%EC%BB%AC-%ED%8C%A8%EB%B8%8C%EB%A6%AD', 'https://www.dior.com/ko_kr/products/couture-KDP839LMS_S46K-j-adior-%EC%8A%AC%EB%A7%81%EB%B0%B1-%ED%8E%8C%ED%94%84%EC%8A%A4-%EB%A9%94%ED%83%88%EB%A6%AD-%EC%8B%A4%EB%B2%84-%EC%96%91%EA%B0%80%EC%A3%BD', 'https://www.dior.com/ko_kr/products/couture-KDP839LMS_S71K-j-adior-%EC%8A%AC%EB%A7%81%EB%B0%B1-%ED%8E%8C%ED%94%84%EC%8A%A4-%EB%A9%94%ED%83%88%EB%A6%AD-%EA%B3%A8%EB%93%9C-%EC%96%91%EA%B0%80%EC%A3%BD', 'https://www.dior.com/ko_kr/products/couture-KDP761TJE_S72B-j-adior-%EC%8A%AC%EB%A7%81%EB%B0%B1-%ED%8E%8C%ED%94%84%EC%8A%A4-toile-de-jouy-%EB%AA%A8%ED%8B%B0%EB%B8%8C-%EB%B8%94%EB%A3%A8-and-%EC%97%90%ED%81%AC%EB%A3%A8-%EC%9E%90%EC%88%98-%EC%BD%94%ED%8A%BC', 'https://www.dior.com/ko_kr/products/couture-KDP761TJE_S34G-j-adior-%EC%8A%AC%EB%A7%81%EB%B0%B1-%ED%8E%8C%ED%94%84%EC%8A%A4-toile-de-jouy-%EB%AA%A8%ED%8B%B0%EB%B8%8C-%EA%B7%B8%EB%A0%88%EC%9D%B4-and-%EC%97%90%ED%81%AC%EB%A3%A8-%EC%9E%90%EC%88%98-%EC%BD%94%ED%8A%BC', 'https://www.dior.com/ko_kr/products/couture-KDC201VNR_S900-j-adior-%ED%8E%8C%ED%94%84%EC%8A%A4-%EB%B8%94%EB%9E%99-%ED%8E%98%EC%9D%B4%ED%84%B4%ED%8A%B8-%EC%86%A1%EC%95%84%EC%A7%80-%EA%B0%80%EC%A3%BD', 'https://www.dior.com/ko_kr/products/couture-KDP549ECF_S900-j-adior-%ED%8E%8C%ED%94%84%EC%8A%A4-%EB%B8%94%EB%9E%99-%EC%9E%90%EC%88%98-%ED%85%8C%ED%81%AC%EB%8B%88%EC%BB%AC-%ED%8C%A8%EB%B8%8C%EB%A6%AD', 'https://www.dior.com/ko_kr/products/couture-KCB486ECF_S900-j-adior-%EB%B0%9C%EB%A0%88%EB%A6%AC%EB%82%98-%ED%94%8C%EB%9E%AB-%EB%B8%94%EB%9E%99-%EC%9E%90%EC%88%98-%ED%85%8C%ED%81%AC%EB%8B%88%EC%BB%AC-%ED%8C%A8%EB%B8%8C%EB%A6%AD', 'https://www.dior.com/ko_kr/products/couture-KCB453TFL_S900-miss-j-adior-%EB%B0%9C%EB%A0%88%EB%A6%AC%EB%82%98-%ED%94%8C%EB%9E%AB-%EB%B8%94%EB%9E%99-%ED%85%8C%ED%81%AC%EB%8B%88%EC%BB%AC-%ED%8C%A8%EB%B8%8C%EB%A6%AD', 'https://www.dior.com/ko_kr/products/couture-KDI607VSO_S900-dior-empreinte-%EB%B6%80%EC%B8%A0-%EB%B8%94%EB%9E%99-%EB%B6%80%EB%93%9C%EB%9F%AC%EC%9A%B4-%EC%86%A1%EC%95%84%EC%A7%80-%EA%B0%80%EC%A3%BD', 'https://www.dior.com/ko_kr/products/couture-KDI611SCN_S20X-d-major-%EB%B6%80%EC%B8%A0-%EB%B8%94%EB%9E%99-%ED%85%8C%ED%81%AC%EB%8B%88%EC%BB%AC-%ED%8C%A8%EB%B8%8C%EB%A6%AD-and-%EC%86%A1%EC%95%84%EC%A7%80-%EA%B0%80%EC%A3%BD', 'https://www.dior.com/ko_kr/products/couture-KDI611SCN_S46X-d-major-%EB%B6%80%EC%B8%A0-%ED%86%A0%ED%94%84-and-%EB%B8%94%EB%9E%99-%ED%85%8C%ED%81%AC%EB%8B%88%EC%BB%AC-%ED%8C%A8%EB%B8%8C%EB%A6%AD-and-%EC%86%A1%EC%95%84%EC%A7%80-%EA%B0%80%EC%A3%BD', 'https://www.dior.com/ko_kr/products/couture-KDI609VSO_S900-dior-empreinte-%ED%9E%90-%EC%95%B5%ED%81%B4-%EB%B6%80%EC%B8%A0-%EB%B8%94%EB%9E%99-%EB%B6%80%EB%93%9C%EB%9F%AC%EC%9A%B4-%EC%86%A1%EC%95%84%EC%A7%80-%EA%B0%80%EC%A3%BD', 'https://www.dior.com/ko_kr/products/couture-KDI601CFM_S900-d-trap-%EC%95%B5%ED%81%B4-%EB%B6%80%EC%B8%A0-%EB%B8%94%EB%9E%99-%EB%AC%B4%EA%B4%91-%EC%86%A1%EC%95%84%EC%A7%80-%EA%B0%80%EC%A3%BD', 'https://www.dior.com/ko_kr/products/couture-KDI010SUL_S09X-naughtily-d-%EC%95%B5%ED%81%B4-%EB%B6%80%EC%B8%A0-%EB%A9%94%ED%83%88%EB%A6%AD-%EA%B3%A8%EB%93%9C-%ED%94%BC%EC%89%AC%EB%84%B7-and-%EB%B8%94%EB%9E%99-%EC%8A%A4%EC%9B%A8%EC%9D%B4%EB%93%9C-%EC%86%A1%EC%95%84%EC%A7%80-%EA%B0%80%EC%A3%BD', 'https://www.dior.com/ko_kr/products/couture-KDI492SUR_S900-naughtily-d-%EC%95%B5%ED%81%B4-%EB%B6%80%EC%B8%A0-%EB%B8%94%EB%9E%99-%EB%A9%94%EC%8B%9C-and-%EC%8A%A4%EC%9B%A8%EC%9D%B4%EB%93%9C-%EC%86%A1%EC%95%84%EC%A7%80-%EA%B0%80%EC%A3%BD',\n",
    "            'https://www.dior.com/ko_kr/products/couture-KDI492SUR_S12U-naughtily-d-%EC%95%B5%ED%81%B4-%EB%B6%80%EC%B8%A0-%EB%88%84%EB%93%9C-%EB%A9%94%EC%8B%9C-and-%EC%8A%A4%EC%9B%A8%EC%9D%B4%EB%93%9C-%EC%86%A1%EC%95%84%EC%A7%80-%EA%B0%80%EC%A3%BD']\n",
    "len(url_list)"
   ],
   "metadata": {
    "collapsed": false,
    "pycharm": {
     "name": "#%%\n"
    }
   }
  },
  {
   "cell_type": "code",
   "execution_count": 5,
   "outputs": [
    {
     "name": "stdout",
     "output_type": "stream",
     "text": [
      "  title view_count user post_ago links\n",
      "1     a        NaN  NaN      NaN   NaN\n"
     ]
    }
   ],
   "source": [
    "import pandas as pd\n",
    "\n",
    "df = pd.DataFrame(columns = ['title', 'view_count', 'user', 'post_ago','links'])\n",
    "df.loc[1, ['title']] = ['a']\n",
    "print(df)"
   ],
   "metadata": {
    "collapsed": false,
    "pycharm": {
     "name": "#%%\n"
    }
   }
  },
  {
   "cell_type": "code",
   "execution_count": 11,
   "outputs": [
    {
     "ename": "SyntaxError",
     "evalue": "invalid syntax (<ipython-input-11-b586fc6ef637>, line 5)",
     "output_type": "error",
     "traceback": [
      "\u001B[1;36m  File \u001B[1;32m\"<ipython-input-11-b586fc6ef637>\"\u001B[1;36m, line \u001B[1;32m5\u001B[0m\n\u001B[1;33m    trim =\u001B[0m\n\u001B[1;37m           ^\u001B[0m\n\u001B[1;31mSyntaxError\u001B[0m\u001B[1;31m:\u001B[0m invalid syntax\n"
     ]
    }
   ],
   "source": [
    "text = '코듀로이 (Corduroy) - Concentrate MV 게시자: Stone Music Entertainment 1년 전 3분 53초 조회수 15,676회'\n",
    "title = text.split('게시자 :')[0]\n",
    "view_count = text.split('조회수')[-1]\n",
    "print(text)"
   ],
   "metadata": {
    "collapsed": false,
    "pycharm": {
     "name": "#%%\n"
    }
   }
  },
  {
   "cell_type": "code",
   "execution_count": 4,
   "outputs": [
    {
     "name": "stdout",
     "output_type": "stream",
     "text": [
      "                                                              0\n",
      "url           https://www.prada.com/kr/en/women/bags/shoulde...\n",
      "prdt_nm                               Medium Nylon Shoulder Bag\n",
      "prdt_cd                                  1BD671_V44_F0002_V_OOO\n",
      "price                                               ￦ 1,450,000\n",
      "color                                                     Black\n",
      "description   A fabric messenger bag embellished with Saffia...\n",
      "prdt_img_url  https://www.prada.com/content/dam/pradanux_pro...\n",
      "prdt_img      //172.0.0.112/mlb/process_team/luxury_brand/pr...\n"
     ]
    }
   ],
   "source": [
    "import pandas as pd\n",
    "\n",
    "dict = {'url': 'https://www.prada.com/kr/en/women/bags/shoulder_bags/products.medium_nylon_shoulder_bag.1BD671_V44_F0002_V_OOO.html', 'prdt_nm': 'Medium Nylon Shoulder Bag', 'prdt_cd': '1BD671_V44_F0002_V_OOO', 'price': '￦ 1,450,000', 'color': 'Black', 'description': 'A fabric messenger bag embellished with Saffiano leather detail. It is decorated with the Prada logo and steel hardware, and features various pockets, inside and out, accented with Prada logo lining.', 'prdt_img_url': 'https://www.prada.com/content/dam/pradanux_products/1/1BD/1BD671/V44F0002/1BD671_V44_F0002_V_OOO_SLF.png', 'prdt_img': '//172.0.0.112/mlb/process_team/luxury_brand/prada/2020-07-31/product/Medium Nylon Shoulder Bag.png'}\n",
    "df = pd.DataFrame.from_dict(dict, orient='index')\n",
    "print(df)"
   ],
   "metadata": {
    "collapsed": false,
    "pycharm": {
     "name": "#%%\n"
    }
   }
  },
  {
   "cell_type": "code",
   "execution_count": 5,
   "outputs": [
    {
     "ename": "ValueError",
     "evalue": "11 columns passed, passed data had 2 columns",
     "output_type": "error",
     "traceback": [
      "\u001B[1;31m---------------------------------------------------------------------------\u001B[0m",
      "\u001B[1;31mAssertionError\u001B[0m                            Traceback (most recent call last)",
      "\u001B[1;32mc:\\users\\kyujin\\venv\\lib\\site-packages\\pandas\\core\\internals\\construction.py\u001B[0m in \u001B[0;36m_list_to_arrays\u001B[1;34m(data, columns, coerce_float, dtype)\u001B[0m\n\u001B[0;32m    496\u001B[0m         result = _convert_object_array(\n\u001B[1;32m--> 497\u001B[1;33m             \u001B[0mcontent\u001B[0m\u001B[1;33m,\u001B[0m \u001B[0mcolumns\u001B[0m\u001B[1;33m,\u001B[0m \u001B[0mdtype\u001B[0m\u001B[1;33m=\u001B[0m\u001B[0mdtype\u001B[0m\u001B[1;33m,\u001B[0m \u001B[0mcoerce_float\u001B[0m\u001B[1;33m=\u001B[0m\u001B[0mcoerce_float\u001B[0m\u001B[1;33m\u001B[0m\u001B[1;33m\u001B[0m\u001B[0m\n\u001B[0m\u001B[0;32m    498\u001B[0m         )\n",
      "\u001B[1;32mc:\\users\\kyujin\\venv\\lib\\site-packages\\pandas\\core\\internals\\construction.py\u001B[0m in \u001B[0;36m_convert_object_array\u001B[1;34m(content, columns, coerce_float, dtype)\u001B[0m\n\u001B[0;32m    580\u001B[0m             raise AssertionError(\n\u001B[1;32m--> 581\u001B[1;33m                 \u001B[1;34mf\"{len(columns)} columns passed, passed data had \"\u001B[0m\u001B[1;33m\u001B[0m\u001B[1;33m\u001B[0m\u001B[0m\n\u001B[0m\u001B[0;32m    582\u001B[0m                 \u001B[1;34mf\"{len(content)} columns\"\u001B[0m\u001B[1;33m\u001B[0m\u001B[1;33m\u001B[0m\u001B[0m\n",
      "\u001B[1;31mAssertionError\u001B[0m: 11 columns passed, passed data had 2 columns",
      "\nThe above exception was the direct cause of the following exception:\n",
      "\u001B[1;31mValueError\u001B[0m                                Traceback (most recent call last)",
      "\u001B[1;32m<ipython-input-5-5202aad9815d>\u001B[0m in \u001B[0;36m<module>\u001B[1;34m\u001B[0m\n\u001B[0;32m      1\u001B[0m df2 = pd.DataFrame(dict.items(), columns=['url', 'prdt_nm', 'prdt_img_url', 'prdt_img', 'url', 'price', 'prdt_cd', 'color', 'description',\n\u001B[1;32m----> 2\u001B[1;33m                  'prdt_img_url', 'prdt_img'])\n\u001B[0m\u001B[0;32m      3\u001B[0m \u001B[0mprint\u001B[0m\u001B[1;33m(\u001B[0m\u001B[0mdf2\u001B[0m\u001B[1;33m)\u001B[0m\u001B[1;33m\u001B[0m\u001B[1;33m\u001B[0m\u001B[0m\n",
      "\u001B[1;32mc:\\users\\kyujin\\venv\\lib\\site-packages\\pandas\\core\\frame.py\u001B[0m in \u001B[0;36m__init__\u001B[1;34m(self, data, index, columns, dtype, copy)\u001B[0m\n\u001B[0;32m    472\u001B[0m                     \u001B[1;32mif\u001B[0m \u001B[0mis_named_tuple\u001B[0m\u001B[1;33m(\u001B[0m\u001B[0mdata\u001B[0m\u001B[1;33m[\u001B[0m\u001B[1;36m0\u001B[0m\u001B[1;33m]\u001B[0m\u001B[1;33m)\u001B[0m \u001B[1;32mand\u001B[0m \u001B[0mcolumns\u001B[0m \u001B[1;32mis\u001B[0m \u001B[1;32mNone\u001B[0m\u001B[1;33m:\u001B[0m\u001B[1;33m\u001B[0m\u001B[1;33m\u001B[0m\u001B[0m\n\u001B[0;32m    473\u001B[0m                         \u001B[0mcolumns\u001B[0m \u001B[1;33m=\u001B[0m \u001B[0mdata\u001B[0m\u001B[1;33m[\u001B[0m\u001B[1;36m0\u001B[0m\u001B[1;33m]\u001B[0m\u001B[1;33m.\u001B[0m\u001B[0m_fields\u001B[0m\u001B[1;33m\u001B[0m\u001B[1;33m\u001B[0m\u001B[0m\n\u001B[1;32m--> 474\u001B[1;33m                     \u001B[0marrays\u001B[0m\u001B[1;33m,\u001B[0m \u001B[0mcolumns\u001B[0m \u001B[1;33m=\u001B[0m \u001B[0mto_arrays\u001B[0m\u001B[1;33m(\u001B[0m\u001B[0mdata\u001B[0m\u001B[1;33m,\u001B[0m \u001B[0mcolumns\u001B[0m\u001B[1;33m,\u001B[0m \u001B[0mdtype\u001B[0m\u001B[1;33m=\u001B[0m\u001B[0mdtype\u001B[0m\u001B[1;33m)\u001B[0m\u001B[1;33m\u001B[0m\u001B[1;33m\u001B[0m\u001B[0m\n\u001B[0m\u001B[0;32m    475\u001B[0m                     \u001B[0mcolumns\u001B[0m \u001B[1;33m=\u001B[0m \u001B[0mensure_index\u001B[0m\u001B[1;33m(\u001B[0m\u001B[0mcolumns\u001B[0m\u001B[1;33m)\u001B[0m\u001B[1;33m\u001B[0m\u001B[1;33m\u001B[0m\u001B[0m\n\u001B[0;32m    476\u001B[0m \u001B[1;33m\u001B[0m\u001B[0m\n",
      "\u001B[1;32mc:\\users\\kyujin\\venv\\lib\\site-packages\\pandas\\core\\internals\\construction.py\u001B[0m in \u001B[0;36mto_arrays\u001B[1;34m(data, columns, coerce_float, dtype)\u001B[0m\n\u001B[0;32m    459\u001B[0m         \u001B[1;32mreturn\u001B[0m \u001B[1;33m[\u001B[0m\u001B[1;33m]\u001B[0m\u001B[1;33m,\u001B[0m \u001B[1;33m[\u001B[0m\u001B[1;33m]\u001B[0m  \u001B[1;31m# columns if columns is not None else []\u001B[0m\u001B[1;33m\u001B[0m\u001B[1;33m\u001B[0m\u001B[0m\n\u001B[0;32m    460\u001B[0m     \u001B[1;32mif\u001B[0m \u001B[0misinstance\u001B[0m\u001B[1;33m(\u001B[0m\u001B[0mdata\u001B[0m\u001B[1;33m[\u001B[0m\u001B[1;36m0\u001B[0m\u001B[1;33m]\u001B[0m\u001B[1;33m,\u001B[0m \u001B[1;33m(\u001B[0m\u001B[0mlist\u001B[0m\u001B[1;33m,\u001B[0m \u001B[0mtuple\u001B[0m\u001B[1;33m)\u001B[0m\u001B[1;33m)\u001B[0m\u001B[1;33m:\u001B[0m\u001B[1;33m\u001B[0m\u001B[1;33m\u001B[0m\u001B[0m\n\u001B[1;32m--> 461\u001B[1;33m         \u001B[1;32mreturn\u001B[0m \u001B[0m_list_to_arrays\u001B[0m\u001B[1;33m(\u001B[0m\u001B[0mdata\u001B[0m\u001B[1;33m,\u001B[0m \u001B[0mcolumns\u001B[0m\u001B[1;33m,\u001B[0m \u001B[0mcoerce_float\u001B[0m\u001B[1;33m=\u001B[0m\u001B[0mcoerce_float\u001B[0m\u001B[1;33m,\u001B[0m \u001B[0mdtype\u001B[0m\u001B[1;33m=\u001B[0m\u001B[0mdtype\u001B[0m\u001B[1;33m)\u001B[0m\u001B[1;33m\u001B[0m\u001B[1;33m\u001B[0m\u001B[0m\n\u001B[0m\u001B[0;32m    462\u001B[0m     \u001B[1;32melif\u001B[0m \u001B[0misinstance\u001B[0m\u001B[1;33m(\u001B[0m\u001B[0mdata\u001B[0m\u001B[1;33m[\u001B[0m\u001B[1;36m0\u001B[0m\u001B[1;33m]\u001B[0m\u001B[1;33m,\u001B[0m \u001B[0mabc\u001B[0m\u001B[1;33m.\u001B[0m\u001B[0mMapping\u001B[0m\u001B[1;33m)\u001B[0m\u001B[1;33m:\u001B[0m\u001B[1;33m\u001B[0m\u001B[1;33m\u001B[0m\u001B[0m\n\u001B[0;32m    463\u001B[0m         return _list_of_dict_to_arrays(\n",
      "\u001B[1;32mc:\\users\\kyujin\\venv\\lib\\site-packages\\pandas\\core\\internals\\construction.py\u001B[0m in \u001B[0;36m_list_to_arrays\u001B[1;34m(data, columns, coerce_float, dtype)\u001B[0m\n\u001B[0;32m    498\u001B[0m         )\n\u001B[0;32m    499\u001B[0m     \u001B[1;32mexcept\u001B[0m \u001B[0mAssertionError\u001B[0m \u001B[1;32mas\u001B[0m \u001B[0me\u001B[0m\u001B[1;33m:\u001B[0m\u001B[1;33m\u001B[0m\u001B[1;33m\u001B[0m\u001B[0m\n\u001B[1;32m--> 500\u001B[1;33m         \u001B[1;32mraise\u001B[0m \u001B[0mValueError\u001B[0m\u001B[1;33m(\u001B[0m\u001B[0me\u001B[0m\u001B[1;33m)\u001B[0m \u001B[1;32mfrom\u001B[0m \u001B[0me\u001B[0m\u001B[1;33m\u001B[0m\u001B[1;33m\u001B[0m\u001B[0m\n\u001B[0m\u001B[0;32m    501\u001B[0m     \u001B[1;32mreturn\u001B[0m \u001B[0mresult\u001B[0m\u001B[1;33m\u001B[0m\u001B[1;33m\u001B[0m\u001B[0m\n\u001B[0;32m    502\u001B[0m \u001B[1;33m\u001B[0m\u001B[0m\n",
      "\u001B[1;31mValueError\u001B[0m: 11 columns passed, passed data had 2 columns"
     ]
    }
   ],
   "source": [
    "df2 = pd.DataFrame(dict.items(), columns=['url', 'prdt_nm', 'prdt_img_url', 'prdt_img', 'url', 'price', 'prdt_cd', 'color', 'description',\n",
    "                 'prdt_img_url', 'prdt_img'])\n",
    "print(df2)"
   ],
   "metadata": {
    "collapsed": false,
    "pycharm": {
     "name": "#%%\n"
    }
   }
  },
  {
   "cell_type": "code",
   "execution_count": 7,
   "outputs": [
    {
     "name": "stdout",
     "output_type": "stream",
     "text": [
      "                                                 url  \\\n",
      "0  https://www.prada.com/kr/en/women/bags/shoulde...   \n",
      "\n",
      "                     prdt_nm                 prdt_cd        price  color  \\\n",
      "0  Medium Nylon Shoulder Bag  1BD671_V44_F0002_V_OOO  ￦ 1,450,000  Black   \n",
      "\n",
      "                                         description  \\\n",
      "0  A fabric messenger bag embellished with Saffia...   \n",
      "\n",
      "                                        prdt_img_url  \\\n",
      "0  https://www.prada.com/content/dam/pradanux_pro...   \n",
      "\n",
      "                                            prdt_img  \n",
      "0  //172.0.0.112/mlb/process_team/luxury_brand/pr...  \n"
     ]
    }
   ],
   "source": [
    "df3 = pd.DataFrame([dict])\n",
    "print(df3)"
   ],
   "metadata": {
    "collapsed": false,
    "pycharm": {
     "name": "#%%\n"
    }
   }
  },
  {
   "cell_type": "code",
   "execution_count": 9,
   "outputs": [
    {
     "name": "stdout",
     "output_type": "stream",
     "text": [
      "                     prdt_nm        price  \\\n",
      "0  Medium Nylon Shoulder Bag  ￦ 1,450,000   \n",
      "\n",
      "                                            prdt_img  \\\n",
      "0  //172.0.0.112/mlb/process_team/luxury_brand/pr...   \n",
      "\n",
      "                                                 url  \\\n",
      "0  https://www.prada.com/kr/en/women/bags/shoulde...   \n",
      "\n",
      "                                         description                 prdt_cd  \\\n",
      "0  A fabric messenger bag embellished with Saffia...  1BD671_V44_F0002_V_OOO   \n",
      "\n",
      "                                        prdt_img_url  color  \n",
      "0  https://www.prada.com/content/dam/pradanux_pro...  Black  \n"
     ]
    }
   ],
   "source": [
    "ori_df = pd.DataFrame(\n",
    "        columns={'url', 'prdt_nm', 'prdt_img_url', 'prdt_img', 'url', 'price', 'prdt_cd', 'color', 'description',\n",
    "                 'prdt_img_url', 'prdt_img'})\n",
    "\n",
    "ori_df = ori_df.append(df3)\n",
    "print(ori_df.head())"
   ],
   "metadata": {
    "collapsed": false,
    "pycharm": {
     "name": "#%%\n"
    }
   }
  },
  {
   "cell_type": "code",
   "execution_count": 10,
   "outputs": [
    {
     "data": {
      "text/plain": "Index(['prdt_nm', 'price', 'prdt_img', 'url', 'description', 'prdt_cd',\n       'prdt_img_url', 'color'],\n      dtype='object')"
     },
     "execution_count": 10,
     "metadata": {},
     "output_type": "execute_result"
    }
   ],
   "source": [
    "ori_df.columns"
   ],
   "metadata": {
    "collapsed": false,
    "pycharm": {
     "name": "#%%\n"
    }
   }
  },
  {
   "cell_type": "code",
   "execution_count": 14,
   "outputs": [
    {
     "data": {
      "text/plain": "72"
     },
     "execution_count": 14,
     "metadata": {},
     "output_type": "execute_result"
    }
   ],
   "source": [
    "list_prada = ['https://www.prada.com//kr/en/women/bags/totes/products.leather_handbag.1BG335_2BBE_F0NV1_V_OOO.html', 'https://www.prada.com//kr/en/women/bags/totes/products.leather_handbag.1BG335_2BBE_F0LK0_V_OOO.html', 'https://www.prada.com//kr/en/women/bags/totes/products.leather_handbag.1BG335_2BBE_F0002_V_OOO.html', 'https://www.prada.com//kr/en/women/bags/totes/products.leather_handbag.1BG335_2BBE_F0WA1_V_OOO.html', 'https://www.prada.com//kr/en/women/bags/top_handles/products.saffiano_leather_handbag.1BA269_2ERX_F0770_V_OO7.html', 'https://www.prada.com//kr/en/women/bags/shoulder_bags/products.prada_re-edition_2005_saffiano_leather_bag.1BH204_NZV_F0632_V_V4L.html', 'https://www.prada.com//kr/en/women/bags/shoulder_bags/products.prada_duet_nylon_shoulder_bag_with_braided_trim.1BH038_2A6S_F0002_V_MOO.html', 'https://www.prada.com//kr/en/women/bags/shoulder_bags/products.prada_duet_leather_shoulder_bag.1BH038_2CCC_F0002_V_OOM.html', 'https://www.prada.com//kr/en/women/bags/shoulder_bags/products.nylon_prada_duet_shoulder_bag.1BH038_V44_F0571_V_OOO.html', 'https://www.prada.com//kr/en/women/bags/shoulder_bags/products.nylon_prada_duet_shoulder_bag.1BH038_V44_F0008_V_OOO.html', 'https://www.prada.com//kr/en/women/bags/mini_bags/products.re-edition_2000_nylon_mini_bag.1NE515_2DH0_F0002.html', 'https://www.prada.com//kr/en/women/bags/mini_bags/products.re-edition_2000_nylon_mini_bag.1NE515_2DH0_F0237.html', 'https://www.prada.com//kr/en/women/bags/mini_bags/products.re-edition_2000_nylon_mini_bag.1NE515_2DH0_F0637.html', 'https://www.prada.com//kr/en/women/bags/mini_bags/products.re-edition_2000_nylon_mini_bag.1NE515_2DH0_F0638.html', 'https://www.prada.com//kr/en/women/bags/mini_bags/products.re-edition_nylon_mini_shoulder_bag.1TT122_064_F0770.html', 'https://www.prada.com//kr/en/women/bags/top_handles/products.medium_saffiano_leather_prada_matinee_bag.1BA282_2ERX_F068Z_V_MOE.html', 'https://www.prada.com//kr/en/women/bags/mini_bags/products.saffiano_leather_mini_bag.1BP020_2EEP_F0002_V_OOO.html', 'https://www.prada.com//kr/en/women/bags/mini_bags/products.saffiano_leather_mini_bag.1BP020_2EEP_F0637_V_OOO.html', 'https://www.prada.com//kr/en/women/bags/mini_bags/products.nappa_leather_mini_shoulder_bag.1DH010_2CET_F0002.html', 'https://www.prada.com//kr/en/women/bags/top_handles/products.medium_saffiano_leather_prada_galleria_bag.1BA274_NZV_F098L_V_DOO.html', 'https://www.prada.com//kr/en/women/bags/top_handles/products.small_saffiano_leather_prada_panier_bag.1BA217_2ERX_F0LJ4_V_OOO.html', 'https://www.prada.com//kr/en/women/bags/shoulder_bags/products.prada_spectrum_shoulder_bag.1BH141_WDF0_F0ZYY_V_OOO.html', 'https://www.prada.com//kr/en/women/bags/shoulder_bags/products.prada_spectrum_shoulder_bag.1BH141_WDF0_F0ES9_V_OOO.html', 'https://www.prada.com//kr/en/women/bags/totes/products.nylon_tote_bag.1BG308_2E0W_F0002_V_OOO.html', 'https://www.prada.com//kr/en/women/bags/shoulder_bags/products.medium_nylon_shoulder_bag.1BD671_V44_F0002_V_OOO.html', 'https://www.prada.com//kr/en/women/bags/shoulder_bags/products.leather_shoulder_bag.1BH130_2BBE_F0002_V_NOO.html', 'https://www.prada.com//kr/en/women/bags/shoulder_bags/products.leather_cross-body_bag.1BH082_2BBE_F0002_V_NOM.html', 'https://www.prada.com//kr/en/women/bags/shoulder_bags/products.leather_shoulder_bag.1BH050_2BBE_F0002_V_NOM.html', 'https://www.prada.com//kr/en/women/bags/shoulder_bags/products.prada_re-edition_2005_nylon_bag.1BH204_064_F0002_V_V1L.html', 'https://www.prada.com//kr/en/women/bags/totes/products.prada_double_nylon_and_saffiano_leather_bag.1BG775_2DLN_F0002_V_OOO.html', 'https://www.prada.com//kr/en/women/bags/top_handles/products.prada_matinee_micro_saffiano_leather_bag.1BA286_2ERX_F0002_V_OOO.html', 'https://www.prada.com//kr/en/women/bags/top_handles/products.medium_saffiano_leather_prada_matinee_bag.1BA282_2ERX_F0009_V_MOE.html', 'https://www.prada.com//kr/en/women/bags/bucket_bags/products.leather_prada_tress_bucket_bag.1BE049_2DI4_F0XKV_V_OOO.html', 'https://www.prada.com//kr/en/women/bags/shoulder_bags/products.leather_bag_with_cord_details.1BC131_2DJ4_F0002_V_OOO.html', 'https://www.prada.com//kr/en/women/bags/shoulder_bags/products.leather_bag_with_cord_details.1BC131_2DJ4_F0XKV_V_OOO.html', 'https://www.prada.com//kr/en/women/bags/shoulder_bags/products.leather_bag_with_cord_details.1BC131_2DJ4_F0G3Z_V_OOO.html', 'https://www.prada.com//kr/en/women/bags/bucket_bags/products.leather_prada_tambour_bucket_bag.1BE050_2AIX_F0002_V_OOO.html', 'https://www.prada.com//kr/en/women/bags/bucket_bags/products.leather_prada_tambour_bucket_bag.1BE050_2AIX_F0XKV_V_OOO.html', 'https://www.prada.com//kr/en/women/bags/bucket_bags/products.leather_prada_tambour_bucket_bag.1BE050_2AIX_F0G3Z_V_OOO.html', 'https://www.prada.com//kr/en/women/bags/bucket_bags/products.leather_prada_tambour_bucket_bag.1BE048_2AIX_F0XKV_V_5OL.html', 'https://www.prada.com//kr/en/women/bags/bucket_bags/products.leather_prada_tambour_bucket_bag.1BE048_2AIX_F0002_V_5OL.html', 'https://www.prada.com//kr/en/women/bags/shoulder_bags/products.raffia_and_leather_bag.1BC126_2DJS_F0A5T_V_OOO.html', 'https://www.prada.com//kr/en/women/summer_stories/bags/products.corn_husk_and_leather_tote.1BG325_2DJD_F0A5T_V_OOO.html', 'https://www.prada.com//kr/en/women/bags/totes/products.corn_husk_and_leather_tote.1BG336_2DJD_F0A5T_V_ZOO.html', 'https://www.prada.com//kr/en/women/summer_stories/bags/products.wicker_and_canvas_bucket_bag.1BE039_2E28_F0B67_V_OOO.html', 'https://www.prada.com//kr/en/women/bags/totes/products.woven_palm_and_leather_tote.1BG314_2DIJ_F0A5T_V_OOO.html', 'https://www.prada.com//kr/en/women/bags/totes/products.straw_and_leather_tote.1BG312_2DIF_F0ZI8_V_IOO.html', 'https://www.prada.com//kr/en/women/bags/totes/products.straw_and_leather_tote.1BG312_2DIF_F00J7_V_IOO.html', 'https://www.prada.com//kr/en/women/summer_stories/bags/products.small_linen_blend_and_leather_tote.1BG356_2DLI_F0A5T_V_OOO.html', 'https://www.prada.com//kr/en/women/summer_stories/bags/products.wicker_and_canvas_bucket_bag.1BE039_2E28_F076J_V_OOO.html', 'https://www.prada.com//kr/en/women/summer_stories/bags/products.wicker_and_canvas_bucket_bag.1BE039_2E28_F0I55_V_OOO.html', 'https://www.prada.com//kr/en/women/bags/shoulder_bags/products.wicker_and_canvas_shoulder_bag.1BH115_2E28_F0B67_V_OOO.html', 'https://www.prada.com//kr/en/women/bags/shoulder_bags/products.wicker_and_canvas_shoulder_bag.1BH115_2E28_F0I55_V_OOO.html', 'https://www.prada.com//kr/en/women/bags/shoulder_bags/products.wicker_and_canvas_shoulder_bag.1BH115_2E28_F0N86_V_OOO.html', 'https://www.prada.com//kr/en/women/summer_stories/bags/products.wicker_and_canvas_bucket_bag.1BE040_2E28_F0I55_V_OOO.html', 'https://www.prada.com//kr/en/women/summer_stories/bags/products.wicker_and_canvas_bucket_bag.1BE040_2E28_F00B6_V_OOO.html', 'https://www.prada.com//kr/en/women/bags/totes/products.wicker_and_canvas_handbag.1BG172_2E28_F0I55_V_OOY.html', 'https://www.prada.com//kr/en/women/summer_stories/bags/products.small_prada_plage_wicker_and_canvas_bucket_bag.1BE040_2DGB_F0Z41_V_OOO.html', 'https://www.prada.com//kr/en/women/summer_stories/bags/products.small_prada_plage_wicker_and_canvas_bucket_bag.1BE040_2DGB_F0ZY2_V_OOO.html', 'https://www.prada.com//kr/en/women/bags/shoulder_bags/products.wicker_and_canvas_shoulder_bag.1BH115_2CFH_F0YF2_V_OOO.html', 'https://www.prada.com//kr/en/women/bags/shoulder_bags/products.wicker_and_leather_shoulder_bag.1BH116_2BVU_F0A5T_V_OHO.html', 'https://www.prada.com//kr/en/women/bags/shoulder_bags/products.wicker_and_leather_shoulder_bag.1BH116_2BVU_F0I55_V_OHO.html', 'https://www.prada.com//kr/en/women/bags/shoulder_bags/products.wicker_and_leather_shoulder_bag.1BH117_2BVU_F0N86_V_OHO.html', 'https://www.prada.com//kr/en/women/bags/shoulder_bags/products.wicker_and_saffiano_leather_shoulder_bag.1BH146_2DGA_F0N86_V_OOO.html', 'https://www.prada.com//kr/en/women/bags/shoulder_bags/products.wicker_and_saffiano_leather_shoulder_bag.1BH146_2DGA_F076J_V_OOO.html', 'https://www.prada.com//kr/en/women/bags/shoulder_bags/products.raffia_and_leather_shoulder_bag.1BD243_2DJS_F0A5T_V_OWO.html', 'https://www.prada.com//kr/en/women/bags/shoulder_bags/products.nylon_and_saffiano_leather_shoulder_bag.1BD032_064_F0002_V_IO1.html', 'https://www.prada.com//kr/en/women/bags/shoulder_bags/products.nylon_and_saffiano_leather_shoulder_bag.1BD032_064_F0770_V_IO1.html', 'https://www.prada.com//kr/en/women/bags/shoulder_bags/products.prada_re-edition_2005_saffiano_leather_bag.1BH204_NZV_F0L2Y_V_V4L.html', 'https://www.prada.com//kr/en/women/bags/shoulder_bags/products.prada_re-edition_2005_saffiano_leather_bag.1BH204_NZV_F027W_V_V4L.html', 'https://www.prada.com//kr/en/women/bags/shoulder_bags/products.prada_re-edition_2005_saffiano_leather_bag.1BH204_NZV_F0MUH_V_V4L.html', 'https://www.prada.com//kr/en/women/bags/top_handles/products.saffiano_leather_handbag.1BA297_2ERX_F0770_V_OO7.html']\n",
    "len(list_prada)"
   ],
   "metadata": {
    "collapsed": false,
    "pycharm": {
     "name": "#%%\n"
    }
   }
  },
  {
   "cell_type": "code",
   "execution_count": 41,
   "outputs": [
    {
     "name": "stdout",
     "output_type": "stream",
     "text": [
      "        대표키워드        키워드1        키워드2         키워드3       키워드4          키워드5  \\\n",
      "0      MLB티셔츠      MLB반팔티      MLB티셔츠        MLB반팔     엠엘비반팔티        엠엘비티셔츠   \n",
      "1         티셔츠         반팔티      루즈핏티셔츠        여자티셔츠      남자티셔츠        루즈핏티셔츠   \n",
      "2     뉴발란스반팔티     뉴발란스티셔츠      뉴발란스반팔        뉴발반팔티  뉴발란스반팔티셔츠  뉴발란스 전황일 티셔츠   \n",
      "3      나이키반팔티      나이키티셔츠       나이키반팔         나이키티   나이키반팔티셔츠      나이키여성티셔츠   \n",
      "4       휠라반팔티       휠라티셔츠        휠라반팔          휠라티    휠라반팔티셔츠       휠라여성티셔츠   \n",
      "..        ...         ...         ...          ...        ...           ...   \n",
      "235  루이비통모노그램  루이비통모노그램가방  루이비통모노그램지갑  루이비통모노그램반지갑  루이비통모노그램백           NaN   \n",
      "236   MCM모노그램   MCM모노그램가방       MCM가방        MCM지갑      MCM백팩       MCM미니백팩   \n",
      "237   MLB모노그램     MLB모노그램     엠엘비모노그램    MLB모노그램가방  엠엘비모노그램가방     MLB모노그램힙색   \n",
      "238     MLB데님       MLB데님       엠엘비데님       MLB청자켓     MLB청바지       MLB데님바지   \n",
      "239     MLB하트       MLB하트       엠엘비하트     MLB하트시리즈   엠엘비하트시리즈      MLB하트맨투맨   \n",
      "\n",
      "            키워드6         키워드7         키워드8       키워드9      키워드10   키워드11  \\\n",
      "0          엠엘비반팔     엠엘비반팔티셔츠     MLB반팔티셔츠        NaN        NaN     NaN   \n",
      "1        여성반팔티셔츠       여자롱티셔츠       레터링티셔츠      반팔티셔츠      이너티셔츠     NaN   \n",
      "2    뉴발란스 캠핑 티셔츠          NaN          NaN        NaN        NaN     NaN   \n",
      "3       나이키남성티셔츠     여자나이키반팔티     남자나이키반팔티        NaN        NaN     NaN   \n",
      "4        휠라남성티셔츠      여자휠라반팔티      남자휠라반팔티        NaN        NaN     NaN   \n",
      "..           ...          ...          ...        ...        ...     ...   \n",
      "235          NaN          NaN          NaN        NaN        NaN     NaN   \n",
      "236      MCM크로스백      MCM클러치백      MCM비세토스  엠씨엠모노그램가방      엠씨엠가방   엠씨엠백팩   \n",
      "237    엠엘비모노그램힙색  MLB모노그램크로스백  엠엘비모노그램크로스백  MLB모노그램모자  엠엘비모노그램모자     NaN   \n",
      "238      MLB데님팬츠       엠엘비청자켓       엠엘비청바지    엠엘비데님바지    엠엘비데님팬츠  MLB청모자   \n",
      "239     엠엘비하트맨투맨     MLB하트티셔츠     엠엘비하트티셔츠   MLB하트반팔티   엠엘비하트반팔티     NaN   \n",
      "\n",
      "       키워드12    키워드13    키워드14    키워드15 키워드16 키워드17 키워드18 키워드19  \n",
      "0        NaN      NaN      NaN      NaN   NaN   NaN   NaN   NaN  \n",
      "1        NaN      NaN      NaN      NaN   NaN   NaN   NaN   NaN  \n",
      "2        NaN      NaN      NaN      NaN   NaN   NaN   NaN   NaN  \n",
      "3        NaN      NaN      NaN      NaN   NaN   NaN   NaN   NaN  \n",
      "4        NaN      NaN      NaN      NaN   NaN   NaN   NaN   NaN  \n",
      "..       ...      ...      ...      ...   ...   ...   ...   ...  \n",
      "235      NaN      NaN      NaN      NaN   NaN   NaN   NaN   NaN  \n",
      "236  엠씨엠미니백팩  엠씨엠크로스백  엠씨엠클러치백  엠씨엠비세토스   NaN   NaN   NaN   NaN  \n",
      "237      NaN      NaN      NaN      NaN   NaN   NaN   NaN   NaN  \n",
      "238   엠엘비청모자  MLB데님모자  엠엘비데님모자      NaN   NaN   NaN   NaN   NaN  \n",
      "239      NaN      NaN      NaN      NaN   NaN   NaN   NaN   NaN  \n",
      "\n",
      "[240 rows x 20 columns]\n"
     ]
    }
   ],
   "source": [
    "df = pd.read_excel(\"C:/Users/kyujin/Desktop/PROCESS/MKT/MLB_MKT/KEYWORD/FF_MLB_Keyword_20200804.xlsx\", sheet_name = '카테고리', header=1)\n",
    "df_search = df.iloc[:, 7:27]\n",
    "print(df_search)"
   ],
   "metadata": {
    "collapsed": false,
    "pycharm": {
     "name": "#%%\n"
    }
   }
  },
  {
   "cell_type": "code",
   "source": [
    "import datetime as dt\n",
    "base_dir = '//172.0.0.112/mlb/process_team/luxury_brand/dior/'\n",
    "main_url = 'https://www.dior.com/ko_kr'\n",
    "date_dir = base_dir + str(dt.datetime.strftime(dt.datetime.today(), \"%Y-%m-%d\"))\n",
    "print(type(date_dir))"
   ],
   "metadata": {
    "collapsed": false,
    "pycharm": {
     "name": "#%%\n"
    }
   },
   "execution_count": 63,
   "outputs": [
    {
     "name": "stdout",
     "output_type": "stream",
     "text": [
      "<class 'str'>\n"
     ]
    }
   ]
  },
  {
   "cell_type": "code",
   "execution_count": 10,
   "outputs": [
    {
     "name": "stdout",
     "output_type": "stream",
     "text": [
      "gucci http://gucci.com\n",
      "prada https://www.prada.com/kr/ko.html\n",
      "dior https://www.dior.com/ko_kr\n",
      "lv_url https://kr.louisvuitton.com/\n",
      "burberry https://kr.burberry.com/\n",
      "offwhite https://www.off---white.com/\n"
     ]
    }
   ],
   "source": [
    "url = {'gucci':'http://gucci.com', 'prada':'https://www.prada.com/kr/ko.html',\n",
    "        'dior':'https://www.dior.com/ko_kr', 'lv_url':'https://kr.louisvuitton.com/',\n",
    "        'burberry':'https://kr.burberry.com/', 'offwhite':'https://www.off---white.com/'}\n",
    "\n",
    "def get_url(url):\n",
    "    for brand, main_url in url.items():\n",
    "        print(brand, main_url)\n",
    "\n",
    "get_url(url)"
   ],
   "metadata": {
    "collapsed": false,
    "pycharm": {
     "name": "#%%\n"
    }
   }
  },
  {
   "cell_type": "code",
   "execution_count": 29,
   "outputs": [
    {
     "name": "stdout",
     "output_type": "stream",
     "text": [
      "0    2019_12_18_\n",
      "//172.0.0.112/mlb/process_team/nmania_crawl/0    2019_12_18_\n",
      "1    2019_12_17_\n",
      "//172.0.0.112/mlb/process_team/nmania_crawl/1    2019_12_17_\n",
      "2    2019_12_17_\n",
      "//172.0.0.112/mlb/process_team/nmania_crawl/2    2019_12_17_\n",
      "3    2019_12_17_\n",
      "//172.0.0.112/mlb/process_team/nmania_crawl/3    2019_12_17_\n",
      "4    2019_12_17_\n",
      "//172.0.0.112/mlb/process_team/nmania_crawl/4    2019_12_17_\n",
      "5    2019_12_17_\n",
      "//172.0.0.112/mlb/process_team/nmania_crawl/5    2019_12_17_\n",
      "6    2019_12_16_\n",
      "//172.0.0.112/mlb/process_team/nmania_crawl/6    2019_12_16_\n",
      "7    2019_12_16_\n",
      "//172.0.0.112/mlb/process_team/nmania_crawl/7    2019_12_16_\n",
      "8    2019_12_16_\n",
      "//172.0.0.112/mlb/process_team/nmania_crawl/8    2019_12_16_\n",
      "9    2019_12_15_\n",
      "//172.0.0.112/mlb/process_team/nmania_crawl/9    2019_12_15_\n",
      "10    2019_12_14_\n",
      "//172.0.0.112/mlb/process_team/nmania_crawl/10    2019_12_14_\n",
      "11    2019_12_14_\n",
      "//172.0.0.112/mlb/process_team/nmania_crawl/11    2019_12_14_\n",
      "12    2019_12_14_\n",
      "//172.0.0.112/mlb/process_team/nmania_crawl/12    2019_12_14_\n",
      "13    2019_12_13_\n",
      "//172.0.0.112/mlb/process_team/nmania_crawl/13    2019_12_13_\n",
      "14    2019_12_13_\n",
      "//172.0.0.112/mlb/process_team/nmania_crawl/14    2019_12_13_\n",
      "15    2019_12_13_\n",
      "//172.0.0.112/mlb/process_team/nmania_crawl/15    2019_12_13_\n",
      "16    2019_12_11_\n",
      "//172.0.0.112/mlb/process_team/nmania_crawl/16    2019_12_11_\n",
      "17    2019_12_11_\n",
      "//172.0.0.112/mlb/process_team/nmania_crawl/17    2019_12_11_\n",
      "18    2019_12_11_\n",
      "//172.0.0.112/mlb/process_team/nmania_crawl/18    2019_12_11_\n",
      "19    2019_12_11_\n",
      "//172.0.0.112/mlb/process_team/nmania_crawl/19    2019_12_11_\n",
      "20    2019_12_11_\n",
      "//172.0.0.112/mlb/process_team/nmania_crawl/20    2019_12_11_\n",
      "21    2019_12_10_\n",
      "//172.0.0.112/mlb/process_team/nmania_crawl/21    2019_12_10_\n",
      "22    2019_12_10_\n",
      "//172.0.0.112/mlb/process_team/nmania_crawl/22    2019_12_10_\n",
      "23    2019_12_10_\n",
      "//172.0.0.112/mlb/process_team/nmania_crawl/23    2019_12_10_\n",
      "24    2019_12_10_\n",
      "//172.0.0.112/mlb/process_team/nmania_crawl/24    2019_12_10_\n",
      "25    2019_12_09_\n",
      "//172.0.0.112/mlb/process_team/nmania_crawl/25    2019_12_09_\n",
      "26    2019_12_09_\n",
      "//172.0.0.112/mlb/process_team/nmania_crawl/26    2019_12_09_\n",
      "27    2019_12_09_\n",
      "//172.0.0.112/mlb/process_team/nmania_crawl/27    2019_12_09_\n",
      "28    2019_12_09_\n",
      "//172.0.0.112/mlb/process_team/nmania_crawl/28    2019_12_09_\n",
      "29    2019_12_08_\n",
      "//172.0.0.112/mlb/process_team/nmania_crawl/29    2019_12_08_\n",
      "30    2019_12_08_\n",
      "//172.0.0.112/mlb/process_team/nmania_crawl/30    2019_12_08_\n",
      "31    2019_12_08_\n",
      "//172.0.0.112/mlb/process_team/nmania_crawl/31    2019_12_08_\n",
      "32    2019_12_06_\n",
      "//172.0.0.112/mlb/process_team/nmania_crawl/32    2019_12_06_\n",
      "33    2019_12_06_\n",
      "//172.0.0.112/mlb/process_team/nmania_crawl/33    2019_12_06_\n",
      "34    2019_12_06_\n",
      "//172.0.0.112/mlb/process_team/nmania_crawl/34    2019_12_06_\n",
      "35    2019_12_06_\n",
      "//172.0.0.112/mlb/process_team/nmania_crawl/35    2019_12_06_\n",
      "36    2019_12_06_\n",
      "//172.0.0.112/mlb/process_team/nmania_crawl/36    2019_12_06_\n",
      "37    2019_12_06_\n",
      "//172.0.0.112/mlb/process_team/nmania_crawl/37    2019_12_06_\n",
      "38    2019_12_05_\n",
      "//172.0.0.112/mlb/process_team/nmania_crawl/38    2019_12_05_\n",
      "39    2019_12_05_\n",
      "//172.0.0.112/mlb/process_team/nmania_crawl/39    2019_12_05_\n",
      "40    2019_12_05_\n",
      "//172.0.0.112/mlb/process_team/nmania_crawl/40    2019_12_05_\n",
      "41    2019_12_05_\n",
      "//172.0.0.112/mlb/process_team/nmania_crawl/41    2019_12_05_\n",
      "42    2019_12_05_\n",
      "//172.0.0.112/mlb/process_team/nmania_crawl/42    2019_12_05_\n",
      "43    2019_12_04_\n",
      "//172.0.0.112/mlb/process_team/nmania_crawl/43    2019_12_04_\n",
      "44    2019_12_04_\n",
      "//172.0.0.112/mlb/process_team/nmania_crawl/44    2019_12_04_\n",
      "45    2019_12_04_\n",
      "//172.0.0.112/mlb/process_team/nmania_crawl/45    2019_12_04_\n",
      "46    2019_12_04_\n",
      "//172.0.0.112/mlb/process_team/nmania_crawl/46    2019_12_04_\n",
      "47    2019_12_03_\n",
      "//172.0.0.112/mlb/process_team/nmania_crawl/47    2019_12_03_\n",
      "48    2019_12_03_\n",
      "//172.0.0.112/mlb/process_team/nmania_crawl/48    2019_12_03_\n",
      "49    2019_12_02_\n",
      "//172.0.0.112/mlb/process_team/nmania_crawl/49    2019_12_02_\n",
      "50    2019_12_01_\n",
      "//172.0.0.112/mlb/process_team/nmania_crawl/50    2019_12_01_\n",
      "51    2019_12_01_\n",
      "//172.0.0.112/mlb/process_team/nmania_crawl/51    2019_12_01_\n",
      "52    2019_11_30_\n",
      "//172.0.0.112/mlb/process_team/nmania_crawl/52    2019_11_30_\n",
      "53    2019_11_30_\n",
      "//172.0.0.112/mlb/process_team/nmania_crawl/53    2019_11_30_\n",
      "54    2019_11_30_\n",
      "//172.0.0.112/mlb/process_team/nmania_crawl/54    2019_11_30_\n",
      "55    2019_11_29_\n",
      "//172.0.0.112/mlb/process_team/nmania_crawl/55    2019_11_29_\n",
      "56    2019_11_29_\n",
      "//172.0.0.112/mlb/process_team/nmania_crawl/56    2019_11_29_\n",
      "57    2019_11_29_\n",
      "//172.0.0.112/mlb/process_team/nmania_crawl/57    2019_11_29_\n",
      "58    2019_11_28_\n",
      "//172.0.0.112/mlb/process_team/nmania_crawl/58    2019_11_28_\n",
      "59    2019_11_28_\n",
      "//172.0.0.112/mlb/process_team/nmania_crawl/59    2019_11_28_\n",
      "60    2019_11_28_\n",
      "//172.0.0.112/mlb/process_team/nmania_crawl/60    2019_11_28_\n",
      "61    2019_11_27_\n",
      "//172.0.0.112/mlb/process_team/nmania_crawl/61    2019_11_27_\n",
      "62    2019_11_27_\n",
      "//172.0.0.112/mlb/process_team/nmania_crawl/62    2019_11_27_\n",
      "63    2019_11_27_\n",
      "//172.0.0.112/mlb/process_team/nmania_crawl/63    2019_11_27_\n",
      "64    2019_11_27_\n",
      "//172.0.0.112/mlb/process_team/nmania_crawl/64    2019_11_27_\n",
      "65    2019_11_27_\n",
      "//172.0.0.112/mlb/process_team/nmania_crawl/65    2019_11_27_\n",
      "66    2019_11_26_\n",
      "//172.0.0.112/mlb/process_team/nmania_crawl/66    2019_11_26_\n",
      "67    2019_11_26_\n",
      "//172.0.0.112/mlb/process_team/nmania_crawl/67    2019_11_26_\n",
      "68    2019_11_26_\n",
      "//172.0.0.112/mlb/process_team/nmania_crawl/68    2019_11_26_\n",
      "69    2019_11_25_\n",
      "//172.0.0.112/mlb/process_team/nmania_crawl/69    2019_11_25_\n",
      "70    2019_11_25_\n",
      "//172.0.0.112/mlb/process_team/nmania_crawl/70    2019_11_25_\n",
      "71    2019_11_25_\n",
      "//172.0.0.112/mlb/process_team/nmania_crawl/71    2019_11_25_\n",
      "72    2019_11_25_\n",
      "//172.0.0.112/mlb/process_team/nmania_crawl/72    2019_11_25_\n",
      "73    2019_11_24_\n",
      "//172.0.0.112/mlb/process_team/nmania_crawl/73    2019_11_24_\n",
      "74    2019_11_23_\n",
      "//172.0.0.112/mlb/process_team/nmania_crawl/74    2019_11_23_\n",
      "75    2019_11_23_\n",
      "//172.0.0.112/mlb/process_team/nmania_crawl/75    2019_11_23_\n",
      "76    2019_11_22_\n",
      "//172.0.0.112/mlb/process_team/nmania_crawl/76    2019_11_22_\n",
      "77    2019_11_22_\n",
      "//172.0.0.112/mlb/process_team/nmania_crawl/77    2019_11_22_\n",
      "78    2019_11_22_\n",
      "//172.0.0.112/mlb/process_team/nmania_crawl/78    2019_11_22_\n",
      "79    2019_11_22_\n",
      "//172.0.0.112/mlb/process_team/nmania_crawl/79    2019_11_22_\n",
      "80    2019_11_21_\n",
      "//172.0.0.112/mlb/process_team/nmania_crawl/80    2019_11_21_\n",
      "81    2019_11_21_\n",
      "//172.0.0.112/mlb/process_team/nmania_crawl/81    2019_11_21_\n",
      "82    2019_11_21_\n",
      "//172.0.0.112/mlb/process_team/nmania_crawl/82    2019_11_21_\n",
      "83    2019_11_20_\n",
      "//172.0.0.112/mlb/process_team/nmania_crawl/83    2019_11_20_\n",
      "84    2019_11_20_\n",
      "//172.0.0.112/mlb/process_team/nmania_crawl/84    2019_11_20_\n",
      "85    2019_11_20_\n",
      "//172.0.0.112/mlb/process_team/nmania_crawl/85    2019_11_20_\n",
      "86    2019_11_19_\n",
      "//172.0.0.112/mlb/process_team/nmania_crawl/86    2019_11_19_\n",
      "87    2019_11_19_\n",
      "//172.0.0.112/mlb/process_team/nmania_crawl/87    2019_11_19_\n",
      "88    2019_11_19_\n",
      "//172.0.0.112/mlb/process_team/nmania_crawl/88    2019_11_19_\n",
      "89    2019_11_19_\n",
      "//172.0.0.112/mlb/process_team/nmania_crawl/89    2019_11_19_\n",
      "90    2019_11_18_\n",
      "//172.0.0.112/mlb/process_team/nmania_crawl/90    2019_11_18_\n",
      "91    2019_11_18_\n",
      "//172.0.0.112/mlb/process_team/nmania_crawl/91    2019_11_18_\n",
      "92    2019_11_18_\n",
      "//172.0.0.112/mlb/process_team/nmania_crawl/92    2019_11_18_\n",
      "93    2019_11_17_\n",
      "//172.0.0.112/mlb/process_team/nmania_crawl/93    2019_11_17_\n",
      "94    2019_11_17_\n",
      "//172.0.0.112/mlb/process_team/nmania_crawl/94    2019_11_17_\n",
      "95    2019_11_16_\n",
      "//172.0.0.112/mlb/process_team/nmania_crawl/95    2019_11_16_\n",
      "96    2019_11_16_\n",
      "//172.0.0.112/mlb/process_team/nmania_crawl/96    2019_11_16_\n",
      "97    2019_11_16_\n",
      "//172.0.0.112/mlb/process_team/nmania_crawl/97    2019_11_16_\n",
      "98    2019_11_16_\n",
      "//172.0.0.112/mlb/process_team/nmania_crawl/98    2019_11_16_\n",
      "99    2019_11_16_\n",
      "//172.0.0.112/mlb/process_team/nmania_crawl/99    2019_11_16_\n",
      "100    2019_11_15_\n",
      "//172.0.0.112/mlb/process_team/nmania_crawl/100    2019_11_15_\n",
      "101    2019_11_15_\n",
      "//172.0.0.112/mlb/process_team/nmania_crawl/101    2019_11_15_\n",
      "102    2019_11_15_\n",
      "//172.0.0.112/mlb/process_team/nmania_crawl/102    2019_11_15_\n",
      "103    2019_11_15_\n",
      "//172.0.0.112/mlb/process_team/nmania_crawl/103    2019_11_15_\n",
      "104    2019_11_15_\n",
      "//172.0.0.112/mlb/process_team/nmania_crawl/104    2019_11_15_\n",
      "105    2019_11_18_\n",
      "//172.0.0.112/mlb/process_team/nmania_crawl/105    2019_11_18_\n",
      "106    2019_11_18_\n",
      "//172.0.0.112/mlb/process_team/nmania_crawl/106    2019_11_18_\n",
      "107    2019_11_18_\n",
      "//172.0.0.112/mlb/process_team/nmania_crawl/107    2019_11_18_\n",
      "108    2019_11_17_\n",
      "//172.0.0.112/mlb/process_team/nmania_crawl/108    2019_11_17_\n",
      "109    2019_11_17_\n",
      "//172.0.0.112/mlb/process_team/nmania_crawl/109    2019_11_17_\n",
      "110    2019_11_16_\n",
      "//172.0.0.112/mlb/process_team/nmania_crawl/110    2019_11_16_\n",
      "111    2019_11_16_\n",
      "//172.0.0.112/mlb/process_team/nmania_crawl/111    2019_11_16_\n",
      "112    2019_11_16_\n",
      "//172.0.0.112/mlb/process_team/nmania_crawl/112    2019_11_16_\n",
      "113    2019_11_16_\n",
      "//172.0.0.112/mlb/process_team/nmania_crawl/113    2019_11_16_\n",
      "114    2019_11_16_\n",
      "//172.0.0.112/mlb/process_team/nmania_crawl/114    2019_11_16_\n",
      "115    2019_11_15_\n",
      "//172.0.0.112/mlb/process_team/nmania_crawl/115    2019_11_15_\n",
      "116    2019_11_15_\n",
      "//172.0.0.112/mlb/process_team/nmania_crawl/116    2019_11_15_\n",
      "117    2019_11_15_\n",
      "//172.0.0.112/mlb/process_team/nmania_crawl/117    2019_11_15_\n",
      "118    2019_11_15_\n",
      "//172.0.0.112/mlb/process_team/nmania_crawl/118    2019_11_15_\n",
      "119    2019_11_15_\n",
      "//172.0.0.112/mlb/process_team/nmania_crawl/119    2019_11_15_\n",
      "120    2019_11_14_\n",
      "//172.0.0.112/mlb/process_team/nmania_crawl/120    2019_11_14_\n",
      "121    2019_11_14_\n",
      "//172.0.0.112/mlb/process_team/nmania_crawl/121    2019_11_14_\n",
      "122    2019_11_13_\n",
      "//172.0.0.112/mlb/process_team/nmania_crawl/122    2019_11_13_\n",
      "123    2019_11_13_\n",
      "//172.0.0.112/mlb/process_team/nmania_crawl/123    2019_11_13_\n",
      "124    2019_11_12_\n",
      "//172.0.0.112/mlb/process_team/nmania_crawl/124    2019_11_12_\n",
      "125    2019_11_12_\n",
      "//172.0.0.112/mlb/process_team/nmania_crawl/125    2019_11_12_\n",
      "126    2019_11_12_\n",
      "//172.0.0.112/mlb/process_team/nmania_crawl/126    2019_11_12_\n",
      "127    2019_11_12_\n",
      "//172.0.0.112/mlb/process_team/nmania_crawl/127    2019_11_12_\n",
      "128    2019_11_12_\n",
      "//172.0.0.112/mlb/process_team/nmania_crawl/128    2019_11_12_\n",
      "129    2019_11_12_\n",
      "//172.0.0.112/mlb/process_team/nmania_crawl/129    2019_11_12_\n",
      "130    2019_11_12_\n",
      "//172.0.0.112/mlb/process_team/nmania_crawl/130    2019_11_12_\n",
      "131    2019_11_12_\n",
      "//172.0.0.112/mlb/process_team/nmania_crawl/131    2019_11_12_\n",
      "132    2019_11_12_\n",
      "//172.0.0.112/mlb/process_team/nmania_crawl/132    2019_11_12_\n",
      "133    2019_11_11_\n",
      "//172.0.0.112/mlb/process_team/nmania_crawl/133    2019_11_11_\n",
      "134    2019_11_11_\n",
      "//172.0.0.112/mlb/process_team/nmania_crawl/134    2019_11_11_\n",
      "135    2019_11_11_\n",
      "//172.0.0.112/mlb/process_team/nmania_crawl/135    2019_11_11_\n",
      "136    2019_11_11_\n",
      "//172.0.0.112/mlb/process_team/nmania_crawl/136    2019_11_11_\n",
      "137    2019_11_11_\n",
      "//172.0.0.112/mlb/process_team/nmania_crawl/137    2019_11_11_\n",
      "138    2019_11_11_\n",
      "//172.0.0.112/mlb/process_team/nmania_crawl/138    2019_11_11_\n",
      "139    2019_11_10_\n",
      "//172.0.0.112/mlb/process_team/nmania_crawl/139    2019_11_10_\n",
      "140    2019_11_10_\n",
      "//172.0.0.112/mlb/process_team/nmania_crawl/140    2019_11_10_\n",
      "141    2019_11_10_\n",
      "//172.0.0.112/mlb/process_team/nmania_crawl/141    2019_11_10_\n",
      "142    2019_11_10_\n",
      "//172.0.0.112/mlb/process_team/nmania_crawl/142    2019_11_10_\n",
      "143    2019_11_09_\n",
      "//172.0.0.112/mlb/process_team/nmania_crawl/143    2019_11_09_\n",
      "144    2019_11_09_\n",
      "//172.0.0.112/mlb/process_team/nmania_crawl/144    2019_11_09_\n",
      "145    2019_11_09_\n",
      "//172.0.0.112/mlb/process_team/nmania_crawl/145    2019_11_09_\n",
      "146    2019_11_08_\n",
      "//172.0.0.112/mlb/process_team/nmania_crawl/146    2019_11_08_\n",
      "147    2019_11_08_\n",
      "//172.0.0.112/mlb/process_team/nmania_crawl/147    2019_11_08_\n",
      "148    2019_11_08_\n",
      "//172.0.0.112/mlb/process_team/nmania_crawl/148    2019_11_08_\n",
      "149    2019_11_08_\n",
      "//172.0.0.112/mlb/process_team/nmania_crawl/149    2019_11_08_\n",
      "150    2019_11_08_\n",
      "//172.0.0.112/mlb/process_team/nmania_crawl/150    2019_11_08_\n",
      "151    2019_11_07_\n",
      "//172.0.0.112/mlb/process_team/nmania_crawl/151    2019_11_07_\n",
      "152    2019_11_07_\n",
      "//172.0.0.112/mlb/process_team/nmania_crawl/152    2019_11_07_\n",
      "153    2019_11_07_\n",
      "//172.0.0.112/mlb/process_team/nmania_crawl/153    2019_11_07_\n",
      "154    2019_11_07_\n",
      "//172.0.0.112/mlb/process_team/nmania_crawl/154    2019_11_07_\n",
      "155    2019_11_07_\n",
      "//172.0.0.112/mlb/process_team/nmania_crawl/155    2019_11_07_\n",
      "156    2019_11_06_\n",
      "//172.0.0.112/mlb/process_team/nmania_crawl/156    2019_11_06_\n",
      "157    2019_11_06_\n",
      "//172.0.0.112/mlb/process_team/nmania_crawl/157    2019_11_06_\n",
      "158    2019_11_06_\n",
      "//172.0.0.112/mlb/process_team/nmania_crawl/158    2019_11_06_\n",
      "159    2019_11_06_\n",
      "//172.0.0.112/mlb/process_team/nmania_crawl/159    2019_11_06_\n",
      "160    2019_11_06_\n",
      "//172.0.0.112/mlb/process_team/nmania_crawl/160    2019_11_06_\n",
      "161    2019_11_06_\n",
      "//172.0.0.112/mlb/process_team/nmania_crawl/161    2019_11_06_\n",
      "162    2019_11_05_\n",
      "//172.0.0.112/mlb/process_team/nmania_crawl/162    2019_11_05_\n",
      "163    2019_11_05_\n",
      "//172.0.0.112/mlb/process_team/nmania_crawl/163    2019_11_05_\n",
      "164    2019_11_05_\n",
      "//172.0.0.112/mlb/process_team/nmania_crawl/164    2019_11_05_\n",
      "165    2019_11_05_\n",
      "//172.0.0.112/mlb/process_team/nmania_crawl/165    2019_11_05_\n",
      "166    2019_11_05_\n",
      "//172.0.0.112/mlb/process_team/nmania_crawl/166    2019_11_05_\n",
      "167    2019_11_05_\n",
      "//172.0.0.112/mlb/process_team/nmania_crawl/167    2019_11_05_\n",
      "168    2019_11_05_\n",
      "//172.0.0.112/mlb/process_team/nmania_crawl/168    2019_11_05_\n",
      "169    2019_11_05_\n",
      "//172.0.0.112/mlb/process_team/nmania_crawl/169    2019_11_05_\n",
      "170    2019_11_04_\n",
      "//172.0.0.112/mlb/process_team/nmania_crawl/170    2019_11_04_\n",
      "171    2019_11_04_\n",
      "//172.0.0.112/mlb/process_team/nmania_crawl/171    2019_11_04_\n",
      "172    2019_11_04_\n",
      "//172.0.0.112/mlb/process_team/nmania_crawl/172    2019_11_04_\n",
      "173    2019_11_04_\n",
      "//172.0.0.112/mlb/process_team/nmania_crawl/173    2019_11_04_\n",
      "174    2019_11_04_\n",
      "//172.0.0.112/mlb/process_team/nmania_crawl/174    2019_11_04_\n",
      "175    2019_11_04_\n",
      "//172.0.0.112/mlb/process_team/nmania_crawl/175    2019_11_04_\n",
      "176    2019_11_04_\n",
      "//172.0.0.112/mlb/process_team/nmania_crawl/176    2019_11_04_\n",
      "177    2019_11_04_\n",
      "//172.0.0.112/mlb/process_team/nmania_crawl/177    2019_11_04_\n",
      "178    2019_11_04_\n",
      "//172.0.0.112/mlb/process_team/nmania_crawl/178    2019_11_04_\n",
      "179    2019_11_03_\n",
      "//172.0.0.112/mlb/process_team/nmania_crawl/179    2019_11_03_\n",
      "180    2019_11_03_\n",
      "//172.0.0.112/mlb/process_team/nmania_crawl/180    2019_11_03_\n",
      "181    2019_11_03_\n",
      "//172.0.0.112/mlb/process_team/nmania_crawl/181    2019_11_03_\n",
      "182    2019_11_03_\n",
      "//172.0.0.112/mlb/process_team/nmania_crawl/182    2019_11_03_\n",
      "183    2019_11_03_\n",
      "//172.0.0.112/mlb/process_team/nmania_crawl/183    2019_11_03_\n",
      "184    2019_11_03_\n",
      "//172.0.0.112/mlb/process_team/nmania_crawl/184    2019_11_03_\n",
      "185    2019_11_02_\n",
      "//172.0.0.112/mlb/process_team/nmania_crawl/185    2019_11_02_\n",
      "186    2019_11_02_\n",
      "//172.0.0.112/mlb/process_team/nmania_crawl/186    2019_11_02_\n",
      "187    2019_11_01_\n",
      "//172.0.0.112/mlb/process_team/nmania_crawl/187    2019_11_01_\n",
      "188    2019_11_01_\n",
      "//172.0.0.112/mlb/process_team/nmania_crawl/188    2019_11_01_\n",
      "189    2019_11_01_\n",
      "//172.0.0.112/mlb/process_team/nmania_crawl/189    2019_11_01_\n",
      "190    2019_10_31_\n",
      "//172.0.0.112/mlb/process_team/nmania_crawl/190    2019_10_31_\n",
      "191    2019_10_31_\n",
      "//172.0.0.112/mlb/process_team/nmania_crawl/191    2019_10_31_\n",
      "192    2019_10_31_\n",
      "//172.0.0.112/mlb/process_team/nmania_crawl/192    2019_10_31_\n",
      "193    2019_10_30_\n",
      "//172.0.0.112/mlb/process_team/nmania_crawl/193    2019_10_30_\n",
      "194    2019_10_30_\n",
      "//172.0.0.112/mlb/process_team/nmania_crawl/194    2019_10_30_\n",
      "195    2019_10_30_\n",
      "//172.0.0.112/mlb/process_team/nmania_crawl/195    2019_10_30_\n",
      "196    2019_10_30_\n",
      "//172.0.0.112/mlb/process_team/nmania_crawl/196    2019_10_30_\n",
      "197    2019_10_30_\n",
      "//172.0.0.112/mlb/process_team/nmania_crawl/197    2019_10_30_\n",
      "198    2019_10_29_\n",
      "//172.0.0.112/mlb/process_team/nmania_crawl/198    2019_10_29_\n",
      "199    2019_10_29_\n",
      "//172.0.0.112/mlb/process_team/nmania_crawl/199    2019_10_29_\n",
      "200    2019_10_29_\n",
      "//172.0.0.112/mlb/process_team/nmania_crawl/200    2019_10_29_\n",
      "201    2019_10_29_\n",
      "//172.0.0.112/mlb/process_team/nmania_crawl/201    2019_10_29_\n",
      "202    2019_10_28_\n",
      "//172.0.0.112/mlb/process_team/nmania_crawl/202    2019_10_28_\n",
      "203    2019_10_28_\n",
      "//172.0.0.112/mlb/process_team/nmania_crawl/203    2019_10_28_\n",
      "204    2019_10_28_\n",
      "//172.0.0.112/mlb/process_team/nmania_crawl/204    2019_10_28_\n",
      "205    2019_10_27_\n",
      "//172.0.0.112/mlb/process_team/nmania_crawl/205    2019_10_27_\n",
      "206    2019_10_27_\n",
      "//172.0.0.112/mlb/process_team/nmania_crawl/206    2019_10_27_\n",
      "207    2019_10_27_\n",
      "//172.0.0.112/mlb/process_team/nmania_crawl/207    2019_10_27_\n",
      "208    2019_10_27_\n",
      "//172.0.0.112/mlb/process_team/nmania_crawl/208    2019_10_27_\n",
      "209    2019_10_27_\n",
      "//172.0.0.112/mlb/process_team/nmania_crawl/209    2019_10_27_\n",
      "210    2019_10_26_\n",
      "//172.0.0.112/mlb/process_team/nmania_crawl/210    2019_10_26_\n",
      "211    2019_10_26_\n",
      "//172.0.0.112/mlb/process_team/nmania_crawl/211    2019_10_26_\n",
      "212    2019_10_26_\n",
      "//172.0.0.112/mlb/process_team/nmania_crawl/212    2019_10_26_\n",
      "213    2019_10_26_\n",
      "//172.0.0.112/mlb/process_team/nmania_crawl/213    2019_10_26_\n",
      "214    2019_10_25_\n",
      "//172.0.0.112/mlb/process_team/nmania_crawl/214    2019_10_25_\n",
      "215    2019_10_25_\n",
      "//172.0.0.112/mlb/process_team/nmania_crawl/215    2019_10_25_\n",
      "216    2019_10_25_\n",
      "//172.0.0.112/mlb/process_team/nmania_crawl/216    2019_10_25_\n",
      "217    2019_10_24_\n",
      "//172.0.0.112/mlb/process_team/nmania_crawl/217    2019_10_24_\n",
      "218    2019_10_24_\n",
      "//172.0.0.112/mlb/process_team/nmania_crawl/218    2019_10_24_\n",
      "219    2019_10_24_\n",
      "//172.0.0.112/mlb/process_team/nmania_crawl/219    2019_10_24_\n",
      "220    2019_10_24_\n",
      "//172.0.0.112/mlb/process_team/nmania_crawl/220    2019_10_24_\n",
      "221    2019_10_23_\n",
      "//172.0.0.112/mlb/process_team/nmania_crawl/221    2019_10_23_\n",
      "222    2019_10_23_\n",
      "//172.0.0.112/mlb/process_team/nmania_crawl/222    2019_10_23_\n",
      "223    2019_10_23_\n",
      "//172.0.0.112/mlb/process_team/nmania_crawl/223    2019_10_23_\n",
      "224    2019_10_23_\n",
      "//172.0.0.112/mlb/process_team/nmania_crawl/224    2019_10_23_\n",
      "225    2019_10_23_\n",
      "//172.0.0.112/mlb/process_team/nmania_crawl/225    2019_10_23_\n",
      "226    2019_10_23_\n",
      "//172.0.0.112/mlb/process_team/nmania_crawl/226    2019_10_23_\n",
      "227    2019_10_22_\n",
      "//172.0.0.112/mlb/process_team/nmania_crawl/227    2019_10_22_\n",
      "228    2019_10_22_\n",
      "//172.0.0.112/mlb/process_team/nmania_crawl/228    2019_10_22_\n",
      "229    2019_10_22_\n",
      "//172.0.0.112/mlb/process_team/nmania_crawl/229    2019_10_22_\n",
      "230    2019_10_22_\n",
      "//172.0.0.112/mlb/process_team/nmania_crawl/230    2019_10_22_\n",
      "231    2019_10_22_\n",
      "//172.0.0.112/mlb/process_team/nmania_crawl/231    2019_10_22_\n",
      "232    2019_10_22_\n",
      "//172.0.0.112/mlb/process_team/nmania_crawl/232    2019_10_22_\n",
      "233    2019_10_21_\n",
      "//172.0.0.112/mlb/process_team/nmania_crawl/233    2019_10_21_\n",
      "234    2019_10_21_\n",
      "//172.0.0.112/mlb/process_team/nmania_crawl/234    2019_10_21_\n",
      "235    2019_10_21_\n",
      "//172.0.0.112/mlb/process_team/nmania_crawl/235    2019_10_21_\n",
      "236    2019_10_21_\n",
      "//172.0.0.112/mlb/process_team/nmania_crawl/236    2019_10_21_\n",
      "237    2019_10_21_\n",
      "//172.0.0.112/mlb/process_team/nmania_crawl/237    2019_10_21_\n",
      "238    2019_10_21_\n",
      "//172.0.0.112/mlb/process_team/nmania_crawl/238    2019_10_21_\n",
      "239    2019_10_21_\n",
      "//172.0.0.112/mlb/process_team/nmania_crawl/239    2019_10_21_\n",
      "240    2019_10_20_\n",
      "//172.0.0.112/mlb/process_team/nmania_crawl/240    2019_10_20_\n",
      "241    2019_10_20_\n",
      "//172.0.0.112/mlb/process_team/nmania_crawl/241    2019_10_20_\n",
      "242    2019_10_20_\n",
      "//172.0.0.112/mlb/process_team/nmania_crawl/242    2019_10_20_\n",
      "243    2019_10_19_\n",
      "//172.0.0.112/mlb/process_team/nmania_crawl/243    2019_10_19_\n",
      "244    2019_10_19_\n",
      "//172.0.0.112/mlb/process_team/nmania_crawl/244    2019_10_19_\n",
      "245    2019_10_19_\n",
      "//172.0.0.112/mlb/process_team/nmania_crawl/245    2019_10_19_\n",
      "246    2019_10_19_\n",
      "//172.0.0.112/mlb/process_team/nmania_crawl/246    2019_10_19_\n",
      "247    2019_10_18_\n",
      "//172.0.0.112/mlb/process_team/nmania_crawl/247    2019_10_18_\n",
      "248    2019_10_17_\n",
      "//172.0.0.112/mlb/process_team/nmania_crawl/248    2019_10_17_\n",
      "249    2019_10_17_\n",
      "//172.0.0.112/mlb/process_team/nmania_crawl/249    2019_10_17_\n",
      "250    2019_10_16_\n",
      "//172.0.0.112/mlb/process_team/nmania_crawl/250    2019_10_16_\n",
      "251    2019_10_16_\n",
      "//172.0.0.112/mlb/process_team/nmania_crawl/251    2019_10_16_\n",
      "252    2019_10_16_\n",
      "//172.0.0.112/mlb/process_team/nmania_crawl/252    2019_10_16_\n",
      "253    2019_10_16_\n",
      "//172.0.0.112/mlb/process_team/nmania_crawl/253    2019_10_16_\n",
      "254    2019_10_15_\n",
      "//172.0.0.112/mlb/process_team/nmania_crawl/254    2019_10_15_\n",
      "255    2019_10_15_\n",
      "//172.0.0.112/mlb/process_team/nmania_crawl/255    2019_10_15_\n",
      "256    2019_10_15_\n",
      "//172.0.0.112/mlb/process_team/nmania_crawl/256    2019_10_15_\n",
      "257    2019_10_15_\n",
      "//172.0.0.112/mlb/process_team/nmania_crawl/257    2019_10_15_\n",
      "258    2019_10_14_\n",
      "//172.0.0.112/mlb/process_team/nmania_crawl/258    2019_10_14_\n",
      "259    2019_10_14_\n",
      "//172.0.0.112/mlb/process_team/nmania_crawl/259    2019_10_14_\n",
      "260    2019_10_14_\n",
      "//172.0.0.112/mlb/process_team/nmania_crawl/260    2019_10_14_\n",
      "261    2019_10_14_\n",
      "//172.0.0.112/mlb/process_team/nmania_crawl/261    2019_10_14_\n",
      "262    2019_10_14_\n",
      "//172.0.0.112/mlb/process_team/nmania_crawl/262    2019_10_14_\n",
      "263    2019_10_13_\n",
      "//172.0.0.112/mlb/process_team/nmania_crawl/263    2019_10_13_\n",
      "264    2019_10_13_\n",
      "//172.0.0.112/mlb/process_team/nmania_crawl/264    2019_10_13_\n",
      "265    2019_10_13_\n",
      "//172.0.0.112/mlb/process_team/nmania_crawl/265    2019_10_13_\n",
      "266    2019_10_12_\n",
      "//172.0.0.112/mlb/process_team/nmania_crawl/266    2019_10_12_\n",
      "267    2019_10_12_\n",
      "//172.0.0.112/mlb/process_team/nmania_crawl/267    2019_10_12_\n",
      "268    2019_10_12_\n",
      "//172.0.0.112/mlb/process_team/nmania_crawl/268    2019_10_12_\n",
      "269    2019_10_12_\n",
      "//172.0.0.112/mlb/process_team/nmania_crawl/269    2019_10_12_\n",
      "270    2019_10_12_\n",
      "//172.0.0.112/mlb/process_team/nmania_crawl/270    2019_10_12_\n",
      "271    2019_10_12_\n",
      "//172.0.0.112/mlb/process_team/nmania_crawl/271    2019_10_12_\n",
      "272    2019_10_12_\n",
      "//172.0.0.112/mlb/process_team/nmania_crawl/272    2019_10_12_\n",
      "273    2019_10_11_\n",
      "//172.0.0.112/mlb/process_team/nmania_crawl/273    2019_10_11_\n",
      "274    2019_10_11_\n",
      "//172.0.0.112/mlb/process_team/nmania_crawl/274    2019_10_11_\n",
      "275    2019_10_11_\n",
      "//172.0.0.112/mlb/process_team/nmania_crawl/275    2019_10_11_\n",
      "276    2019_10_11_\n",
      "//172.0.0.112/mlb/process_team/nmania_crawl/276    2019_10_11_\n",
      "277    2019_10_10_\n",
      "//172.0.0.112/mlb/process_team/nmania_crawl/277    2019_10_10_\n",
      "278    2019_10_10_\n",
      "//172.0.0.112/mlb/process_team/nmania_crawl/278    2019_10_10_\n",
      "279    2019_10_10_\n",
      "//172.0.0.112/mlb/process_team/nmania_crawl/279    2019_10_10_\n",
      "280    2019_10_10_\n",
      "//172.0.0.112/mlb/process_team/nmania_crawl/280    2019_10_10_\n",
      "281    2019_10_10_\n",
      "//172.0.0.112/mlb/process_team/nmania_crawl/281    2019_10_10_\n",
      "282    2019_10_09_\n",
      "//172.0.0.112/mlb/process_team/nmania_crawl/282    2019_10_09_\n",
      "283    2019_10_09_\n",
      "//172.0.0.112/mlb/process_team/nmania_crawl/283    2019_10_09_\n",
      "284    2019_10_09_\n",
      "//172.0.0.112/mlb/process_team/nmania_crawl/284    2019_10_09_\n",
      "285    2019_10_09_\n",
      "//172.0.0.112/mlb/process_team/nmania_crawl/285    2019_10_09_\n",
      "286    2019_10_09_\n",
      "//172.0.0.112/mlb/process_team/nmania_crawl/286    2019_10_09_\n",
      "287    2019_10_09_\n",
      "//172.0.0.112/mlb/process_team/nmania_crawl/287    2019_10_09_\n",
      "288    2019_10_08_\n",
      "//172.0.0.112/mlb/process_team/nmania_crawl/288    2019_10_08_\n",
      "289    2019_10_08_\n",
      "//172.0.0.112/mlb/process_team/nmania_crawl/289    2019_10_08_\n",
      "290    2019_10_07_\n",
      "//172.0.0.112/mlb/process_team/nmania_crawl/290    2019_10_07_\n",
      "291    2019_10_07_\n",
      "//172.0.0.112/mlb/process_team/nmania_crawl/291    2019_10_07_\n",
      "292    2019_10_07_\n",
      "//172.0.0.112/mlb/process_team/nmania_crawl/292    2019_10_07_\n",
      "293    2019_10_07_\n",
      "//172.0.0.112/mlb/process_team/nmania_crawl/293    2019_10_07_\n",
      "294    2019_10_07_\n",
      "//172.0.0.112/mlb/process_team/nmania_crawl/294    2019_10_07_\n",
      "295    2019_10_07_\n",
      "//172.0.0.112/mlb/process_team/nmania_crawl/295    2019_10_07_\n",
      "296    2019_10_06_\n",
      "//172.0.0.112/mlb/process_team/nmania_crawl/296    2019_10_06_\n",
      "297    2019_10_06_\n",
      "//172.0.0.112/mlb/process_team/nmania_crawl/297    2019_10_06_\n",
      "298    2019_10_06_\n",
      "//172.0.0.112/mlb/process_team/nmania_crawl/298    2019_10_06_\n",
      "299    2019_10_06_\n",
      "//172.0.0.112/mlb/process_team/nmania_crawl/299    2019_10_06_\n",
      "300    2019_10_06_\n",
      "//172.0.0.112/mlb/process_team/nmania_crawl/300    2019_10_06_\n",
      "301    2019_10_06_\n",
      "//172.0.0.112/mlb/process_team/nmania_crawl/301    2019_10_06_\n",
      "302    2019_10_05_\n",
      "//172.0.0.112/mlb/process_team/nmania_crawl/302    2019_10_05_\n",
      "303    2019_10_05_\n",
      "//172.0.0.112/mlb/process_team/nmania_crawl/303    2019_10_05_\n",
      "304    2019_10_04_\n",
      "//172.0.0.112/mlb/process_team/nmania_crawl/304    2019_10_04_\n",
      "305    2019_10_04_\n",
      "//172.0.0.112/mlb/process_team/nmania_crawl/305    2019_10_04_\n",
      "306    2019_10_04_\n",
      "//172.0.0.112/mlb/process_team/nmania_crawl/306    2019_10_04_\n",
      "307    2019_10_04_\n",
      "//172.0.0.112/mlb/process_team/nmania_crawl/307    2019_10_04_\n",
      "308    2019_10_04_\n",
      "//172.0.0.112/mlb/process_team/nmania_crawl/308    2019_10_04_\n",
      "309    2019_10_03_\n",
      "//172.0.0.112/mlb/process_team/nmania_crawl/309    2019_10_03_\n",
      "310    2019_10_03_\n",
      "//172.0.0.112/mlb/process_team/nmania_crawl/310    2019_10_03_\n",
      "311    2019_10_03_\n",
      "//172.0.0.112/mlb/process_team/nmania_crawl/311    2019_10_03_\n",
      "312    2019_10_02_\n",
      "//172.0.0.112/mlb/process_team/nmania_crawl/312    2019_10_02_\n",
      "313    2019_10_02_\n",
      "//172.0.0.112/mlb/process_team/nmania_crawl/313    2019_10_02_\n",
      "314    2019_10_02_\n",
      "//172.0.0.112/mlb/process_team/nmania_crawl/314    2019_10_02_\n",
      "315    2019_10_02_\n",
      "//172.0.0.112/mlb/process_team/nmania_crawl/315    2019_10_02_\n",
      "316    2019_10_02_\n",
      "//172.0.0.112/mlb/process_team/nmania_crawl/316    2019_10_02_\n",
      "317    2019_10_01_\n",
      "//172.0.0.112/mlb/process_team/nmania_crawl/317    2019_10_01_\n",
      "318    2019_10_01_\n",
      "//172.0.0.112/mlb/process_team/nmania_crawl/318    2019_10_01_\n",
      "319    2019_10_01_\n",
      "//172.0.0.112/mlb/process_team/nmania_crawl/319    2019_10_01_\n",
      "320    2019_10_01_\n",
      "//172.0.0.112/mlb/process_team/nmania_crawl/320    2019_10_01_\n",
      "321    2019_09_30_\n",
      "//172.0.0.112/mlb/process_team/nmania_crawl/321    2019_09_30_\n",
      "322    2019_09_30_\n",
      "//172.0.0.112/mlb/process_team/nmania_crawl/322    2019_09_30_\n",
      "323    2019_09_30_\n",
      "//172.0.0.112/mlb/process_team/nmania_crawl/323    2019_09_30_\n",
      "324    2019_09_30_\n",
      "//172.0.0.112/mlb/process_team/nmania_crawl/324    2019_09_30_\n",
      "325    2019_09_29_\n",
      "//172.0.0.112/mlb/process_team/nmania_crawl/325    2019_09_29_\n",
      "326    2019_09_29_\n",
      "//172.0.0.112/mlb/process_team/nmania_crawl/326    2019_09_29_\n",
      "327    2019_09_28_\n",
      "//172.0.0.112/mlb/process_team/nmania_crawl/327    2019_09_28_\n",
      "328    2019_09_28_\n",
      "//172.0.0.112/mlb/process_team/nmania_crawl/328    2019_09_28_\n",
      "329    2019_09_28_\n",
      "//172.0.0.112/mlb/process_team/nmania_crawl/329    2019_09_28_\n",
      "330    2019_09_28_\n",
      "//172.0.0.112/mlb/process_team/nmania_crawl/330    2019_09_28_\n",
      "331    2019_09_28_\n",
      "//172.0.0.112/mlb/process_team/nmania_crawl/331    2019_09_28_\n",
      "332    2019_09_28_\n",
      "//172.0.0.112/mlb/process_team/nmania_crawl/332    2019_09_28_\n",
      "333    2019_09_28_\n",
      "//172.0.0.112/mlb/process_team/nmania_crawl/333    2019_09_28_\n",
      "334    2019_09_27_\n",
      "//172.0.0.112/mlb/process_team/nmania_crawl/334    2019_09_27_\n",
      "335    2019_09_27_\n",
      "//172.0.0.112/mlb/process_team/nmania_crawl/335    2019_09_27_\n",
      "336    2019_09_26_\n",
      "//172.0.0.112/mlb/process_team/nmania_crawl/336    2019_09_26_\n",
      "337    2019_09_26_\n",
      "//172.0.0.112/mlb/process_team/nmania_crawl/337    2019_09_26_\n",
      "338    2019_09_26_\n",
      "//172.0.0.112/mlb/process_team/nmania_crawl/338    2019_09_26_\n",
      "339    2019_09_25_\n",
      "//172.0.0.112/mlb/process_team/nmania_crawl/339    2019_09_25_\n",
      "340    2019_09_25_\n",
      "//172.0.0.112/mlb/process_team/nmania_crawl/340    2019_09_25_\n",
      "341    2019_09_25_\n",
      "//172.0.0.112/mlb/process_team/nmania_crawl/341    2019_09_25_\n",
      "342    2019_09_25_\n",
      "//172.0.0.112/mlb/process_team/nmania_crawl/342    2019_09_25_\n",
      "343    2019_09_24_\n",
      "//172.0.0.112/mlb/process_team/nmania_crawl/343    2019_09_24_\n",
      "344    2019_09_24_\n",
      "//172.0.0.112/mlb/process_team/nmania_crawl/344    2019_09_24_\n",
      "345    2019_09_24_\n",
      "//172.0.0.112/mlb/process_team/nmania_crawl/345    2019_09_24_\n",
      "346    2019_09_24_\n",
      "//172.0.0.112/mlb/process_team/nmania_crawl/346    2019_09_24_\n",
      "347    2019_09_24_\n",
      "//172.0.0.112/mlb/process_team/nmania_crawl/347    2019_09_24_\n",
      "348    2019_09_23_\n",
      "//172.0.0.112/mlb/process_team/nmania_crawl/348    2019_09_23_\n",
      "349    2019_09_23_\n",
      "//172.0.0.112/mlb/process_team/nmania_crawl/349    2019_09_23_\n",
      "350    2019_09_23_\n",
      "//172.0.0.112/mlb/process_team/nmania_crawl/350    2019_09_23_\n",
      "351    2019_09_23_\n",
      "//172.0.0.112/mlb/process_team/nmania_crawl/351    2019_09_23_\n",
      "352    2019_09_23_\n",
      "//172.0.0.112/mlb/process_team/nmania_crawl/352    2019_09_23_\n",
      "353    2019_09_23_\n",
      "//172.0.0.112/mlb/process_team/nmania_crawl/353    2019_09_23_\n",
      "354    2019_09_23_\n",
      "//172.0.0.112/mlb/process_team/nmania_crawl/354    2019_09_23_\n",
      "355    2019_09_23_\n",
      "//172.0.0.112/mlb/process_team/nmania_crawl/355    2019_09_23_\n",
      "356    2019_09_23_\n",
      "//172.0.0.112/mlb/process_team/nmania_crawl/356    2019_09_23_\n",
      "357    2019_09_22_\n",
      "//172.0.0.112/mlb/process_team/nmania_crawl/357    2019_09_22_\n",
      "358    2019_09_22_\n",
      "//172.0.0.112/mlb/process_team/nmania_crawl/358    2019_09_22_\n",
      "359    2019_09_22_\n",
      "//172.0.0.112/mlb/process_team/nmania_crawl/359    2019_09_22_\n",
      "360    2019_09_21_\n",
      "//172.0.0.112/mlb/process_team/nmania_crawl/360    2019_09_21_\n",
      "361    2019_09_21_\n",
      "//172.0.0.112/mlb/process_team/nmania_crawl/361    2019_09_21_\n",
      "362    2019_09_19_\n",
      "//172.0.0.112/mlb/process_team/nmania_crawl/362    2019_09_19_\n",
      "363    2019_09_19_\n",
      "//172.0.0.112/mlb/process_team/nmania_crawl/363    2019_09_19_\n",
      "364    2019_09_19_\n",
      "//172.0.0.112/mlb/process_team/nmania_crawl/364    2019_09_19_\n",
      "365    2019_09_19_\n",
      "//172.0.0.112/mlb/process_team/nmania_crawl/365    2019_09_19_\n",
      "366    2019_09_18_\n",
      "//172.0.0.112/mlb/process_team/nmania_crawl/366    2019_09_18_\n",
      "367    2019_09_18_\n",
      "//172.0.0.112/mlb/process_team/nmania_crawl/367    2019_09_18_\n",
      "368    2019_09_17_\n",
      "//172.0.0.112/mlb/process_team/nmania_crawl/368    2019_09_17_\n",
      "369    2019_09_16_\n",
      "//172.0.0.112/mlb/process_team/nmania_crawl/369    2019_09_16_\n",
      "370    2019_09_16_\n",
      "//172.0.0.112/mlb/process_team/nmania_crawl/370    2019_09_16_\n",
      "371    2019_09_16_\n",
      "//172.0.0.112/mlb/process_team/nmania_crawl/371    2019_09_16_\n",
      "372    2019_09_16_\n",
      "//172.0.0.112/mlb/process_team/nmania_crawl/372    2019_09_16_\n",
      "373    2019_09_15_\n",
      "//172.0.0.112/mlb/process_team/nmania_crawl/373    2019_09_15_\n",
      "374    2019_09_15_\n",
      "//172.0.0.112/mlb/process_team/nmania_crawl/374    2019_09_15_\n",
      "375    2019_09_15_\n",
      "//172.0.0.112/mlb/process_team/nmania_crawl/375    2019_09_15_\n",
      "376    2019_09_15_\n",
      "//172.0.0.112/mlb/process_team/nmania_crawl/376    2019_09_15_\n",
      "377    2019_09_15_\n",
      "//172.0.0.112/mlb/process_team/nmania_crawl/377    2019_09_15_\n",
      "378    2019_09_14_\n",
      "//172.0.0.112/mlb/process_team/nmania_crawl/378    2019_09_14_\n",
      "379    2019_09_14_\n",
      "//172.0.0.112/mlb/process_team/nmania_crawl/379    2019_09_14_\n",
      "380    2019_09_13_\n",
      "//172.0.0.112/mlb/process_team/nmania_crawl/380    2019_09_13_\n",
      "381    2019_09_13_\n",
      "//172.0.0.112/mlb/process_team/nmania_crawl/381    2019_09_13_\n",
      "382    2019_09_12_\n",
      "//172.0.0.112/mlb/process_team/nmania_crawl/382    2019_09_12_\n",
      "383    2019_09_12_\n",
      "//172.0.0.112/mlb/process_team/nmania_crawl/383    2019_09_12_\n",
      "384    2019_09_12_\n",
      "//172.0.0.112/mlb/process_team/nmania_crawl/384    2019_09_12_\n",
      "385    2019_09_12_\n",
      "//172.0.0.112/mlb/process_team/nmania_crawl/385    2019_09_12_\n",
      "386    2019_09_11_\n",
      "//172.0.0.112/mlb/process_team/nmania_crawl/386    2019_09_11_\n",
      "387    2019_09_10_\n",
      "//172.0.0.112/mlb/process_team/nmania_crawl/387    2019_09_10_\n",
      "388    2019_09_09_\n",
      "//172.0.0.112/mlb/process_team/nmania_crawl/388    2019_09_09_\n",
      "389    2019_09_09_\n",
      "//172.0.0.112/mlb/process_team/nmania_crawl/389    2019_09_09_\n",
      "390    2019_09_09_\n",
      "//172.0.0.112/mlb/process_team/nmania_crawl/390    2019_09_09_\n",
      "391    2019_09_08_\n",
      "//172.0.0.112/mlb/process_team/nmania_crawl/391    2019_09_08_\n",
      "392    2019_09_08_\n",
      "//172.0.0.112/mlb/process_team/nmania_crawl/392    2019_09_08_\n",
      "393    2019_09_08_\n",
      "//172.0.0.112/mlb/process_team/nmania_crawl/393    2019_09_08_\n",
      "394    2019_09_08_\n",
      "//172.0.0.112/mlb/process_team/nmania_crawl/394    2019_09_08_\n",
      "395    2019_09_07_\n",
      "//172.0.0.112/mlb/process_team/nmania_crawl/395    2019_09_07_\n",
      "396    2019_09_07_\n",
      "//172.0.0.112/mlb/process_team/nmania_crawl/396    2019_09_07_\n",
      "397    2019_09_06_\n",
      "//172.0.0.112/mlb/process_team/nmania_crawl/397    2019_09_06_\n",
      "398    2019_09_06_\n",
      "//172.0.0.112/mlb/process_team/nmania_crawl/398    2019_09_06_\n",
      "399    2019_09_06_\n",
      "//172.0.0.112/mlb/process_team/nmania_crawl/399    2019_09_06_\n",
      "400    2019_09_06_\n",
      "//172.0.0.112/mlb/process_team/nmania_crawl/400    2019_09_06_\n",
      "401    2019_09_05_\n",
      "//172.0.0.112/mlb/process_team/nmania_crawl/401    2019_09_05_\n",
      "402    2019_09_04_\n",
      "//172.0.0.112/mlb/process_team/nmania_crawl/402    2019_09_04_\n",
      "403    2019_09_04_\n",
      "//172.0.0.112/mlb/process_team/nmania_crawl/403    2019_09_04_\n",
      "404    2019_09_03_\n",
      "//172.0.0.112/mlb/process_team/nmania_crawl/404    2019_09_03_\n",
      "405    2019_09_03_\n",
      "//172.0.0.112/mlb/process_team/nmania_crawl/405    2019_09_03_\n",
      "406    2019_09_03_\n",
      "//172.0.0.112/mlb/process_team/nmania_crawl/406    2019_09_03_\n",
      "407    2019_09_03_\n",
      "//172.0.0.112/mlb/process_team/nmania_crawl/407    2019_09_03_\n",
      "408    2019_09_03_\n",
      "//172.0.0.112/mlb/process_team/nmania_crawl/408    2019_09_03_\n",
      "409    2019_09_01_\n",
      "//172.0.0.112/mlb/process_team/nmania_crawl/409    2019_09_01_\n",
      "410    2019_09_01_\n",
      "//172.0.0.112/mlb/process_team/nmania_crawl/410    2019_09_01_\n",
      "411    2019_08_31_\n",
      "//172.0.0.112/mlb/process_team/nmania_crawl/411    2019_08_31_\n",
      "412    2019_08_31_\n",
      "//172.0.0.112/mlb/process_team/nmania_crawl/412    2019_08_31_\n",
      "413    2019_08_30_\n",
      "//172.0.0.112/mlb/process_team/nmania_crawl/413    2019_08_30_\n",
      "414    2019_08_30_\n",
      "//172.0.0.112/mlb/process_team/nmania_crawl/414    2019_08_30_\n",
      "415    2019_08_30_\n",
      "//172.0.0.112/mlb/process_team/nmania_crawl/415    2019_08_30_\n",
      "416    2019_08_30_\n",
      "//172.0.0.112/mlb/process_team/nmania_crawl/416    2019_08_30_\n",
      "417    2019_08_29_\n",
      "//172.0.0.112/mlb/process_team/nmania_crawl/417    2019_08_29_\n",
      "418    2019_08_29_\n",
      "//172.0.0.112/mlb/process_team/nmania_crawl/418    2019_08_29_\n",
      "419    2019_08_28_\n",
      "//172.0.0.112/mlb/process_team/nmania_crawl/419    2019_08_28_\n",
      "420    2019_08_28_\n",
      "//172.0.0.112/mlb/process_team/nmania_crawl/420    2019_08_28_\n",
      "421    2019_08_27_\n",
      "//172.0.0.112/mlb/process_team/nmania_crawl/421    2019_08_27_\n",
      "422    2019_08_26_\n",
      "//172.0.0.112/mlb/process_team/nmania_crawl/422    2019_08_26_\n",
      "423    2019_08_26_\n",
      "//172.0.0.112/mlb/process_team/nmania_crawl/423    2019_08_26_\n",
      "424    2019_08_26_\n",
      "//172.0.0.112/mlb/process_team/nmania_crawl/424    2019_08_26_\n",
      "425    2019_08_22_\n",
      "//172.0.0.112/mlb/process_team/nmania_crawl/425    2019_08_22_\n",
      "426    2019_08_22_\n",
      "//172.0.0.112/mlb/process_team/nmania_crawl/426    2019_08_22_\n",
      "427    2019_08_22_\n",
      "//172.0.0.112/mlb/process_team/nmania_crawl/427    2019_08_22_\n",
      "428    2019_08_21_\n",
      "//172.0.0.112/mlb/process_team/nmania_crawl/428    2019_08_21_\n",
      "429    2019_08_20_\n",
      "//172.0.0.112/mlb/process_team/nmania_crawl/429    2019_08_20_\n",
      "430    2019_08_20_\n",
      "//172.0.0.112/mlb/process_team/nmania_crawl/430    2019_08_20_\n",
      "431    2019_08_19_\n",
      "//172.0.0.112/mlb/process_team/nmania_crawl/431    2019_08_19_\n",
      "432    2019_08_19_\n",
      "//172.0.0.112/mlb/process_team/nmania_crawl/432    2019_08_19_\n",
      "433    2019_08_19_\n",
      "//172.0.0.112/mlb/process_team/nmania_crawl/433    2019_08_19_\n",
      "434    2019_08_18_\n",
      "//172.0.0.112/mlb/process_team/nmania_crawl/434    2019_08_18_\n",
      "435    2019_08_18_\n",
      "//172.0.0.112/mlb/process_team/nmania_crawl/435    2019_08_18_\n",
      "436    2019_08_17_\n",
      "//172.0.0.112/mlb/process_team/nmania_crawl/436    2019_08_17_\n",
      "437    2019_08_17_\n",
      "//172.0.0.112/mlb/process_team/nmania_crawl/437    2019_08_17_\n",
      "438    2019_08_17_\n",
      "//172.0.0.112/mlb/process_team/nmania_crawl/438    2019_08_17_\n",
      "439    2019_08_15_\n",
      "//172.0.0.112/mlb/process_team/nmania_crawl/439    2019_08_15_\n",
      "440    2019_08_15_\n",
      "//172.0.0.112/mlb/process_team/nmania_crawl/440    2019_08_15_\n",
      "441    2019_08_14_\n",
      "//172.0.0.112/mlb/process_team/nmania_crawl/441    2019_08_14_\n",
      "442    2019_08_14_\n",
      "//172.0.0.112/mlb/process_team/nmania_crawl/442    2019_08_14_\n",
      "443    2019_08_13_\n",
      "//172.0.0.112/mlb/process_team/nmania_crawl/443    2019_08_13_\n",
      "444    2019_08_13_\n",
      "//172.0.0.112/mlb/process_team/nmania_crawl/444    2019_08_13_\n",
      "445    2019_08_12_\n",
      "//172.0.0.112/mlb/process_team/nmania_crawl/445    2019_08_12_\n",
      "446    2019_08_12_\n",
      "//172.0.0.112/mlb/process_team/nmania_crawl/446    2019_08_12_\n",
      "447    2019_08_11_\n",
      "//172.0.0.112/mlb/process_team/nmania_crawl/447    2019_08_11_\n",
      "448    2019_08_11_\n",
      "//172.0.0.112/mlb/process_team/nmania_crawl/448    2019_08_11_\n",
      "449    2019_08_11_\n",
      "//172.0.0.112/mlb/process_team/nmania_crawl/449    2019_08_11_\n",
      "450    2019_08_10_\n",
      "//172.0.0.112/mlb/process_team/nmania_crawl/450    2019_08_10_\n",
      "451    2019_08_08_\n",
      "//172.0.0.112/mlb/process_team/nmania_crawl/451    2019_08_08_\n",
      "452    2019_08_06_\n",
      "//172.0.0.112/mlb/process_team/nmania_crawl/452    2019_08_06_\n",
      "453    2019_08_05_\n",
      "//172.0.0.112/mlb/process_team/nmania_crawl/453    2019_08_05_\n",
      "454    2019_08_05_\n",
      "//172.0.0.112/mlb/process_team/nmania_crawl/454    2019_08_05_\n",
      "455    2019_08_05_\n",
      "//172.0.0.112/mlb/process_team/nmania_crawl/455    2019_08_05_\n",
      "456    2019_08_04_\n",
      "//172.0.0.112/mlb/process_team/nmania_crawl/456    2019_08_04_\n",
      "457    2019_08_04_\n",
      "//172.0.0.112/mlb/process_team/nmania_crawl/457    2019_08_04_\n",
      "458    2019_08_04_\n",
      "//172.0.0.112/mlb/process_team/nmania_crawl/458    2019_08_04_\n",
      "459    2019_08_03_\n",
      "//172.0.0.112/mlb/process_team/nmania_crawl/459    2019_08_03_\n",
      "460    2019_08_03_\n",
      "//172.0.0.112/mlb/process_team/nmania_crawl/460    2019_08_03_\n",
      "461    2019_08_03_\n",
      "//172.0.0.112/mlb/process_team/nmania_crawl/461    2019_08_03_\n",
      "462    2019_08_02_\n",
      "//172.0.0.112/mlb/process_team/nmania_crawl/462    2019_08_02_\n",
      "463    2019_08_01_\n",
      "//172.0.0.112/mlb/process_team/nmania_crawl/463    2019_08_01_\n",
      "464    2019_08_01_\n",
      "//172.0.0.112/mlb/process_team/nmania_crawl/464    2019_08_01_\n",
      "465    2019_08_01_\n",
      "//172.0.0.112/mlb/process_team/nmania_crawl/465    2019_08_01_\n"
     ]
    }
   ],
   "source": [
    "import pandas as pd\n",
    "\n",
    "df = pd.read_csv('C:/Users/kyujin/PycharmProjects/design/nike_mania/nike_mania.csv', encoding='cp949')\n",
    "link_list = df['url'].to_list()\n",
    "base_dir = '//172.0.0.112/mlb/process_team/nmania_crawl/'\n",
    "\n",
    "for link in link_list:\n",
    "    img_name1 = df.loc[df['url']==link, 'issue_date'].to_string().replace('.', '_')\n",
    "    print(img_name1)\n",
    "    print(base_dir+img_name1)\n"
   ],
   "metadata": {
    "collapsed": false,
    "pycharm": {
     "name": "#%%\n"
    }
   }
  },
  {
   "cell_type": "code",
   "execution_count": 4,
   "outputs": [
    {
     "name": "stdout",
     "output_type": "stream",
     "text": [
      "   article_num   issue_date view_count   get_date                 title  \\\n",
      "0      9576624  2019.12.17.       6998 2020-08-12       최근 데일리룩들 입니다 37   \n",
      "1      9571854  2019.12.17.       1146 2020-08-12            주말 데이트룩이에용   \n",
      "2      9539199  2019.12.14.       1481 2020-08-12           피스마이너스원 직원룩   \n",
      "3      9529098  2019.12.13.       1466 2020-08-12  흔한 174 탈모인의 데일리룩입니다.   \n",
      "4      9524322  2019.12.13.       1340 2020-08-12              오늘의 사카이룩   \n",
      "\n",
      "                                                 url   author  \n",
      "0  https://cafe.naver.com/ArticleRead.nhn?clubid=...      떠블뒤  \n",
      "1  https://cafe.naver.com/ArticleRead.nhn?clubid=...    ShowB  \n",
      "2  https://cafe.naver.com/ArticleRead.nhn?clubid=...  ip03152  \n",
      "3  https://cafe.naver.com/ArticleRead.nhn?clubid=...    대머리생로  \n",
      "4  https://cafe.naver.com/ArticleRead.nhn?clubid=...       헌짱  \n"
     ]
    }
   ],
   "source": [
    "import pandas as pd\n",
    "df = pd.read_excel('C:/Users/kyujin/PycharmProjects/design/nike_mania/re_crawl.xlsx')\n",
    "print(df.head())"
   ],
   "metadata": {
    "collapsed": false,
    "pycharm": {
     "name": "#%%\n"
    }
   }
  },
  {
   "cell_type": "code",
   "execution_count": 9,
   "outputs": [
    {
     "name": "stdout",
     "output_type": "stream",
     "text": [
      "12\n",
      "13\n",
      "14\n",
      "15\n",
      "16\n",
      "17\n",
      "18\n",
      "19\n",
      "20\n",
      "21\n",
      "22\n",
      "23\n",
      "24\n",
      "25\n",
      "26\n",
      "27\n",
      "28\n",
      "29\n",
      "30\n"
     ]
    }
   ],
   "source": [
    "path = 'https://cafeptthumb-phinf.pstatic.net/MjAyMDA0MjRfMjEx/MDAxNTg3NzI1NTYxMDQ2.DilrUbPfM6sjmZDdYH6jrbWNbBlYisSIe8dXCag5tiEg.atpECfwqj6KZAovL1QwTz0mYWyCqQoPeF6C5hiCCBjIg.JPEG/IMG_E8308.JPG?type=w740'"
   ],
   "metadata": {
    "collapsed": false,
    "pycharm": {
     "name": "#%%\n"
    }
   }
  },
  {
   "cell_type": "code",
   "execution_count": 1,
   "outputs": [
    {
     "name": "stdout",
     "output_type": "stream",
     "text": [
      "Counter({'aa': 2, 'c': 1, 'dd': 1, 'bb': 1, 'ee': 1})\n"
     ]
    }
   ],
   "source": [
    "import collections\n",
    "\n",
    "lst = ['aa', 'c', 'dd', 'aa', 'bb', 'ee']\n",
    "\n",
    "print(collections.Counter(lst))\n"
   ],
   "metadata": {
    "collapsed": false,
    "pycharm": {
     "name": "#%%\n"
    }
   }
  },
  {
   "cell_type": "code",
   "execution_count": 4,
   "outputs": [
    {
     "name": "stdout",
     "output_type": "stream",
     "text": [
      "ife\n",
      "s\n",
      "oo\n",
      "hort\n"
     ]
    }
   ],
   "source": [
    "import re\n",
    "p = re.compile('[a-z]+')\n",
    "result = p.finditer(\"life is too short\")\n",
    "for r in result:\n",
    "    print(r.group()[1:])\n"
   ],
   "metadata": {
    "collapsed": false,
    "pycharm": {
     "name": "#%%\n"
    }
   }
  },
  {
   "cell_type": "code",
   "execution_count": 8,
   "outputs": [
    {
     "name": "stdout",
     "output_type": "stream",
     "text": [
      "55\n"
     ]
    }
   ],
   "source": [
    "lst = [('#운동', '14,786,428'), ('#운동하는여자', '10,017,468'), ('#운동하는남자', '6,325,444'), ('#운동스타그램', '5,018,530'), ('#운동하는직장인', '774,530'), ('#운동화', '1,264,478'), ('#운동복', '702,200'), ('#운동선수', '716,523'), ('#운동하는엄마', '375,701'), ('#운동녀', '816,797'), ('#운동화추천', '153,849'), ('#운동영상', '188,985'), ('#운동기록', '521,586'), ('#운동일기', '244,169'), ('#운동초보', '42,210'), ('#운동일지', '261,608'), ('#운동남', '301,548'), ('#운동소통', '153,421'), ('#운동자극', '164,358'), ('#운동그램', '336,131'), ('#등운동', '255,086'), ('#운동하자', '252,667'), ('#운동인증', '169,075'), ('#운동중', '154,876'), ('#운동후', '183,783'), ('#운동인', '82,336'), ('#운동맛집', '138,918'), ('#운동합시다', '64,370'), ('#운동회', '149,891'), ('#운동중독', '122,827'), ('#운동법', '27,374'), ('#운동하는여자💪', '56,012'), ('#운동화그램', '85,015'), ('#운동하는여자들', '52,813'), ('#운동식단', '48,588'), ('#운동복패션', '40,831'), ('#운동루틴', '33,441'), ('#운동하는', '61,047'), ('#운동부', '35,184'), ('#운동스타그램💪', '45,951'), ('#운동하는남자💪', '31,297'), ('#운동화코디', '20,486'), ('#운동복추천', '49,046'), ('#운동복코디', '31,230'), ('#운동맘', '56,872'), ('#운동하는회사원', '19,593'), ('#운동시작', '72,655'), ('#운동파트너', '11,030'), ('#운동기구', '41,984'), ('#운동습관', '24,936'), ('#운동화스타그램', '27,828'), ('#운동생활', '19,830'), ('#가슴운동', '198,306'), ('#운동패션', '15,679'), ('#운동하는의사', '8,374')]\n",
    "print(len(lst))"
   ],
   "metadata": {
    "collapsed": false,
    "pycharm": {
     "name": "#%%\n"
    }
   }
  },
  {
   "cell_type": "code",
   "execution_count": 11,
   "outputs": [
    {
     "name": "stdout",
     "output_type": "stream",
     "text": [
      "{'key': 'key_value'}\n"
     ]
    }
   ],
   "source": [
    "dict = {}\n",
    "\n",
    "dict['key'] = 'key_value'\n",
    "# dict['user'] ='user_value'\n",
    "# dict['likes'] = 'likes_value'\n",
    "\n",
    "print(dict)\n"
   ],
   "metadata": {
    "collapsed": false,
    "pycharm": {
     "name": "#%%\n"
    }
   }
  },
  {
   "cell_type": "code",
   "execution_count": 18,
   "outputs": [
    {
     "name": "stdout",
     "output_type": "stream",
     "text": [
      "55\n",
      "[('#홈트', '1,290,331'), ('#홈트레이닝', '702,381'), ('#홈트영상', '25,949'), ('#홈트하는여자', '69,604'), ('#홈트하는엄마', '17,648'), ('#홈트레이닝스타그램', '11,201'), ('#홈트족', '19,583'), ('#홈트운동', '7,419'), ('#홈트레이닝기구', '7,324'), ('#홈트기구', '4,201'), ('#홈트레닝', '2,990'), ('#홈트추천', '8,144'), ('#홈트레이너', '3,428'), ('#홈트너', '4,982'), ('#홈트레이닝💪', '1,640'), ('#홈트레이닝영상', '746'), ('#홈트밴드', '1,391'), ('#홈트레이닝그램', '1,379'), ('#홈트스타그램', '6,828'), ('#홈트녀', '5,531'), ('#홈트레이닝운동', '685'), ('#홈트그램', '4,133'), ('#홈트매트', '2,874'), ('#홈트맘', '2,139'), ('#홈트요가', '1,674'), ('#홈트리오', '430'), ('#홈트루틴', '966'), ('#홈트하는남자', '2,932'), ('#홈트로빅', '589'), ('#홈트는라이크핏', '4,661'), ('#홈트마미', '491'), ('#홈트동영상', '394'), ('#홈트기록', '1,509'), ('#홈트식단', '721'), ('#홈트인증', '1,480'), ('#홈트시작', '2,736'), ('#홈트여신', '772'), ('#홈트레이닝강사', '335'), ('#홈트다이어트', '1,776'), ('#홈트하는맘', '1,007'), ('#홈트레이닝복', '539'), ('#홈트필라테스', '400'), ('#홈트중', '1,646'), ('#홈트레이닝코치', '1,382'), ('#홈트의정석', '572'), ('#홈트머신', '1,220'), ('#홈트니트니', '273'), ('#홈트너수세미', '725'), ('#홈트레이닝코리아', '709'), ('#홈트용품', '1,671'), ('#홈트일기', '1,091'), ('#홈트레이닝용품', '356'), ('#홈트요정', '325'), ('#홈트라이온', '1,056'), ('#홈트영상추천', '365'), ('#헬스', '6,417,804'), ('#헬스타그램', '7,006,646'), ('#헬스장', '929,263'), ('#헬스녀', '217,254'), ('#헬스하는여자', '89,152'), ('#헬스스타그램', '124,452'), ('#헬스타', '262,888'), ('#헬스보이짐', '14,288'), ('#헬스트레이너', '282,802'), ('#헬스타그램💪', '61,457'), ('#헬스앤뷰티', '43,234'), ('#헬스복', '93,302'), ('#헬스하는남자', '68,052'), ('#헬스남', '73,801'), ('#헬스클럽', '73,581'), ('#헬스보충제', '69,569'), ('#헬스걸', '63,543'), ('#헬스그램', '48,940'), ('#헬스타스램', '34,681'), ('#헬스포츠', '11,413'), ('#헬스맛집', '11,361'), ('#헬스인', '9,847'), ('#헬스가방', '8,528'), ('#헬스기구', '36,235'), ('#헬스나시', '34,796'), ('#헬스용품', '13,272'), ('#헬스케어', '30,347'), ('#헬스보이', '28,525'), ('#헬스커플', '22,328'), ('#헬스초보', '12,466'), ('#헬스장추천', '18,028'), ('#헬스장에서', '10,660'), ('#헬스운동화', '7,152'), ('#헬스타즈', '6,591'), ('#헬스스트랩', '7,229'), ('#대구헬스', '73,736'), ('#헬스팩', '37,780'), ('#여자헬스', '15,907'), ('#부산헬스', '55,603'), ('#울산헬스', '49,901'), ('#대전헬스', '42,573'), ('#광주헬스', '63,395'), ('#창원헬스', '66,621'), ('#청주헬스', '59,670'), ('#구미헬스', '38,610'), ('#전주헬스', '27,849'), ('#천안헬스', '59,690'), ('#제주헬스', '38,071'), ('#인천헬스', '40,774'), ('#부천헬스', '40,007'), ('#지헬스', '19,869'), ('#수원헬스', '49,864')]\n",
      "107\n"
     ]
    }
   ],
   "source": [
    "workout = [('#운동', '14,786,428'), ('#운동하는여자', '10,017,468'), ('#운동하는남자', '6,325,444'), ('#운동스타그램', '5,018,530'), ('#운동하는직장인', '774,530'), ('#운동화', '1,264,478'), ('#운동복', '702,200'), ('#운동선수', '716,523'), ('#운동하는엄마', '375,701'), ('#운동녀', '816,797'), ('#운동화추천', '153,849'), ('#운동영상', '188,985'), ('#운동기록', '521,586'), ('#운동일기', '244,169'), ('#운동초보', '42,210'), ('#운동일지', '261,608'), ('#운동남', '301,548'), ('#운동소통', '153,421'), ('#운동자극', '164,358'), ('#운동그램', '336,131'), ('#등운동', '255,086'), ('#운동하자', '252,667'), ('#운동인증', '169,075'), ('#운동중', '154,876'), ('#운동후', '183,783'), ('#운동인', '82,336'), ('#운동맛집', '138,918'), ('#운동합시다', '64,370'), ('#운동회', '149,891'), ('#운동중독', '122,827'), ('#운동법', '27,374'), ('#운동하는여자💪', '56,012'), ('#운동화그램', '85,015'), ('#운동하는여자들', '52,813'), ('#운동식단', '48,588'), ('#운동복패션', '40,831'), ('#운동루틴', '33,441'), ('#운동하는', '61,047'), ('#운동부', '35,184'), ('#운동스타그램💪', '45,951'), ('#운동하는남자💪', '31,297'), ('#운동화코디', '20,486'), ('#운동복추천', '49,046'), ('#운동복코디', '31,230'), ('#운동맘', '56,872'), ('#운동하는회사원', '19,593'), ('#운동시작', '72,655'), ('#운동파트너', '11,030'), ('#운동기구', '41,984'), ('#운동습관', '24,936'), ('#운동화스타그램', '27,828'), ('#운동생활', '19,830'), ('#가슴운동', '198,306'), ('#운동패션', '15,679'), ('#운동하는의사', '8,374')]\n",
    "\n",
    "golf = [('#골프', '5,125,317'), ('#골프웨어', '601,763'), ('#골프레슨', '376,717'), ('#골프스윙', '551,400'), ('#골프중독', '130,074'), ('#골프스타그램', '1,378,378'), ('#골프치는여자', '68,079'), ('#골프패션', '196,025'), ('#골프연습', '211,789'), ('#골프장', '269,706'), ('#골프사랑', '110,645'), ('#골프프로', '43,231'), ('#골프연습장', '144,247'), ('#골프모임', '72,447'), ('#골프선수', '150,985'), ('#골프초보', '84,987'), ('#골프스윙동영상', '42,849'), ('#골프레슨동영상', '7,618'), ('#골프여행', '87,234'), ('#골프존', '145,578'), ('#골프용품', '127,258'), ('#골프그램', '106,287'), ('#골프공', '97,393'), ('#골프클럽', '56,896'), ('#골프아카데미', '36,422'), ('#골프스윙자세', '5,813'), ('#골프홀릭', '35,988'), ('#골프동호회', '53,401'), ('#골프동영상', '17,957'), ('#골프화', '96,722'), ('#골프웨어추천', '38,498'), ('#골프친구', '28,158'), ('#골프채', '71,415'), ('#골프자세', '18,816'), ('#골프웨어코디', '10,722'), ('#골프의류', '65,042'), ('#골프백', '55,563'), ('#골프입문', '42,825'), ('#골프필라테스', '54,669'), ('#골프복', '50,434'), ('#골프트레이닝', '30,089'), ('#골프스타그램⛳', '30,038'), ('#골프레슨문의', '9,187'), ('#골프여자', '12,823'), ('#골프투어', '58,526'), ('#골프피트니스', '9,489'), ('#골프룩', '43,691'), ('#골프장갑', '36,660'), ('#골프시즌', '22,824'), ('#골프모자', '52,509'), ('#골프피팅', '47,045'), ('#골프악세사리', '28,861'), ('#골프인스타그램', '7,690'), ('#골프라운딩', '44,733'), ('#골프⛳', '32,465')]\n",
    "\n",
    "workout1 = [('#홈트', '1,290,331'), ('#홈트레이닝', '702,381'), ('#홈트영상', '25,949'), ('#홈트하는여자', '69,604'), ('#홈트하는엄마', '17,648'), ('#홈트레이닝스타그램', '11,201'), ('#홈트족', '19,583'), ('#홈트운동', '7,419'), ('#홈트레이닝기구', '7,324'), ('#홈트기구', '4,201'), ('#홈트레닝', '2,990'), ('#홈트추천', '8,144'), ('#홈트레이너', '3,428'), ('#홈트너', '4,982'), ('#홈트레이닝💪', '1,640'), ('#홈트레이닝영상', '746'), ('#홈트밴드', '1,391'), ('#홈트레이닝그램', '1,379'), ('#홈트스타그램', '6,828'), ('#홈트녀', '5,531'), ('#홈트레이닝운동', '685'), ('#홈트그램', '4,133'), ('#홈트매트', '2,874'), ('#홈트맘', '2,139'), ('#홈트요가', '1,674'), ('#홈트리오', '430'), ('#홈트루틴', '966'), ('#홈트하는남자', '2,932'), ('#홈트로빅', '589'), ('#홈트는라이크핏', '4,661'), ('#홈트마미', '491'), ('#홈트동영상', '394'), ('#홈트기록', '1,509'), ('#홈트식단', '721'), ('#홈트인증', '1,480'), ('#홈트시작', '2,736'), ('#홈트여신', '772'), ('#홈트레이닝강사', '335'), ('#홈트다이어트', '1,776'), ('#홈트하는맘', '1,007'), ('#홈트레이닝복', '539'), ('#홈트필라테스', '400'), ('#홈트중', '1,646'), ('#홈트레이닝코치', '1,382'), ('#홈트의정석', '572'), ('#홈트머신', '1,220'), ('#홈트니트니', '273'), ('#홈트너수세미', '725'), ('#홈트레이닝코리아', '709'), ('#홈트용품', '1,671'), ('#홈트일기', '1,091'), ('#홈트레이닝용품', '356'), ('#홈트요정', '325'), ('#홈트라이온', '1,056'), ('#홈트영상추천', '365')]\n",
    "workout2 = [('#헬스', '6,417,804'), ('#헬스타그램', '7,006,646'), ('#헬스장', '929,263'), ('#헬스녀', '217,254'), ('#헬스하는여자', '89,152'), ('#헬스스타그램', '124,452'), ('#헬스타', '262,888'), ('#헬스보이짐', '14,288'), ('#헬스트레이너', '282,802'), ('#헬스타그램💪', '61,457'), ('#헬스앤뷰티', '43,234'), ('#헬스복', '93,302'), ('#헬스하는남자', '68,052'), ('#헬스남', '73,801'), ('#헬스클럽', '73,581'), ('#헬스보충제', '69,569'), ('#헬스걸', '63,543'), ('#헬스그램', '48,940'), ('#헬스타스램', '34,681'), ('#헬스포츠', '11,413'), ('#헬스맛집', '11,361'), ('#헬스인', '9,847'), ('#헬스가방', '8,528'), ('#헬스기구', '36,235'), ('#헬스나시', '34,796'), ('#헬스용품', '13,272'), ('#헬스케어', '30,347'), ('#헬스보이', '28,525'), ('#헬스커플', '22,328'), ('#헬스초보', '12,466'), ('#헬스장추천', '18,028'), ('#헬스장에서', '10,660'), ('#헬스운동화', '7,152'), ('#헬스타즈', '6,591'), ('#헬스스트랩', '7,229'), ('#대구헬스', '73,736'), ('#헬스팩', '37,780'), ('#여자헬스', '15,907'), ('#부산헬스', '55,603'), ('#울산헬스', '49,901'), ('#대전헬스', '42,573'), ('#광주헬스', '63,395'), ('#창원헬스', '66,621'), ('#청주헬스', '59,670'), ('#구미헬스', '38,610'), ('#전주헬스', '27,849'), ('#천안헬스', '59,690'), ('#제주헬스', '38,071'), ('#인천헬스', '40,774'), ('#부천헬스', '40,007'), ('#지헬스', '19,869'), ('#수원헬스', '49,864')]\n",
    "\n",
    "camping = [('#캠핑', '4,257,584'), ('#캠핑스타그램', '507,583'), ('#캠핑용품', '283,262'), ('#캠핑요리', '394,113'), ('#캠핑장', '450,999'), ('#캠핑카', '161,050'), ('#캠핑장추천', '85,526'), ('#캠핑장비', '127,148'), ('#캠핑음식', '120,414'), ('#캠핑족', '141,158'), ('#캠핑그램', '132,033'), ('#캠핑클럽', '54,436'), ('#캠핑한끼', '8,789'), ('#캠핑요리추천', '16,726'), ('#캠핑여행', '76,352'), ('#캠핑카여행', '26,243'), ('#캠핑칸', '9,533'), ('#캠핑중', '73,050'), ('#캠핑홀릭', '52,170'), ('#캠핑에미치다', '39,870'), ('#캠핑룩', '60,503'), ('#캠핑의자', '50,434'), ('#캠핑트레일러', '24,679'), ('#캠핑소품', '47,389'), ('#캠핑테이블', '29,583'), ('#캠핑용품추천', '10,223'), ('#캠핑퍼스트', '8,761'), ('#캠핑초보', '27,190'), ('#캠핑카페', '12,238'), ('#캠핑카라반', '6,311'), ('#캠핑놀이', '36,816'), ('#캠핑랜턴', '15,167'), ('#캠핑기어', '9,198'), ('#캠핑페어', '8,861'), ('#캠핑먹방', '21,825'), ('#캠핑메뉴', '14,539'), ('#캠핑푸드', '17,136'), ('#캠핑음식추천', '4,475'), ('#캠핑가자', '26,558'), ('#캠핑난로', '7,041'), ('#캠핑텐트', '8,525'), ('#캠핑장비추천', '2,493'), ('#캠핑라이프', '15,594'), ('#캠핑조명', '10,421'), ('#캠핑장소', '3,421'), ('#캠핑감성', '14,790'), ('#캠핑박스', '6,923'), ('#캠핑⛺️', '11,127'), ('#캠핑커피', '5,935'), ('#캠핑중독', '11,619'), ('#캠핑준비', '17,382'), ('#캠핑트렁크', '3,157'), ('#캠핑브릿지', '2,311'), ('#캠핑느낌', '24,063'),('#차박캠핑', '138,544'), ('#차박', '278,791'), ('#차박성지', '11,867'), ('#차박여행', '31,342'), ('#차박텐트', '11,519'), ('#차박용품', '8,968'), ('#차박에미치다', '8,064'), ('#차박캠핑🚙', '5,338'), ('#차박스타그램', '8,159'), ('#차박지', '3,597'), ('#차박명소', '2,516'), ('#차박캠핑클럽', '1,679'), ('#차박평탄화', '1,259'), ('#차박지추천', '1,019'), ('#차박장소', '836'), ('#차박캠퍼', '2,871'), ('#차박생활', '751'), ('#차박매트', '1,998'), ('#차박의성지', '855'), ('#차박지도', '435'), ('#차박시스템', '1,138'), ('#차박러', '2,090'), ('#차박지공유', '870'), ('#차박용품추천', '638'), ('#차박커튼', '1,189'), ('#차박람회', '1,076'), ('#차박여행지', '524'), ('#차박타프', '648'), ('#차박캠핑용품', '314'), ('#차박캠핑장', '306'), ('#차박제작소', '212'), ('#차박캠핑카', '438'), ('#차박추천', '819'), ('#차박낚시', '956'), ('#차박사얼큰이', '1,505'), ('#차박장소추천', '219'), ('#차박여행❤️', '166'), ('#차박초보', '1,029'), ('#차박커텐', '679'), ('#차박소품', '663'), ('#차박텐트추천', '206'), ('#차박물관', '910'), ('#차박의소울포토그라피', '422'), ('#차박이', '402'), ('#차박그램', '484'), ('#차박쉘터', '219'), ('#차박캠핑몰', '193'), ('#차박요리', '466'), ('#차박용품대여', '282'), ('#차박텐트⛺️', '100'), ('#차박대여', '513'), ('#차박하기좋은곳', '335'), ('#차박장비', '158'), ('#차박대장', '191')]\n",
    "\n",
    "surfing = [('#서퍼', '172,777'), ('#서퍼비치', '13,938'), ('#서퍼걸', '33,833'), ('#서퍼스파라다이스', '27,340'), ('#서퍼그라피', '3,268'), ('#서퍼911', '6,561'), ('#서퍼랑', '3,858'), ('#서퍼시티', '3,733'), ('#서퍼홀릭', '1,569'), ('#서퍼스트', '1,937'), ('#서퍼스', '3,467'), ('#서퍼랜드', '823'), ('#서퍼부부', '7,000'), ('#서퍼들의천국', '3,433'), ('#서퍼스가든', '1,718'), ('#서퍼더퍼', '1,221'), ('#서퍼스코리아', '742'), ('#서퍼들의천국중문해수욕장', '415'), ('#서퍼스제주', '364'), ('#서퍼맨', '723'), ('#서퍼스코', '1,011'), ('#서퍼스나잇', '728'), ('#서퍼의길', '711'), ('#서퍼맛집', '701'), ('#서퍼비치🏄', '516'), ('#서퍼송군', '339'), ('#서퍼제이하우스', '104'), ('#서퍼레시피', '647'), ('#서퍼목걸이', '423'), ('#서퍼타투', '198'), ('#서퍼스파라다이스맛집', '192'), ('#서퍼911안주인', '343'), ('#서퍼파라다이스', '478'), ('#서퍼스파라다이스양양', '1,089'), ('#서퍼들의아지트', '381'), ('#서퍼하우스', '1,001'), ('#서퍼비누', '343'), ('#서퍼팔찌', '314'), ('#서퍼커플', '976'), ('#서퍼들', '1,864'), ('#서퍼마이노', '300'), ('#서퍼룩', '915'), ('#서퍼들의성지', '895'), ('#서퍼라인', '228'), ('#서퍼천국', '813'), ('#서퍼클럽', '584'), ('#서퍼버거', '103'), ('#서퍼들의축제', '536'), ('#서퍼911패밀리', '189'), ('#서퍼그램', '177'), ('#서퍼캔들', '167'), ('#서퍼911아들딸램', '165'), ('#서퍼스파라다이스비치', '477'), ('#서핑', '1,049,942'), ('#서핑강습', '111,350'), ('#서핑보드', '65,703'), ('#서핑🏄', '31,927'), ('#서핑배우기', '67,173'), ('#서핑트립', '45,369'), ('#서핑샵', '33,522'), ('#서핑슈트', '9,138'), ('#서핑스타그램', '25,532'), ('#서핑스쿨', '34,884'), ('#서핑캠프', '24,090'), ('#서핑입문', '13,867'), ('#서핑영상', '7,046'), ('#서핑사진', '9,433'), ('#서핑하우스', '2,240'), ('#서핑레슨', '18,412'), ('#서핑에미치다', '6,256'), ('#서핑존', '2,290'), ('#서핑초보', '9,807'), ('#서핑여행', '9,818'), ('#서핑수트', '3,322'), ('#서핑대회', '6,940'), ('#서핑체험', '5,736'), ('#서핑요가', '4,344'), ('#서핑용품', '2,549'), ('#서핑하는여자', '4,163'), ('#서핑비치', '2,636'), ('#서핑보드제작', '2,095'), ('#서핑라이프', '6,356'), ('#서핑스팟', '6,061'), ('#서핑복', '1,469'), ('#서핑라이더', '822'), ('#서핑일러스트', '1,239'), ('#서핑맛집', '4,601'), ('#서핑보드공방', '1,352'), ('#서핑꿈나무', '3,821'), ('#서핑천국', '2,821'), ('#서핑타투', '558'), ('#서핑교육', '6,415'), ('#서핑보드만들기', '1,878'), ('#서핑드론촬영', '1,495'), ('#서핑악세사리', '1,835'), ('#서핑강사', '1,706'), ('#서핑룩', '1,538'), ('#서핑홀릭', '1,354'), ('#서핑보드구매', '1,706'), ('#서핑카페', '2,484'), ('#서핑장비', '2,391'), ('#서핑걸', '2,292'), ('#서핑하는디자이너', '1,183'), ('#서핑보드렌탈', '4,227'), ('#서핑렌탈', '1,534'), ('#서핑선크림', '1,766'), ('#서핑역', '380'), ('#서핑샵추천', '2,996')]\n",
    "\n",
    "mountain = [('#등산', '3,233,056'), ('#등산스타그램', '580,306'), ('#등산복패션', '28,263'), ('#등산하는여자', '56,193'), ('#등산복', '68,715'), ('#등산화', '83,039'), ('#등산그램', '55,101'), ('#등산패션', '13,300'), ('#등산모임', '29,727'), ('#등산동호회', '20,030'), ('#등산코스', '17,724'), ('#등산여행', '5,783'), ('#등산스타그램🌲🌳🌿', '14,733'), ('#등산로', '28,743'), ('#등산화추천', '6,313'), ('#등산장비', '18,176'), ('#등산용품', '17,351'), ('#등산도시락', '6,390'), ('#등산하는남자', '17,416'), ('#등산초보', '11,191'), ('#등산룩', '9,655'), ('#등산다이어트', '9,212'), ('#등산크루', '5,306'), ('#등산모자', '3,335'), ('#등산복코디', '1,352'), ('#등산하기', '11,287'), ('#등산에반젤리스트', '3,440'), ('#등산후', '16,939'), ('#등산배낭', '4,110'), ('#등산스틱', '3,753'), ('#등산러', '7,686'), ('#등산하는부산언니', '886'), ('#등산스타그램⛰', '4,169'), ('#등산에미치다', '4,177'), ('#등산레깅스', '1,340'), ('#등산데이트', '8,243'), ('#등산양말', '3,718'), ('#등산녀', '5,542'), ('#등산길', '9,635'), ('#등산소모임', '8,916'), ('#등산복추천', '1,166'), ('#등산간식', '2,732'), ('#등산학교', '682'), ('#등산이', '708'), ('#등산잼', '7,068'), ('#등산하기좋은날', '2,918'), ('#등산인', '1,960'), ('#등산객', '6,305'), ('#등산장갑', '1,586'), ('#등산애', '603'), ('#등산바지', '1,504'), ('#등산그램⛰', '1,328')]\n",
    "\n",
    "print(len(workout))\n",
    "workout1.extend(workout2)\n",
    "print(workout1)\n",
    "print(len(workout1))"
   ],
   "metadata": {
    "collapsed": false,
    "pycharm": {
     "name": "#%%\n"
    }
   }
  },
  {
   "cell_type": "code",
   "execution_count": 26,
   "outputs": [
    {
     "name": "stdout",
     "output_type": "stream",
     "text": [
      "110\n"
     ]
    }
   ],
   "source": [
    "yoga = [('#요가', '2,754,488'), ('#요가복', '605,445'), ('#요가강사', '480,790'), ('#요가스타그램', '191,098'), ('#요가하는여자', '223,362'), ('#요가수련', '70,834'), ('#요가자세', '47,644'), ('#요가복추천', '39,384'), ('#요가복브랜드', '52,298'), ('#요가프로필', '27,809'), ('#요가그램', '41,185'), ('#요가링', '8,924'), ('#요가동작', '17,882'), ('#요가워크샵', '13,940'), ('#요가동영상', '5,359'), ('#요가매트', '55,247'), ('#요가원', '46,263'), ('#요가지도자과정', '33,131'), ('#요가사랑', '31,349'), ('#요가수업', '28,954'), ('#요가소년', '9,770'), ('#요가자격증', '23,902'), ('#요가휠', '4,973'), ('#요가여행', '11,114'), ('#요가쿨라', '8,036'), ('#요가복쇼핑몰', '8,227'), ('#요가녀', '8,073'), ('#요가하는남자', '29,906'), ('#요가지도자', '27,290'), ('#요가레깅스', '13,036'), ('#요가복코디', '6,453'), ('#요가영상', '5,928'), ('#요가해부학', '4,571'), ('#요가클래스', '6,114'), ('#요가원데이클래스', '4,472'), ('#요가강사자격증', '6,058'), ('#요가웨이브', '2,765'), ('#요가학원', '10,966'), ('#요가일러스트', '2,404'), ('#요가블럭', '3,270'), ('#요가바지', '8,925'), ('#요가말라', '2,937'), ('#요가일기', '5,671'), ('#요가움', '1,746'), ('#요가탑', '13,037'), ('#요가복상의', '3,876'), ('#요가맘', '5,949'), ('#요가매트추천', '5,589'), ('#요가그림', '2,843'), ('#요가명상', '4,682'), ('#요가라이프', '8,800'), ('#요가복모델', '4,475'), ('#요가촬영', '3,265'), ('#요가개인레슨', '15,422'), ('#요가특강', '3,486')]\n",
    "\n",
    "pilates = [('#필라테스', '3,558,552'), ('#필라테스강사', '777,083'), ('#필라테스복', '191,150'), ('#필라테스그램', '120,959'), ('#필라테스동작', '34,953'), ('#필라테스자격증', '72,292'), ('#필라테스운동', '27,193'), ('#필라테스지도자과정', '49,663'), ('#필라테스워크샵', '17,482'), ('#필라테스프로필', '15,303'), ('#필라테스인테리어', '22,799'), ('#필라테스교육', '31,676'), ('#필라테스시퀀스', '5,901'), ('#필라테스동영상', '5,717'), ('#필라테스하는여자', '44,865'), ('#필라테스기구', '19,672'), ('#필라테스영상', '6,777'), ('#필라테스리포머', '4,513'), ('#필라테스체어', '3,613'), ('#필라테스지도자', '34,509'), ('#필라테스수업', '10,292'), ('#필라테스캐딜락', '2,775'), ('#필라테스스튜디오', '27,357'), ('#필라테스강사백민경', '1,079'), ('#필라테스율', '4,273'), ('#필라테스링', '3,011'), ('#필라테스강사자격증', '9,453'), ('#필라테스바렐', '1,630'), ('#필라테스양말', '11,502'), ('#필라테스호흡', '1,539'), ('#필라테스세미나', '3,448'), ('#필라테스효과', '6,379'), ('#필라테스하는남자', '14,887'), ('#필라테스이벤트', '7,650'), ('#필라테스복추천', '6,376'), ('#필라테스개인레슨', '17,668'), ('#필라테스강사교육', '7,199'), ('#필라테스센터', '8,679'), ('#필라테스인', '5,074'), ('#필라테스소도구', '3,067'), ('#필라테스운동복', '6,990'), ('#필라테스맛집', '13,173'), ('#필라테스홈트', '3,957'), ('#필라테스지도자교육', '9,631'), ('#필라테스레슨', '9,274'), ('#필라테스해부학', '3,526'), ('#필라테스창업', '4,136'), ('#필라테스더밸런스', '4,135'), ('#필라테스지도자자격증', '8,842'), ('#필라테스다이어트', '3,718'), ('#필라테스강사프로필', '1,303'), ('#필라테스강', '2,961'), ('#필라테스일그램', '4,194'), ('#필라테스협회', '4,234'), ('#필라테스pt', '3,890')]\n",
    "\n",
    "walking = [('#산책', '6,888,858'), ('#산책로', '205,932'), ('#산책스타그램', '305,349'), ('#산책중', '206,579'), ('#산책냥', '85,183'), ('#산책길', '155,870'), ('#산책가방', '21,064'), ('#산책냥이', '32,419'), ('#산책그램', '45,537'), ('#산책가자', '38,736'), ('#산책하기좋은곳', '24,704'), ('#산책모임', '11,013'), ('#산책용품', '11,150'), ('#산책코스', '22,304'), ('#산책하는고양이', '6,508'), ('#산책하기', '39,645'), ('#산책후', '45,960'), ('#산책교육', '14,652'), ('#산책룩', '15,162'), ('#산책하는강아지', '5,651'), ('#산책고양이', '5,615'), ('#산책가는길', '5,461'), ('#산책친구', '6,828'), ('#산책갈까', '5,603'), ('#산책견', '7,594'), ('#산책가자진돗개야', '1,299'), ('#산책하기좋은날', '30,501'), ('#산책🐾', '22,591'), ('#산책훈련', '5,510'), ('#산책이', '3,096'), ('#산책냥반대', '3,051'), ('#산책스냅', '2,087'), ('#산책중🐾', '13,900'), ('#산책묘', '4,369'), ('#산책코스추천', '1,358'), ('#산책길에서', '3,167'), ('#산책은', '11,383'), ('#산책일기', '10,971'), ('#산책봉사', '2,509'), ('#산책서비스', '9,634'), ('#산책하다', '7,406'), ('#산책길에', '5,396'), ('#산책은즐거워', '12,491'), ('#산책하고', '11,980'), ('#산책좋아', '9,767'), ('#산책스타그램🐕', '3,785'), ('#산책왕', '3,768'), ('#산책스타그램🌿', '3,413'), ('#산책하기좋은날씨', '6,823'), ('#산책하는꼬양이', '852'), ('#산책중에', '6,720'), ('#산책하다가', '4,942'), ('#산책데이트', '2,957'), ('#산책길🐾', '2,868'), ('#산책줄', '2,861')]\n",
    "\n",
    "\n",
    "yoga.extend(pilates)\n",
    "print(len(yoga))"
   ],
   "metadata": {
    "collapsed": false,
    "pycharm": {
     "name": "#%%\n"
    }
   }
  },
  {
   "cell_type": "code",
   "execution_count": 27,
   "outputs": [
    {
     "name": "stdout",
     "output_type": "stream",
     "text": [
      "[2754488, 605445, 480790, 191098, 223362, 70834, 47644, 39384, 52298, 27809, 41185, 8924, 17882, 13940, 5359, 55247, 46263, 33131, 31349, 28954, 9770, 23902, 4973, 11114, 8036, 8227, 8073, 29906, 27290, 13036, 6453, 5928, 4571, 6114, 4472, 6058, 2765, 10966, 2404, 3270, 8925, 2937, 5671, 1746, 13037, 3876, 5949, 5589, 2843, 4682, 8800, 4475, 3265, 15422, 3486, 3558552, 777083, 191150, 120959, 34953, 72292, 27193, 49663, 17482, 15303, 22799, 31676, 5901, 5717, 44865, 19672, 6777, 4513, 3613, 34509, 10292, 2775, 27357, 1079, 4273, 3011, 9453, 1630, 11502, 1539, 3448, 6379, 14887, 7650, 6376, 17668, 7199, 8679, 5074, 3067, 6990, 13173, 3957, 9631, 9274, 3526, 4136, 4135, 8842, 3718, 1303, 2961, 4194, 4234, 3890]\n"
     ]
    }
   ],
   "source": [
    "# 최종 : camping, workout1, yoga, golf, mountain\n",
    "\n",
    "keyword_list = []\n",
    "num_list = []\n",
    "\n",
    "for (i,j) in yoga:\n",
    "    num = int(j.replace(',',''))\n",
    "    keyword_list.append(i)\n",
    "    num_list.append(num)\n",
    "\n",
    "print(num_list)"
   ],
   "metadata": {
    "collapsed": false,
    "pycharm": {
     "name": "#%%\n"
    }
   }
  },
  {
   "cell_type": "code",
   "execution_count": 28,
   "outputs": [],
   "source": [
    "import openpyxl\n",
    "\n",
    "wb = openpyxl.Workbook()\n",
    "sheet = wb.active\n",
    "\n",
    "a = 1\n",
    "for (i, j) in yoga:\n",
    "    sheet.cell(row=a, column=1).value = '요가'\n",
    "    sheet.cell(row=a, column=2).value = i\n",
    "    sheet.cell(row=a, column=3).value = int(j.replace(',',''))\n",
    "    a += 1\n",
    "\n",
    "for (i, j) in camping:\n",
    "    sheet.cell(row=a, column=1).value = '캠핑'\n",
    "    sheet.cell(row=a, column=2).value = i\n",
    "    sheet.cell(row=a, column=3).value = int(j.replace(',',''))\n",
    "    a += 1\n",
    "\n",
    "for (i, j) in workout1:\n",
    "    sheet.cell(row=a, column=1).value = '홈트/헬스'\n",
    "    sheet.cell(row=a, column=2).value = i\n",
    "    sheet.cell(row=a, column=3).value = int(j.replace(',',''))\n",
    "    a += 1\n",
    "\n",
    "for (i, j) in golf:\n",
    "    sheet.cell(row=a, column=1).value = '골프'\n",
    "    sheet.cell(row=a, column=2).value = i\n",
    "    sheet.cell(row=a, column=3).value = int(j.replace(',',''))\n",
    "    a += 1\n",
    "\n",
    "for (i, j) in mountain:\n",
    "    sheet.cell(row=a, column=1).value = '등산'\n",
    "    sheet.cell(row=a, column=2).value = i\n",
    "    sheet.cell(row=a, column=3).value = int(j.replace(',',''))\n",
    "    a += 1\n",
    "\n",
    "for (i, j) in surfing:\n",
    "    sheet.cell(row=a, column=1).value = '서핑'\n",
    "    sheet.cell(row=a, column=2).value = i\n",
    "    sheet.cell(row=a, column=3).value = int(j.replace(',',''))\n",
    "    a += 1\n",
    "\n",
    "for (i, j) in workout:\n",
    "    sheet.cell(row=a, column=1).value = '운동'\n",
    "    sheet.cell(row=a, column=2).value = i\n",
    "    sheet.cell(row=a, column=3).value = int(j.replace(',',''))\n",
    "    a += 1\n",
    "\n",
    "for (i, j) in walking:\n",
    "    sheet.cell(row=a, column=1).value = '산책'\n",
    "    sheet.cell(row=a, column=2).value = i\n",
    "    sheet.cell(row=a, column=3).value = int(j.replace(',',''))\n",
    "    a += 1\n",
    "\n",
    "\n",
    "wb.save('test.xlsx')"
   ],
   "metadata": {
    "collapsed": false,
    "pycharm": {
     "name": "#%%\n"
    }
   }
  },
  {
   "cell_type": "code",
   "execution_count": 23,
   "outputs": [
    {
     "name": "stdout",
     "output_type": "stream",
     "text": [
      "30\n"
     ]
    }
   ],
   "source": [
    "import calendar\n",
    "\n",
    "year = 2020\n",
    "Month = 11\n",
    "a = calendar.monthrange(year, Month)[1]\n",
    "print(a)"
   ],
   "metadata": {
    "collapsed": false,
    "pycharm": {
     "name": "#%%\n"
    }
   }
  }
 ],
 "metadata": {
  "kernelspec": {
   "display_name": "Python 3",
   "language": "python",
   "name": "python3"
  },
  "language_info": {
   "codemirror_mode": {
    "name": "ipython",
    "version": 2
   },
   "file_extension": ".py",
   "mimetype": "text/x-python",
   "name": "python",
   "nbconvert_exporter": "python",
   "pygments_lexer": "ipython2",
   "version": "2.7.6"
  }
 },
 "nbformat": 4,
 "nbformat_minor": 0
}