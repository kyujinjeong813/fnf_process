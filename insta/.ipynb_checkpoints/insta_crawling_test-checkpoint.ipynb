{
 "cells": [
  {
   "cell_type": "code",
   "execution_count": 15,
   "metadata": {},
   "outputs": [
    {
     "data": {
      "text/plain": [
       "['hi', 'hello']"
      ]
     },
     "execution_count": 15,
     "metadata": {},
     "output_type": "execute_result"
    }
   ],
   "source": [
    "import os\n",
    "\n",
    "from selenium import webdriver\n",
    "from selenium.common.exceptions import NoSuchElementException\n",
    "from selenium.common.exceptions import TimeoutException\n",
    "from selenium.webdriver.chrome.options import Options\n",
    "from selenium.webdriver.common.by import By\n",
    "from selenium.webdriver.support import expected_conditions as EC\n",
    "from selenium.webdriver.support.ui import WebDriverWait\n",
    "\n",
    "driver = webdriver.Chrome('C:/Users/kyujin/PycharmProjects/crawling/inscrawler/bin/chromedriver')\n",
    "driver.implicitly_wait(3)\n",
    "driver.get('https://www.instagram.com/')\n",
    "driver.find_element(By.CSS_SELECTOR, 'XTCLo').send_keys('MLB')\n",
    "\n",
    "\n",
    "# 게시물 수 수집하는 css selector\n",
    "div class .drKGC\n",
    "    a class .yCE8d .z556c (모두 찾기)\n",
    "        div class ._2_M76\n",
    "            div class .uyeeR\n",
    "                span << 검색어\n",
    "            div class .Fy4o8\n",
    "                span 2"
   ]
  },
  {
   "cell_type": "code",
   "execution_count": null,
   "metadata": {},
   "outputs": [],
   "source": [
    "# 해시태그 이미지 저장\n",
    "# https://blog.itpaper.co.kr/python-selenium-insta/"
   ]
  },
  {
   "cell_type": "code",
   "execution_count": null,
   "metadata": {},
   "outputs": [],
   "source": []
  }
 ],
 "metadata": {
  "kernelspec": {
   "display_name": "Python 3",
   "language": "python",
   "name": "python3"
  },
  "language_info": {
   "codemirror_mode": {
    "name": "ipython",
    "version": 3
   },
   "file_extension": ".py",
   "mimetype": "text/x-python",
   "name": "python",
   "nbconvert_exporter": "python",
   "pygments_lexer": "ipython3",
   "version": "3.7.6"
  }
 },
 "nbformat": 4,
 "nbformat_minor": 4
}
