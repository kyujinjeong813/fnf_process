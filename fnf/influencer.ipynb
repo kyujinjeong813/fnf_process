{
 "cells": [
  {
   "cell_type": "code",
   "execution_count": 21,
   "metadata": {
    "collapsed": true
   },
   "outputs": [
    {
     "name": "stdout",
     "output_type": "stream",
     "text": [
      "(118, 18)\n"
     ]
    }
   ],
   "source": [
    "import pandas as pd\n",
    "\n",
    "df = pd.read_csv('influencer.csv')\n",
    "print(df.shape)\n"
   ]
  },
  {
   "cell_type": "code",
   "execution_count": 22,
   "outputs": [
    {
     "name": "stdout",
     "output_type": "stream",
     "text": [
      "(67, 18)\n",
      "Index(['MISSION_SEQ', 'INFL_CHANNEL_SEQ', 'INFL_CHANNEL_NICK', 'ACCEPT_FLAG',\n",
      "       'OPTION_SEQ', 'PRODUCT', 'LINK', 'UPLOAD_DATE', 'END_DATE',\n",
      "       'FOLLOWER_CNT', 'LIKE_CNT', 'REPLY_CNT', 'VIEW_CNT', 'CREATE_DATE',\n",
      "       'FULFILL', 'CONTENT_QLTY', 'HASHTAG_CMPLN', 'OPEN_GRAPH_IMG'],\n",
      "      dtype='object')\n"
     ]
    }
   ],
   "source": [
    "df.dropna(subset=['LINK'], inplace=True)\n",
    "print(df.shape)\n",
    "print(df.columns)"
   ],
   "metadata": {
    "collapsed": false,
    "pycharm": {
     "name": "#%%\n"
    }
   }
  },
  {
   "cell_type": "code",
   "execution_count": 23,
   "outputs": [
    {
     "name": "stdout",
     "output_type": "stream",
     "text": [
      "3      10\n",
      "4      20\n",
      "5      10\n",
      "8      20\n",
      "10     10\n",
      "       ..\n",
      "113     5\n",
      "114     5\n",
      "115    20\n",
      "116    10\n",
      "117     5\n",
      "Name: follower_record, Length: 67, dtype: int64\n",
      "     MISSION_SEQ  INFL_CHANNEL_SEQ INFL_CHANNEL_NICK ACCEPT_FLAG  OPTION_SEQ  \\\n",
      "3            196              1523       suyeon__sky           Y        91.0   \n",
      "4            196              1192            _su_s2           Y        91.0   \n",
      "5            196              1531           yells_x           Y        91.0   \n",
      "8            196              1522            qtd___           Y        91.0   \n",
      "10           196              1277       168___erica           Y        91.0   \n",
      "..           ...               ...               ...         ...         ...   \n",
      "113          200              1964        nasajji.hi           Y        93.0   \n",
      "114          200              1965           ___yunh           Y        93.0   \n",
      "115          200              1966        hello_whyy           Y        93.0   \n",
      "116          200              1967            bb_stg           Y        93.0   \n",
      "117          200              1981           kkyu_s2           Y         NaN   \n",
      "\n",
      "                         PRODUCT  \\\n",
      "3                  31JPF1061_50B   \n",
      "4                  31JPF3061_07U   \n",
      "5                  31JPF1061_50B   \n",
      "8                  31JPF3061_43B   \n",
      "10                 31JPF2061_50I   \n",
      "..                           ...   \n",
      "113  31JPF2061_07K,31JPF2061_07K   \n",
      "114  31JPF2061_07K,31JPF2061_07K   \n",
      "115  31JPF2061_07K,31JPF2061_07K   \n",
      "116  31JPF2061_50I,31JPF2061_07K   \n",
      "117  31JPF3061_50I,31JPF3061_50I   \n",
      "\n",
      "                                                  LINK          UPLOAD_DATE  \\\n",
      "3             https://www.instagram.com/p/CEoanQvl4pc/  2020-09-02 00:00:00   \n",
      "4             https://www.instagram.com/p/CEQbx-Dlcbi/  2020-08-24 00:00:00   \n",
      "5             https://www.instagram.com/p/CELNmrqHHR4/  2020-08-22 00:00:00   \n",
      "8             https://www.instagram.com/p/CEOBtUBB_UW/  2020-08-23 00:00:00   \n",
      "10            https://www.instagram.com/p/CEOzXs_MfVt/  2020-08-23 00:00:00   \n",
      "..                                                 ...                  ...   \n",
      "113           https://www.instagram.com/p/CEOy67zlBZB/  2020-08-23 00:00:00   \n",
      "114           https://www.instagram.com/p/CEOi-3vHajI/  2020-08-23 00:00:00   \n",
      "115           https://www.instagram.com/p/CEVuM-QD22L/  2020-08-26 00:00:00   \n",
      "116           https://www.instagram.com/p/CFeXPP3jpOp/  2020-09-23 00:00:00   \n",
      "117  https://www.instagram.com/p/CEWgSo6ncFs/?utm_s...                  NaN   \n",
      "\n",
      "                END_DATE  FOLLOWER_CNT  LIKE_CNT  REPLY_CNT  VIEW_CNT  \\\n",
      "3    2020-09-07 00:00:00         21335      1054         28         0   \n",
      "4    2020-09-07 00:00:00         57377      1114         29         0   \n",
      "5    2020-09-07 00:00:00         14365       912          0         0   \n",
      "8    2020-09-07 00:00:00         76576      6196        113         0   \n",
      "10   2020-09-07 00:00:00         14348       183          3         0   \n",
      "..                   ...           ...       ...        ...       ...   \n",
      "113  2020-10-06 00:00:00          8429       272         75         0   \n",
      "114  2020-10-06 00:00:00          6109       265         14         0   \n",
      "115  2020-10-06 00:00:00         74668       677          5         0   \n",
      "116  2020-10-06 00:00:00         10409       600         15         0   \n",
      "117  2020-10-06 00:00:00             0         0          0         0   \n",
      "\n",
      "             CREATE_DATE  FULFILL  CONTENT_QLTY  HASHTAG_CMPLN  \\\n",
      "3    2020-08-18 00:42:47      NaN           NaN            NaN   \n",
      "4    2020-08-18 00:42:56      NaN           NaN            NaN   \n",
      "5    2020-08-18 00:43:04      NaN           NaN            NaN   \n",
      "8    2020-08-18 00:43:27      NaN           NaN            NaN   \n",
      "10   2020-08-18 00:43:44      NaN           NaN            NaN   \n",
      "..                   ...      ...           ...            ...   \n",
      "113  2020-08-18 01:23:39      NaN           NaN            NaN   \n",
      "114  2020-08-18 01:23:49      NaN           NaN            NaN   \n",
      "115  2020-08-18 01:23:57      NaN           NaN            NaN   \n",
      "116  2020-08-18 01:24:05      NaN           NaN            NaN   \n",
      "117  2020-08-19 00:07:02      NaN           NaN            NaN   \n",
      "\n",
      "                                        OPEN_GRAPH_IMG  follower_record  \n",
      "3                                                  NaN               10  \n",
      "4                                                  NaN               20  \n",
      "5                                                  NaN               10  \n",
      "8                                                  NaN               20  \n",
      "10                                                 NaN               10  \n",
      "..                                                 ...              ...  \n",
      "113                                                NaN                5  \n",
      "114                                                NaN                5  \n",
      "115                                                NaN               20  \n",
      "116  https://scontent-ssn1-1.cdninstagram.com/v/t51...               10  \n",
      "117                                                NaN                5  \n",
      "\n",
      "[67 rows x 19 columns]\n"
     ]
    }
   ],
   "source": [
    "def follower_cut(x):\n",
    "    if x > 2000000 :\n",
    "        return 50\n",
    "    elif x > 1000000 :\n",
    "        return 45\n",
    "    elif x > 700000 :\n",
    "        return 40\n",
    "    elif x > 500000 :\n",
    "        return 35\n",
    "    elif x > 300000 :\n",
    "        return 30\n",
    "    elif x > 100000 :\n",
    "        return 25\n",
    "    elif x > 50000 :\n",
    "        return 20\n",
    "    elif x > 30000 :\n",
    "        return 15\n",
    "    elif x > 10000 :\n",
    "        return 10\n",
    "    else:\n",
    "        return 5\n",
    "\n",
    "df['follower_record'] = df['FOLLOWER_CNT'].apply(follower_cut)\n",
    "print(df['follower_record'])"
   ],
   "metadata": {
    "collapsed": false,
    "pycharm": {
     "name": "#%%\n"
    }
   }
  },
  {
   "cell_type": "code",
   "execution_count": 5,
   "outputs": [
    {
     "name": "stdout",
     "output_type": "stream",
     "text": [
      "     interaction  LIKE_CNT  REPLY_CNT\n",
      "3           1082      1054         28\n",
      "4           1143      1114         29\n",
      "5            912       912          0\n",
      "8           6309      6196        113\n",
      "10           186       183          3\n",
      "..           ...       ...        ...\n",
      "113          347       272         75\n",
      "114          279       265         14\n",
      "115          682       677          5\n",
      "116          615       600         15\n",
      "117            0         0          0\n",
      "\n",
      "[67 rows x 3 columns]\n"
     ]
    }
   ],
   "source": [
    "df['interaction'] = df['LIKE_CNT'] + df['REPLY_CNT']\n",
    "print(df[['interaction', 'LIKE_CNT', 'REPLY_CNT']])"
   ],
   "metadata": {
    "collapsed": false,
    "pycharm": {
     "name": "#%%\n"
    }
   }
  },
  {
   "cell_type": "code",
   "execution_count": 6,
   "outputs": [
    {
     "name": "stdout",
     "output_type": "stream",
     "text": [
      "      int_pct  interaction\n",
      "3    0.582090         1082\n",
      "4    0.671642         1143\n",
      "5    0.477612          912\n",
      "8    0.925373         6309\n",
      "10   0.194030          186\n",
      "..        ...          ...\n",
      "113  0.268657          347\n",
      "114  0.238806          279\n",
      "115  0.417910          682\n",
      "116  0.388060          615\n",
      "117  0.089552            0\n",
      "\n",
      "[67 rows x 2 columns]\n"
     ]
    }
   ],
   "source": [
    "df['int_pct'] = df['interaction'].rank(pct=True)\n",
    "print(df[['int_pct', 'interaction']])"
   ],
   "metadata": {
    "collapsed": false,
    "pycharm": {
     "name": "#%%\n"
    }
   }
  },
  {
   "cell_type": "code",
   "execution_count": 7,
   "outputs": [
    {
     "name": "stdout",
     "output_type": "stream",
     "text": [
      "     interaction   int_pct  int_score\n",
      "3           1082  0.582090         10\n",
      "4           1143  0.671642         15\n",
      "5            912  0.477612         10\n",
      "8           6309  0.925373         20\n",
      "10           186  0.194030          1\n",
      "..           ...       ...        ...\n",
      "113          347  0.268657          5\n",
      "114          279  0.238806          5\n",
      "115          682  0.417910         10\n",
      "116          615  0.388060          5\n",
      "117            0  0.089552          1\n",
      "\n",
      "[67 rows x 3 columns]\n"
     ]
    }
   ],
   "source": [
    "def interaction_cut(x):\n",
    "    if x > 0.8:\n",
    "        return 20\n",
    "    elif x > 0.6 :\n",
    "        return 15\n",
    "    elif x > 0.4 :\n",
    "        return 10\n",
    "    elif x > 0.2 :\n",
    "        return 5\n",
    "    else :\n",
    "        return 1\n",
    "\n",
    "df['int_score'] = df['int_pct'].apply(interaction_cut)\n",
    "print(df[['interaction', 'int_pct', 'int_score']])"
   ],
   "metadata": {
    "collapsed": false,
    "pycharm": {
     "name": "#%%\n"
    }
   }
  },
  {
   "cell_type": "code",
   "execution_count": 24,
   "outputs": [
    {
     "name": "stdout",
     "output_type": "stream",
     "text": [
      "3      2020-09-02 00:00:00\n",
      "4      2020-08-24 00:00:00\n",
      "5      2020-08-22 00:00:00\n",
      "8      2020-08-23 00:00:00\n",
      "10     2020-08-23 00:00:00\n",
      "              ...         \n",
      "113    2020-08-23 00:00:00\n",
      "114    2020-08-23 00:00:00\n",
      "115    2020-08-26 00:00:00\n",
      "116    2020-09-23 00:00:00\n",
      "117                    NaN\n",
      "Name: UPLOAD_DATE, Length: 67, dtype: object\n"
     ]
    }
   ],
   "source": [
    "from datetime import datetime\n",
    "\n",
    "# df['END_DATE'] = df['END_DATE'].apply(lambda x: datetime.strptime(x, '%Y-%m-%d %H:%M:%S'))\n",
    "# df['UPLOAD_DATE'] = df['UPLOAD_DATE'].apply(lambda x: datetime.strptime(x, '%Y-%m-%d %H:%M:%S'))\n",
    "# print(df)\n",
    "# print(df['UPLOAD_DATE']-df['END_DATE'])\n",
    "print(df['UPLOAD_DATE'])"
   ],
   "metadata": {
    "collapsed": false,
    "pycharm": {
     "name": "#%%\n"
    }
   }
  },
  {
   "cell_type": "code",
   "execution_count": 27,
   "outputs": [
    {
     "name": "stdout",
     "output_type": "stream",
     "text": [
      "         due UPLOAD_DATE   END_DATE\n",
      "2    -5 days  2020-09-02 2020-09-07\n",
      "3   -14 days  2020-08-24 2020-09-07\n",
      "4   -16 days  2020-08-22 2020-09-07\n",
      "7   -15 days  2020-08-23 2020-09-07\n",
      "9   -15 days  2020-08-23 2020-09-07\n",
      "14  -12 days  2020-08-26 2020-09-07\n",
      "16  -15 days  2020-08-23 2020-09-07\n",
      "19    2 days  2020-09-09 2020-09-07\n",
      "21  -11 days  2020-08-27 2020-09-07\n",
      "23  -13 days  2020-08-25 2020-09-07\n",
      "27  -15 days  2020-08-23 2020-09-07\n",
      "31  -12 days  2020-08-26 2020-09-07\n",
      "32   -7 days  2020-08-31 2020-09-07\n",
      "33   -7 days  2020-08-31 2020-09-07\n",
      "34   -9 days  2020-08-29 2020-09-07\n",
      "35   -8 days  2020-08-30 2020-09-07\n",
      "37   -6 days  2020-09-01 2020-09-07\n",
      "38  -13 days  2020-08-25 2020-09-07\n",
      "41   -6 days  2020-09-01 2020-09-07\n",
      "42  -15 days  2020-08-23 2020-09-07\n",
      "43   -9 days  2020-08-29 2020-09-07\n",
      "54  -13 days  2020-08-25 2020-09-07\n",
      "55   -5 days  2020-09-02 2020-09-07\n",
      "58    2 days  2020-09-09 2020-09-07\n",
      "61  -13 days  2020-09-09 2020-09-22\n",
      "65  -22 days  2020-08-31 2020-09-22\n",
      "68  -17 days  2020-09-05 2020-09-22\n",
      "69  -30 days  2020-08-23 2020-09-22\n",
      "70  -24 days  2020-08-29 2020-09-22\n",
      "71  -21 days  2020-09-01 2020-09-22\n",
      "72  -30 days  2020-08-23 2020-09-22\n",
      "73  -25 days  2020-08-28 2020-09-22\n",
      "74  -28 days  2020-08-25 2020-09-22\n",
      "76  -14 days  2020-09-08 2020-09-22\n",
      "79  -29 days  2020-08-24 2020-09-22\n",
      "80  -30 days  2020-08-23 2020-09-22\n",
      "82  -31 days  2020-08-22 2020-09-22\n",
      "84  -22 days  2020-08-31 2020-09-22\n",
      "85  -24 days  2020-08-29 2020-09-22\n",
      "86  -16 days  2020-09-06 2020-09-22\n",
      "87  -30 days  2020-08-23 2020-09-22\n",
      "92  -27 days  2020-08-26 2020-09-22\n",
      "93  -23 days  2020-08-30 2020-09-22\n",
      "94  -24 days  2020-08-29 2020-09-22\n",
      "95   -6 days  2020-09-16 2020-09-22\n",
      "96  -23 days  2020-08-30 2020-09-22\n",
      "98  -25 days  2020-08-28 2020-09-22\n",
      "99  -30 days  2020-08-23 2020-09-22\n",
      "100 -22 days  2020-08-31 2020-09-22\n",
      "109 -11 days  2020-09-04 2020-09-15\n",
      "110 -23 days  2020-08-23 2020-09-15\n",
      "111 -16 days  2020-08-30 2020-09-15\n",
      "112 -23 days  2020-08-23 2020-09-15\n",
      "113 -23 days  2020-08-23 2020-09-15\n",
      "114 -20 days  2020-08-26 2020-09-15\n",
      "115 -22 days  2020-08-24 2020-09-15\n"
     ]
    }
   ],
   "source": [
    "df['due'] = df['UPLOAD_DATE']-df['END_DATE']\n",
    "print (df[['due', 'UPLOAD_DATE', 'END_DATE']])\n"
   ],
   "metadata": {
    "collapsed": false,
    "pycharm": {
     "name": "#%%\n"
    }
   }
  },
  {
   "cell_type": "code",
   "execution_count": 31,
   "outputs": [
    {
     "name": "stdout",
     "output_type": "stream",
     "text": [
      "     due_score      due UPLOAD_DATE   END_DATE\n",
      "2          1.0  -5 days  2020-09-02 2020-09-07\n",
      "3          1.0 -14 days  2020-08-24 2020-09-07\n",
      "4          1.0 -16 days  2020-08-22 2020-09-07\n",
      "7          1.0 -15 days  2020-08-23 2020-09-07\n",
      "9          1.0 -15 days  2020-08-23 2020-09-07\n",
      "14         1.0 -12 days  2020-08-26 2020-09-07\n",
      "16         1.0 -15 days  2020-08-23 2020-09-07\n",
      "19         0.8   2 days  2020-09-09 2020-09-07\n",
      "21         1.0 -11 days  2020-08-27 2020-09-07\n",
      "23         1.0 -13 days  2020-08-25 2020-09-07\n",
      "27         1.0 -15 days  2020-08-23 2020-09-07\n",
      "31         1.0 -12 days  2020-08-26 2020-09-07\n",
      "32         1.0  -7 days  2020-08-31 2020-09-07\n",
      "33         1.0  -7 days  2020-08-31 2020-09-07\n",
      "34         1.0  -9 days  2020-08-29 2020-09-07\n",
      "35         1.0  -8 days  2020-08-30 2020-09-07\n",
      "37         1.0  -6 days  2020-09-01 2020-09-07\n",
      "38         1.0 -13 days  2020-08-25 2020-09-07\n",
      "41         1.0  -6 days  2020-09-01 2020-09-07\n",
      "42         1.0 -15 days  2020-08-23 2020-09-07\n",
      "43         1.0  -9 days  2020-08-29 2020-09-07\n",
      "54         1.0 -13 days  2020-08-25 2020-09-07\n",
      "55         1.0  -5 days  2020-09-02 2020-09-07\n",
      "58         0.8   2 days  2020-09-09 2020-09-07\n",
      "61         1.0 -13 days  2020-09-09 2020-09-22\n",
      "65         1.0 -22 days  2020-08-31 2020-09-22\n",
      "68         1.0 -17 days  2020-09-05 2020-09-22\n",
      "69         1.0 -30 days  2020-08-23 2020-09-22\n",
      "70         1.0 -24 days  2020-08-29 2020-09-22\n",
      "71         1.0 -21 days  2020-09-01 2020-09-22\n",
      "72         1.0 -30 days  2020-08-23 2020-09-22\n",
      "73         1.0 -25 days  2020-08-28 2020-09-22\n",
      "74         1.0 -28 days  2020-08-25 2020-09-22\n",
      "76         1.0 -14 days  2020-09-08 2020-09-22\n",
      "79         1.0 -29 days  2020-08-24 2020-09-22\n",
      "80         1.0 -30 days  2020-08-23 2020-09-22\n",
      "82         1.0 -31 days  2020-08-22 2020-09-22\n",
      "84         1.0 -22 days  2020-08-31 2020-09-22\n",
      "85         1.0 -24 days  2020-08-29 2020-09-22\n",
      "86         1.0 -16 days  2020-09-06 2020-09-22\n",
      "87         1.0 -30 days  2020-08-23 2020-09-22\n",
      "92         1.0 -27 days  2020-08-26 2020-09-22\n",
      "93         1.0 -23 days  2020-08-30 2020-09-22\n",
      "94         1.0 -24 days  2020-08-29 2020-09-22\n",
      "95         1.0  -6 days  2020-09-16 2020-09-22\n",
      "96         1.0 -23 days  2020-08-30 2020-09-22\n",
      "98         1.0 -25 days  2020-08-28 2020-09-22\n",
      "99         1.0 -30 days  2020-08-23 2020-09-22\n",
      "100        1.0 -22 days  2020-08-31 2020-09-22\n",
      "109        1.0 -11 days  2020-09-04 2020-09-15\n",
      "110        1.0 -23 days  2020-08-23 2020-09-15\n",
      "111        1.0 -16 days  2020-08-30 2020-09-15\n",
      "112        1.0 -23 days  2020-08-23 2020-09-15\n",
      "113        1.0 -23 days  2020-08-23 2020-09-15\n",
      "114        1.0 -20 days  2020-08-26 2020-09-15\n",
      "115        1.0 -22 days  2020-08-24 2020-09-15\n"
     ]
    }
   ],
   "source": [
    "def upload_due(x):\n",
    "    if x.days <= 0 :\n",
    "        return 1\n",
    "    elif x.days < 7 :\n",
    "        return 0.8\n",
    "    elif x.days < 14 :\n",
    "        return 0.5\n",
    "    else:\n",
    "        return 0\n",
    "\n",
    "df['due_score'] = df['due'].apply(upload_due)\n",
    "print(df[['due_score', 'due', 'UPLOAD_DATE', 'END_DATE']])"
   ],
   "metadata": {
    "collapsed": false,
    "pycharm": {
     "name": "#%%\n"
    }
   }
  },
  {
   "cell_type": "code",
   "execution_count": 35,
   "outputs": [
    {
     "name": "stdout",
     "output_type": "stream",
     "text": [
      "     MISSION_SEQ INFL_CHANNEL_NICK  follower_record  int_score  due_score  \\\n",
      "2            196       suyeon__sky               10         10        1.0   \n",
      "3            196            _su_s2               20         15        1.0   \n",
      "4            196           yells_x               10          5        1.0   \n",
      "7            196            qtd___               20         20        1.0   \n",
      "9            196       168___erica               10          1        1.0   \n",
      "14           196           iowe.tt               10          5        1.0   \n",
      "16           196          sh__11.5               10         10        1.0   \n",
      "19           196             se0zz               10          1        0.8   \n",
      "21           196          j_ssoohh               20          5        1.0   \n",
      "23           196          ieenee._               10          5        1.0   \n",
      "27           196        bomnal_day               15         10        1.0   \n",
      "31           196          wlgus2qh               25         20        1.0   \n",
      "32           196        somsomvely               25         20        1.0   \n",
      "33           196        syung.kim_               25         20        1.0   \n",
      "34           196            heex.x               25         20        1.0   \n",
      "35           196            lee.um               25         15        1.0   \n",
      "37           196         yuuhyemin               25         20        1.0   \n",
      "38           196          dpwls2da               25         15        1.0   \n",
      "41           196         imyeonduu               25         15        1.0   \n",
      "42           196         pongnim_c               25         15        1.0   \n",
      "43           196            woou.c               25         20        1.0   \n",
      "54           196         xu.li9hts               25         20        1.0   \n",
      "55           196          ohmyseon               25         15        1.0   \n",
      "58           196       jangeunhong               10          1        0.8   \n",
      "61           199           96._.bo               15          1        1.0   \n",
      "65           199             smxmu               20         15        1.0   \n",
      "68           199         eun_doitz               30         20        1.0   \n",
      "69           199         chul2gram               20         10        1.0   \n",
      "70           199           929.jpg               20         10        1.0   \n",
      "71           199          bino___x               15         10        1.0   \n",
      "72           199             wnsur               10          5        1.0   \n",
      "73           199            koo_jg               10          1        1.0   \n",
      "74           199    onlyonefreedom               20          5        1.0   \n",
      "76           199     rolemodel_ryu               25         20        1.0   \n",
      "79           199     _perfect_jay_               20          5        1.0   \n",
      "80           199          scott.im               20         15        1.0   \n",
      "82           199          h___ryan               10         15        1.0   \n",
      "84           199         __kazama_               10         10        1.0   \n",
      "85           199           e.n_h.o               10          1        1.0   \n",
      "86           199           li.hyuk               10         20        1.0   \n",
      "87           199           1m_sik7               10         15        1.0   \n",
      "92           199           hyuk222               10          1        1.0   \n",
      "93           199           gloyk91               15         10        1.0   \n",
      "94           199           zzoon.e               10          5        1.0   \n",
      "95           199          yooncarp               20         15        1.0   \n",
      "96           199         hyun4good               10          1        1.0   \n",
      "98           199           mingso0               15         10        1.0   \n",
      "99           199      byeongyunsss               10         10        1.0   \n",
      "100          199          hit_taek               20         10        1.0   \n",
      "109          200            __yhho               25         20        1.0   \n",
      "110          200          _b_o_eun                5          1        1.0   \n",
      "111          200         _ssunghho               10          5        1.0   \n",
      "112          200        nasajji.hi                5          1        1.0   \n",
      "113          200           ___yunh                5          1        1.0   \n",
      "114          200        hello_whyy               20          5        1.0   \n",
      "115          200            bb_stg               10          5        1.0   \n",
      "\n",
      "     sub_ttl  \n",
      "2       20.0  \n",
      "3       35.0  \n",
      "4       15.0  \n",
      "7       40.0  \n",
      "9       11.0  \n",
      "14      15.0  \n",
      "16      20.0  \n",
      "19       8.8  \n",
      "21      25.0  \n",
      "23      15.0  \n",
      "27      25.0  \n",
      "31      45.0  \n",
      "32      45.0  \n",
      "33      45.0  \n",
      "34      45.0  \n",
      "35      40.0  \n",
      "37      45.0  \n",
      "38      40.0  \n",
      "41      40.0  \n",
      "42      40.0  \n",
      "43      45.0  \n",
      "54      45.0  \n",
      "55      40.0  \n",
      "58       8.8  \n",
      "61      16.0  \n",
      "65      35.0  \n",
      "68      50.0  \n",
      "69      30.0  \n",
      "70      30.0  \n",
      "71      25.0  \n",
      "72      15.0  \n",
      "73      11.0  \n",
      "74      25.0  \n",
      "76      45.0  \n",
      "79      25.0  \n",
      "80      35.0  \n",
      "82      25.0  \n",
      "84      20.0  \n",
      "85      11.0  \n",
      "86      30.0  \n",
      "87      25.0  \n",
      "92      11.0  \n",
      "93      25.0  \n",
      "94      15.0  \n",
      "95      35.0  \n",
      "96      11.0  \n",
      "98      25.0  \n",
      "99      20.0  \n",
      "100     30.0  \n",
      "109     45.0  \n",
      "110      6.0  \n",
      "111     15.0  \n",
      "112      6.0  \n",
      "113      6.0  \n",
      "114     25.0  \n",
      "115     15.0  \n"
     ]
    },
    {
     "name": "stderr",
     "output_type": "stream",
     "text": [
      "c:\\users\\kyujin\\venv\\lib\\site-packages\\ipykernel_launcher.py:2: SettingWithCopyWarning: \n",
      "A value is trying to be set on a copy of a slice from a DataFrame.\n",
      "Try using .loc[row_indexer,col_indexer] = value instead\n",
      "\n",
      "See the caveats in the documentation: https://pandas.pydata.org/pandas-docs/stable/user_guide/indexing.html#returning-a-view-versus-a-copy\n",
      "  \n"
     ]
    }
   ],
   "source": [
    "df_sub = df[['MISSION_SEQ', 'INFL_CHANNEL_NICK','follower_record', 'int_score', 'due_score']]\n",
    "df_sub['sub_ttl'] = (df_sub['follower_record']+df_sub['int_score']) * df_sub['due_score']\n",
    "print(df_sub)"
   ],
   "metadata": {
    "collapsed": false,
    "pycharm": {
     "name": "#%%\n"
    }
   }
  },
  {
   "cell_type": "code",
   "execution_count": 36,
   "outputs": [
    {
     "name": "stdout",
     "output_type": "stream",
     "text": [
      "Index(['MISSION_SEQ', 'INFL_CHANNEL_SEQ', 'INFL_CHANNEL_NICK', 'ACCEPT_FLAG',\n",
      "       'OPTION_SEQ', 'PRODUCT', 'LINK', 'UPLOAD_DATE', 'END_DATE',\n",
      "       'FOLLOWER_CNT', 'LIKE_CNT', 'REPLY_CNT', 'VIEW_CNT', 'CREATE_DATE',\n",
      "       'FULFILL', 'CONTENT_QLTY', 'HASHTAG_CMPLN', 'OPEN_GRAPH_IMG',\n",
      "       'follower_record', 'interaction', 'int_pct', 'int_score', 'due',\n",
      "       'due_score'],\n",
      "      dtype='object')\n"
     ]
    }
   ],
   "source": [
    "print(df.columns)"
   ],
   "metadata": {
    "collapsed": false,
    "pycharm": {
     "name": "#%%\n"
    }
   }
  },
  {
   "cell_type": "code",
   "execution_count": null,
   "outputs": [],
   "source": [],
   "metadata": {
    "collapsed": false,
    "pycharm": {
     "name": "#%%\n"
    }
   }
  }
 ],
 "metadata": {
  "kernelspec": {
   "display_name": "Python 3",
   "language": "python",
   "name": "python3"
  },
  "language_info": {
   "codemirror_mode": {
    "name": "ipython",
    "version": 2
   },
   "file_extension": ".py",
   "mimetype": "text/x-python",
   "name": "python",
   "nbconvert_exporter": "python",
   "pygments_lexer": "ipython2",
   "version": "2.7.6"
  }
 },
 "nbformat": 4,
 "nbformat_minor": 0
}