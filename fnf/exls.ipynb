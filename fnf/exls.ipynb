{
 "cells": [
  {
   "cell_type": "code",
   "execution_count": 15,
   "metadata": {
    "collapsed": true
   },
   "outputs": [],
   "source": [
    "from urllib.request import urlopen\n",
    "from PIL import Image\n",
    "import io\n",
    "\n",
    "\n",
    "url = 'https://static-dashff.fnf.co.kr/dashff/static/gtm/sketch/M21FJP011_43BGS.jpg'\n",
    "out_file = 'new.jpg'\n",
    "with urlopen(url) as i:\n",
    "    byteImg = io.BytesIO(i.read())\n",
    "    image = Image.open(byteImg)\n",
    "    image.save(out_file)\n",
    "\n",
    "size = 64, 64\n",
    "im = Image.open(out_file)\n",
    "im.thumbnail(size)\n",
    "im.save('new2.jpg')"
   ]
  },
  {
   "cell_type": "code",
   "execution_count": 24,
   "outputs": [],
   "source": [
    "temp_dir=''\n",
    "\n",
    "def img_resize(url, temp_dir):\n",
    "    with urlopen(url) as i:\n",
    "        byteImg = io.BytesIO(i.read())\n",
    "        image = Image.open(byteImg)\n",
    "        out_file = temp_dir+\"out_file.jpg\"\n",
    "        image.save(out_file)\n",
    "\n",
    "    size = 64, 64\n",
    "    im = Image.open(out_file)\n",
    "    im.thumbnail(size)\n",
    "    resize_file = temp_dir+\"new_file.jpg\"\n",
    "    im.save(resize_file)\n",
    "    return resize_file\n",
    "\n",
    "import pandas as pd\n",
    "\n",
    "df = pd.DataFrame()\n",
    "writer = pd.ExcelWriter('exel_image2.xlsx', engine='xlsxwriter')\n",
    "df.to_excel(writer, sheet_name='Sheet1')\n",
    "workbook = writer.book\n",
    "worksheet = writer.sheets['Sheet1']\n",
    "\n",
    "url = 'https://static-dashff.fnf.co.kr/dashff/static/gtm/sketch/M21FJP011_43BGS.jpg'\n",
    "try:\n",
    "    im = img_resize(url, temp_dir)\n",
    "    worksheet.insert_image(1,1,im)\n",
    "    workbook.close()\n",
    "except:\n",
    "    print(\"유알엘없셔\")"
   ],
   "metadata": {
    "collapsed": false,
    "pycharm": {
     "name": "#%%\n"
    }
   }
  },
  {
   "cell_type": "code",
   "execution_count": 28,
   "outputs": [
    {
     "name": "stdout",
     "output_type": "stream",
     "text": [
      "M21FCB004_50BGD.jpg\n"
     ]
    }
   ],
   "source": [
    "url = 'https://static-dashff.fnf.co.kr/dashff/static/gtm/sketch/M21FCB004_50BGD.jpg'\n",
    "print(url.split('/')[-1])"
   ],
   "metadata": {
    "collapsed": false,
    "pycharm": {
     "name": "#%%\n"
    }
   }
  },
  {
   "cell_type": "code",
   "execution_count": null,
   "outputs": [],
   "source": [],
   "metadata": {
    "collapsed": false,
    "pycharm": {
     "name": "#%%\n"
    }
   }
  }
 ],
 "metadata": {
  "kernelspec": {
   "display_name": "Python 3",
   "language": "python",
   "name": "python3"
  },
  "language_info": {
   "codemirror_mode": {
    "name": "ipython",
    "version": 2
   },
   "file_extension": ".py",
   "mimetype": "text/x-python",
   "name": "python",
   "nbconvert_exporter": "python",
   "pygments_lexer": "ipython2",
   "version": "2.7.6"
  }
 },
 "nbformat": 4,
 "nbformat_minor": 0
}