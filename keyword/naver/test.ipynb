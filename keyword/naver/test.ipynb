{
 "cells": [
  {
   "cell_type": "code",
   "execution_count": 1,
   "metadata": {
    "collapsed": true
   },
   "outputs": [
    {
     "name": "stdout",
     "output_type": "stream",
     "text": [
      "5\n"
     ]
    }
   ],
   "source": [
    "lst = [{'groupName': '노스페이스키즈메쉬모자', 'keywords': ['노스페이스키즈메쉬캡', '노스페이스키즈매쉬모자', '노스페이스키즈메쉬모자', '노스페이스키즈매쉬캡']}, {'groupName': '뉴발란스키즈메쉬모자', 'keywords': ['뉴발키즈메쉬캡', '뉴발키즈매쉬모자', '뉴발란스키즈메쉬모자', '뉴발란스키즈매쉬모자', '뉴발키즈매쉬캡', '뉴발란스키즈메쉬캡', '뉴발란스키즈매쉬캡', '뉴발키즈메쉬모자']}, {'groupName': '네파키즈메쉬모자', 'keywords': ['네파키즈메쉬캡', '네파키즈메쉬모자', '네파키즈매쉬모자', '네파키즈매쉬캡']}, {'groupName': '아디다스키즈메쉬모자', 'keywords': ['아디다스키즈메쉬모자', '아디다스키즈메쉬캡', '아디다스키즈매쉬캡', '아디다스키즈매쉬모자']}, {'groupName': '나이키에어맥스97', 'keywords': ['나이키에어맥스97']}]\n",
    "print(len(lst))\n"
   ]
  },
  {
   "cell_type": "code",
   "execution_count": 2,
   "outputs": [
    {
     "name": "stdout",
     "output_type": "stream",
     "text": [
      "Index(['startDate', 'endDate', 'timeUnit', 'results'], dtype='object')\n"
     ]
    }
   ],
   "source": [
    "import pandas as pd\n",
    "\n",
    "json = {'startDate': '2019-12-30', 'endDate': '2020-12-24', 'timeUnit': 'week', 'results': [{'title': '노스페이스키즈메쉬모자', 'keywords': ['노스페이스키즈메쉬모자', '노스페이스키즈매쉬캡', '노스페이스키즈메쉬캡', '노스페이스키즈매쉬모자'], 'data': [{'period': '2020-02-10', 'ratio': 0.00307}, {'period': '2020-03-23', 'ratio': 0.00677}, {'period': '2020-04-06', 'ratio': 0.00615}, {'period': '2020-04-27', 'ratio': 0.00307}, {'period': '2020-05-04', 'ratio': 0.00923}, {'period': '2020-05-11', 'ratio': 0.00369}, {'period': '2020-05-18', 'ratio': 0.01293}, {'period': '2020-05-25', 'ratio': 0.00492}, {'period': '2020-06-01', 'ratio': 0.00307}, {'period': '2020-06-08', 'ratio': 0.01354}, {'period': '2020-06-15', 'ratio': 0.00615}, {'period': '2020-06-22', 'ratio': 0.00431}, {'period': '2020-06-29', 'ratio': 0.00307}, {'period': '2020-07-20', 'ratio': 0.00307}, {'period': '2020-07-27', 'ratio': 0.00554}]}, {'title': '뉴발란스키즈메쉬모자', 'keywords': ['뉴발란스키즈매쉬모자', '뉴발키즈메쉬모자', '뉴발란스키즈매쉬캡', '뉴발키즈메쉬캡', '뉴발키즈매쉬캡', '뉴발란스키즈메쉬모자', '뉴발란스키즈메쉬캡', '뉴발키즈매쉬모자'], 'data': [{'period': '2020-03-30', 'ratio': 0.00369}, {'period': '2020-04-27', 'ratio': 0.00554}, {'period': '2020-05-04', 'ratio': 0.00307}, {'period': '2020-05-25', 'ratio': 0.00677}, {'period': '2020-06-01', 'ratio': 0.00431}, {'period': '2020-06-08', 'ratio': 0.00369}, {'period': '2020-06-15', 'ratio': 0.008}, {'period': '2020-06-22', 'ratio': 0.02709}, {'period': '2020-06-29', 'ratio': 0.00615}, {'period': '2020-07-06', 'ratio': 0.00307}, {'period': '2020-07-13', 'ratio': 0.00307}]}, {'title': '네파키즈메쉬모자', 'keywords': ['네파키즈메쉬캡', '네파키즈메쉬모자', '네파키즈매쉬캡', '네파키즈매쉬모자'], 'data': [{'period': '2020-03-16', 'ratio': 0.00307}, {'period': '2020-03-30', 'ratio': 0.00369}, {'period': '2020-04-13', 'ratio': 0.00492}, {'period': '2020-04-27', 'ratio': 0.00554}, {'period': '2020-05-04', 'ratio': 0.00862}, {'period': '2020-05-11', 'ratio': 0.00369}, {'period': '2020-06-01', 'ratio': 0.00369}, {'period': '2020-06-08', 'ratio': 0.00615}, {'period': '2020-06-15', 'ratio': 0.00677}, {'period': '2020-06-22', 'ratio': 0.0197}, {'period': '2020-06-29', 'ratio': 0.00369}, {'period': '2020-08-10', 'ratio': 0.00492}]}, {'title': '아디다스키즈메쉬모자', 'keywords': ['아디다스키즈메쉬캡', '아디다스키즈매쉬캡', '아디다스키즈매쉬모자', '아디다스키즈메쉬모자'], 'data': [{'period': '2020-05-04', 'ratio': 0.00307}, {'period': '2020-06-01', 'ratio': 0.00739}]}, {'title': '나이키에어맥스97', 'keywords': ['나이키에어맥스97'], 'data': [{'period': '2019-12-30', 'ratio': 82.07557}, {'period': '2020-01-06', 'ratio': 83.42992}, {'period': '2020-01-13', 'ratio': 84.56379}, {'period': '2020-01-20', 'ratio': 87.82188}, {'period': '2020-01-27', 'ratio': 100}, {'period': '2020-02-03', 'ratio': 86.98734}, {'period': '2020-02-10', 'ratio': 88.63486}, {'period': '2020-02-17', 'ratio': 74.86835}, {'period': '2020-02-24', 'ratio': 73.11181}, {'period': '2020-03-02', 'ratio': 77.75259}, {'period': '2020-03-09', 'ratio': 75.74169}, {'period': '2020-03-16', 'ratio': 72.5224}, {'period': '2020-03-23', 'ratio': 69.68928}, {'period': '2020-03-30', 'ratio': 59.82508}, {'period': '2020-04-06', 'ratio': 57.79385}, {'period': '2020-04-13', 'ratio': 64.97828}, {'period': '2020-04-20', 'ratio': 51.35404}, {'period': '2020-04-27', 'ratio': 49.73978}, {'period': '2020-05-04', 'ratio': 46.33387}, {'period': '2020-05-11', 'ratio': 40.57647}, {'period': '2020-05-18', 'ratio': 43.95528}, {'period': '2020-05-25', 'ratio': 38.41098}, {'period': '2020-06-01', 'ratio': 32.14917}, {'period': '2020-06-08', 'ratio': 27.14932}, {'period': '2020-06-15', 'ratio': 24.09509}, {'period': '2020-06-22', 'ratio': 23.69784}, {'period': '2020-06-29', 'ratio': 24.69928}, {'period': '2020-07-06', 'ratio': 24.61306}, {'period': '2020-07-13', 'ratio': 24.85511}, {'period': '2020-07-20', 'ratio': 24.98691}, {'period': '2020-07-27', 'ratio': 22.07988}, {'period': '2020-08-03', 'ratio': 20.96387}, {'period': '2020-08-10', 'ratio': 18.65241}, {'period': '2020-08-17', 'ratio': 24.53853}, {'period': '2020-08-24', 'ratio': 24.16284}, {'period': '2020-08-31', 'ratio': 27.6174}, {'period': '2020-09-07', 'ratio': 29.21688}, {'period': '2020-09-14', 'ratio': 34.74455}, {'period': '2020-09-21', 'ratio': 43.76743}, {'period': '2020-09-28', 'ratio': 52.44048}, {'period': '2020-10-05', 'ratio': 52.20152}, {'period': '2020-10-12', 'ratio': 45.28377}, {'period': '2020-10-19', 'ratio': 44.12342}, {'period': '2020-10-26', 'ratio': 43.49459}, {'period': '2020-11-02', 'ratio': 43.64425}, {'period': '2020-11-09', 'ratio': 58.81932}, {'period': '2020-11-16', 'ratio': 45.6995}, {'period': '2020-11-23', 'ratio': 44.34699}, {'period': '2020-11-30', 'ratio': 44.82739}, {'period': '2020-12-07', 'ratio': 43.98916}, {'period': '2020-12-14', 'ratio': 43.66581}, {'period': '2020-12-21', 'ratio': 18.73864}]}]}\n",
    "df = pd.DataFrame(json)\n",
    "print(df.columns)"
   ],
   "metadata": {
    "collapsed": false,
    "pycharm": {
     "name": "#%%\n"
    }
   }
  },
  {
   "cell_type": "code",
   "execution_count": 10,
   "outputs": [
    {
     "data": {
      "text/plain": "{'title': '노스페이스키즈메쉬모자',\n 'keywords': ['노스페이스키즈메쉬모자', '노스페이스키즈매쉬캡', '노스페이스키즈메쉬캡', '노스페이스키즈매쉬모자'],\n 'data': [{'period': '2020-02-10', 'ratio': 0.00307},\n  {'period': '2020-03-23', 'ratio': 0.00677},\n  {'period': '2020-04-06', 'ratio': 0.00615},\n  {'period': '2020-04-27', 'ratio': 0.00307},\n  {'period': '2020-05-04', 'ratio': 0.00923},\n  {'period': '2020-05-11', 'ratio': 0.00369},\n  {'period': '2020-05-18', 'ratio': 0.01293},\n  {'period': '2020-05-25', 'ratio': 0.00492},\n  {'period': '2020-06-01', 'ratio': 0.00307},\n  {'period': '2020-06-08', 'ratio': 0.01354},\n  {'period': '2020-06-15', 'ratio': 0.00615},\n  {'period': '2020-06-22', 'ratio': 0.00431},\n  {'period': '2020-06-29', 'ratio': 0.00307},\n  {'period': '2020-07-20', 'ratio': 0.00307},\n  {'period': '2020-07-27', 'ratio': 0.00554}]}"
     },
     "execution_count": 10,
     "metadata": {},
     "output_type": "execute_result"
    }
   ],
   "source": [
    "df['results'][0]"
   ],
   "metadata": {
    "collapsed": false,
    "pycharm": {
     "name": "#%%\n"
    }
   }
  },
  {
   "cell_type": "code",
   "execution_count": 11,
   "outputs": [
    {
     "name": "stdout",
     "output_type": "stream",
     "text": [
      "    startDate     endDate timeUnit  \\\n",
      "0  2019-12-30  2020-12-24     week   \n",
      "1  2019-12-30  2020-12-24     week   \n",
      "2  2019-12-30  2020-12-24     week   \n",
      "3  2019-12-30  2020-12-24     week   \n",
      "4  2019-12-30  2020-12-24     week   \n",
      "\n",
      "                                             results  \n",
      "0  {'title': '노스페이스키즈메쉬모자', 'keywords': ['노스페이스키즈...  \n",
      "1  {'title': '뉴발란스키즈메쉬모자', 'keywords': ['뉴발란스키즈매쉬...  \n",
      "2  {'title': '네파키즈메쉬모자', 'keywords': ['네파키즈메쉬캡', ...  \n",
      "3  {'title': '아디다스키즈메쉬모자', 'keywords': ['아디다스키즈메쉬...  \n",
      "4  {'title': '나이키에어맥스97', 'keywords': ['나이키에어맥스97...  \n"
     ]
    }
   ],
   "source": [
    "print(df)"
   ],
   "metadata": {
    "collapsed": false,
    "pycharm": {
     "name": "#%%\n"
    }
   }
  },
  {
   "cell_type": "code",
   "execution_count": 38,
   "outputs": [
    {
     "name": "stdout",
     "output_type": "stream",
     "text": [
      "[('노스페이스키즈메쉬모자', ['노스페이스키즈메쉬모자', '노스페이스키즈매쉬캡', '노스페이스키즈메쉬캡', '노스페이스키즈매쉬모자']), ('뉴발란스키즈메쉬모자', ['뉴발란스키즈매쉬모자', '뉴발키즈메쉬모자', '뉴발란스키즈매쉬캡', '뉴발키즈메쉬캡', '뉴발키즈매쉬캡', '뉴발란스키즈메쉬모자', '뉴발란스키즈메쉬캡', '뉴발키즈매쉬모자']), ('네파키즈메쉬모자', ['네파키즈메쉬캡', '네파키즈메쉬모자', '네파키즈매쉬캡', '네파키즈매쉬모자']), ('아디다스키즈메쉬모자', ['아디다스키즈메쉬캡', '아디다스키즈매쉬캡', '아디다스키즈매쉬모자', '아디다스키즈메쉬모자']), ('나이키에어맥스97', ['나이키에어맥스97'])]\n"
     ]
    }
   ],
   "source": [
    "data_list = json['results']\n",
    "d = data_list[0]['title']\n",
    "keyword_repr = [ x['title'] for x in data_list]\n",
    "keyword = [ x['keywords'] for x in data_list]\n",
    "# data = [ x['data'] for x in data_list]\n",
    "l = list(zip(keyword_repr, keyword))\n",
    "print(l)\n",
    "# dic = pd.DataFrame.from_dict(d)\n",
    "# print(d)\n",
    "# dict_lst = [ pd.DataFrame.from_dict(x) for x in data_list]"
   ],
   "metadata": {
    "collapsed": false,
    "pycharm": {
     "name": "#%%\n"
    }
   }
  },
  {
   "cell_type": "code",
   "execution_count": 1,
   "outputs": [
    {
     "name": "stdout",
     "output_type": "stream",
     "text": [
      "4\n"
     ]
    }
   ],
   "source": [
    "json = {'startDate': '2019-12-30', 'endDate': '2020-12-24', 'timeUnit': 'week', 'results': [{'title': '노스페이스키즈메쉬모자', 'keywords': ['노스페이스키즈매쉬캡', '노스페이스키즈메쉬모자', '노스페이스키즈메쉬캡', '노스페이스키즈매쉬모자'], 'data': [{'period': '2020-02-10', 'ratio': 0.00307}, {'period': '2020-03-23', 'ratio': 0.00677}, {'period': '2020-04-06', 'ratio': 0.00615}, {'period': '2020-04-27', 'ratio': 0.00307}, {'period': '2020-05-04', 'ratio': 0.00923}, {'period': '2020-05-11', 'ratio': 0.00369}, {'period': '2020-05-18', 'ratio': 0.01293}, {'period': '2020-05-25', 'ratio': 0.00492}, {'period': '2020-06-01', 'ratio': 0.00307}, {'period': '2020-06-08', 'ratio': 0.01354}, {'period': '2020-06-15', 'ratio': 0.00615}, {'period': '2020-06-22', 'ratio': 0.00431}, {'period': '2020-06-29', 'ratio': 0.00307}, {'period': '2020-07-20', 'ratio': 0.00307}, {'period': '2020-07-27', 'ratio': 0.00554}]}, {'title': '뉴발란스키즈메쉬모자', 'keywords': ['뉴발키즈메쉬모자', '뉴발란스키즈메쉬캡', '뉴발키즈매쉬모자', '뉴발란스키즈매쉬캡', '뉴발키즈메쉬캡', '뉴발란스키즈메쉬모자', '뉴발란스키즈매쉬모자', '뉴발키즈매쉬캡'], 'data': [{'period': '2020-03-30', 'ratio': 0.00369}, {'period': '2020-04-27', 'ratio': 0.00554}, {'period': '2020-05-04', 'ratio': 0.00307}, {'period': '2020-05-25', 'ratio': 0.00677}, {'period': '2020-06-01', 'ratio': 0.00431}, {'period': '2020-06-08', 'ratio': 0.00369}, {'period': '2020-06-15', 'ratio': 0.008}, {'period': '2020-06-22', 'ratio': 0.02709}, {'period': '2020-06-29', 'ratio': 0.00615}, {'period': '2020-07-06', 'ratio': 0.00307}, {'period': '2020-07-13', 'ratio': 0.00307}]}, {'title': '네파키즈메쉬모자', 'keywords': ['네파키즈메쉬모자', '네파키즈매쉬모자', '네파키즈매쉬캡', '네파키즈메쉬캡'], 'data': [{'period': '2020-03-16', 'ratio': 0.00307}, {'period': '2020-03-30', 'ratio': 0.00369}, {'period': '2020-04-13', 'ratio': 0.00492}, {'period': '2020-04-27', 'ratio': 0.00554}, {'period': '2020-05-04', 'ratio': 0.00862}, {'period': '2020-05-11', 'ratio': 0.00369}, {'period': '2020-06-01', 'ratio': 0.00369}, {'period': '2020-06-08', 'ratio': 0.00615}, {'period': '2020-06-15', 'ratio': 0.00677}, {'period': '2020-06-22', 'ratio': 0.0197}, {'period': '2020-06-29', 'ratio': 0.00369}, {'period': '2020-08-10', 'ratio': 0.00492}]}, {'title': '아디다스키즈메쉬모자', 'keywords': ['아디다스키즈매쉬모자', '아디다스키즈메쉬모자', '아디다스키즈메쉬캡', '아디다스키즈매쉬캡'], 'data': [{'period': '2020-05-04', 'ratio': 0.00307}, {'period': '2020-06-01', 'ratio': 0.00739}]}, {'title': '나이키에어맥스97', 'keywords': ['나이키에어맥스97'], 'data': [{'period': '2019-12-30', 'ratio': 82.07557}, {'period': '2020-01-06', 'ratio': 83.42992}, {'period': '2020-01-13', 'ratio': 84.56379}, {'period': '2020-01-20', 'ratio': 87.82188}, {'period': '2020-01-27', 'ratio': 100}, {'period': '2020-02-03', 'ratio': 86.98734}, {'period': '2020-02-10', 'ratio': 88.63486}, {'period': '2020-02-17', 'ratio': 74.86835}, {'period': '2020-02-24', 'ratio': 73.11181}, {'period': '2020-03-02', 'ratio': 77.75259}, {'period': '2020-03-09', 'ratio': 75.74169}, {'period': '2020-03-16', 'ratio': 72.5224}, {'period': '2020-03-23', 'ratio': 69.68928}, {'period': '2020-03-30', 'ratio': 59.82508}, {'period': '2020-04-06', 'ratio': 57.79385}, {'period': '2020-04-13', 'ratio': 64.97828}, {'period': '2020-04-20', 'ratio': 51.35404}, {'period': '2020-04-27', 'ratio': 49.73978}, {'period': '2020-05-04', 'ratio': 46.33387}, {'period': '2020-05-11', 'ratio': 40.57647}, {'period': '2020-05-18', 'ratio': 43.95528}, {'period': '2020-05-25', 'ratio': 38.41098}, {'period': '2020-06-01', 'ratio': 32.14917}, {'period': '2020-06-08', 'ratio': 27.14932}, {'period': '2020-06-15', 'ratio': 24.09509}, {'period': '2020-06-22', 'ratio': 23.69784}, {'period': '2020-06-29', 'ratio': 24.69928}, {'period': '2020-07-06', 'ratio': 24.61306}, {'period': '2020-07-13', 'ratio': 24.85511}, {'period': '2020-07-20', 'ratio': 24.98691}, {'period': '2020-07-27', 'ratio': 22.07988}, {'period': '2020-08-03', 'ratio': 20.96387}, {'period': '2020-08-10', 'ratio': 18.65241}, {'period': '2020-08-17', 'ratio': 24.53853}, {'period': '2020-08-24', 'ratio': 24.16284}, {'period': '2020-08-31', 'ratio': 27.6174}, {'period': '2020-09-07', 'ratio': 29.21688}, {'period': '2020-09-14', 'ratio': 34.74455}, {'period': '2020-09-21', 'ratio': 43.76743}, {'period': '2020-09-28', 'ratio': 52.44048}, {'period': '2020-10-05', 'ratio': 52.20152}, {'period': '2020-10-12', 'ratio': 45.28377}, {'period': '2020-10-19', 'ratio': 44.12342}, {'period': '2020-10-26', 'ratio': 43.49459}, {'period': '2020-11-02', 'ratio': 43.64425}, {'period': '2020-11-09', 'ratio': 58.81932}, {'period': '2020-11-16', 'ratio': 45.6995}, {'period': '2020-11-23', 'ratio': 44.34699}, {'period': '2020-11-30', 'ratio': 44.82739}, {'period': '2020-12-07', 'ratio': 43.98916}, {'period': '2020-12-14', 'ratio': 43.66581}, {'period': '2020-12-21', 'ratio': 18.73864}]}]}\n",
    "print(len(json))\n",
    "# i = 4"
   ],
   "metadata": {
    "collapsed": false,
    "pycharm": {
     "name": "#%%\n"
    }
   }
  },
  {
   "cell_type": "code",
   "execution_count": 4,
   "outputs": [
    {
     "name": "stdout",
     "output_type": "stream",
     "text": [
      "5\n"
     ]
    }
   ],
   "source": [
    "results = json['results']\n",
    "l = [x['title'] for x in results]\n",
    "print(len(l))"
   ],
   "metadata": {
    "collapsed": false,
    "pycharm": {
     "name": "#%%\n"
    }
   }
  },
  {
   "cell_type": "code",
   "execution_count": 2,
   "outputs": [
    {
     "name": "stdout",
     "output_type": "stream",
     "text": [
      "[5, 6]\n"
     ]
    }
   ],
   "source": [
    "lst = [1,2,3,4,5,6]\n",
    "num = len(lst)\n",
    "rem = num % 4\n",
    "print(lst[-rem:])"
   ],
   "metadata": {
    "collapsed": false,
    "pycharm": {
     "name": "#%%\n"
    }
   }
  }
 ],
 "metadata": {
  "kernelspec": {
   "name": "pycharm-73390ce4",
   "language": "python",
   "display_name": "PyCharm (keyword)"
  },
  "language_info": {
   "codemirror_mode": {
    "name": "ipython",
    "version": 2
   },
   "file_extension": ".py",
   "mimetype": "text/x-python",
   "name": "python",
   "nbconvert_exporter": "python",
   "pygments_lexer": "ipython2",
   "version": "2.7.6"
  }
 },
 "nbformat": 4,
 "nbformat_minor": 0
}